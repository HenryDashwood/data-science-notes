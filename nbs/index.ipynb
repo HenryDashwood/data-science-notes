{
 "cells": [
  {
   "cell_type": "code",
   "execution_count": null,
   "metadata": {},
   "outputs": [],
   "source": [
    "#| hide\n",
    "from data_science_notes.core import *"
   ]
  },
  {
   "attachments": {},
   "cell_type": "markdown",
   "metadata": {},
   "source": [
    "# Data Science Notes\n",
    "\n",
    "> Notes and examples of statistics, data science, and machine learning"
   ]
  }
 ],
 "metadata": {
  "kernelspec": {
   "display_name": "py3111",
   "language": "python",
   "name": "python3"
  }
 },
 "nbformat": 4,
 "nbformat_minor": 4
}
