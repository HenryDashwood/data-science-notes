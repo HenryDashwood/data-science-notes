{
 "cells": [
  {
   "attachments": {},
   "cell_type": "markdown",
   "metadata": {},
   "source": [
    "# Logistic Regression\n",
    "\n",
    "- skip_exec: true\n"
   ]
  },
  {
   "cell_type": "code",
   "execution_count": null,
   "metadata": {},
   "outputs": [],
   "source": [
    "import matplotlib.pyplot as plt\n",
    "import numpy as np\n",
    "from sklearn.datasets import load_iris\n",
    "from sklearn.linear_model import LinearRegression, LogisticRegression\n",
    "\n",
    "np.random.seed(42)\n",
    "\n",
    "plt.rcParams[\"figure.facecolor\"] = (1, 1, 1, 0)  # RGBA tuple with alpha=0\n",
    "plt.rcParams[\"axes.facecolor\"] = (1, 1, 1, 0)  # RGBA tuple with alpha=0\n"
   ]
  },
  {
   "attachments": {},
   "cell_type": "markdown",
   "metadata": {},
   "source": [
    "Regression models predict a continuous variable, such as rainfall amount or sunlight intensity. They can also predict probabilities, such as the probability that an image contains a cat. A probability-predicting regression model can be used as part of a classifier by imposing a decision rule - for example, if the probability is 50% or more, decide it's a cat.\n",
    "\n",
    "Logistic regression predicts probabilities, and is therefore a regression algorithm. However, it is commonly described as a classification method in the machine learning literature, because it can be (and is often) used to make classifiers. There are also \"true\" classification algorithms, such as SVMs, which only predict an outcome and do not provide a probability.\n"
   ]
  },
  {
   "attachments": {},
   "cell_type": "markdown",
   "metadata": {},
   "source": [
    "### High level usage using Scikit-Learn\n"
   ]
  },
  {
   "attachments": {},
   "cell_type": "markdown",
   "metadata": {},
   "source": [
    "The easiest way of training a logistic regression is probably with the Scikit-Learn library.\n"
   ]
  },
  {
   "cell_type": "code",
   "execution_count": null,
   "metadata": {},
   "outputs": [
    {
     "data": {
      "text/html": [
       "<style>#sk-container-id-1 {color: black;background-color: white;}#sk-container-id-1 pre{padding: 0;}#sk-container-id-1 div.sk-toggleable {background-color: white;}#sk-container-id-1 label.sk-toggleable__label {cursor: pointer;display: block;width: 100%;margin-bottom: 0;padding: 0.3em;box-sizing: border-box;text-align: center;}#sk-container-id-1 label.sk-toggleable__label-arrow:before {content: \"▸\";float: left;margin-right: 0.25em;color: #696969;}#sk-container-id-1 label.sk-toggleable__label-arrow:hover:before {color: black;}#sk-container-id-1 div.sk-estimator:hover label.sk-toggleable__label-arrow:before {color: black;}#sk-container-id-1 div.sk-toggleable__content {max-height: 0;max-width: 0;overflow: hidden;text-align: left;background-color: #f0f8ff;}#sk-container-id-1 div.sk-toggleable__content pre {margin: 0.2em;color: black;border-radius: 0.25em;background-color: #f0f8ff;}#sk-container-id-1 input.sk-toggleable__control:checked~div.sk-toggleable__content {max-height: 200px;max-width: 100%;overflow: auto;}#sk-container-id-1 input.sk-toggleable__control:checked~label.sk-toggleable__label-arrow:before {content: \"▾\";}#sk-container-id-1 div.sk-estimator input.sk-toggleable__control:checked~label.sk-toggleable__label {background-color: #d4ebff;}#sk-container-id-1 div.sk-label input.sk-toggleable__control:checked~label.sk-toggleable__label {background-color: #d4ebff;}#sk-container-id-1 input.sk-hidden--visually {border: 0;clip: rect(1px 1px 1px 1px);clip: rect(1px, 1px, 1px, 1px);height: 1px;margin: -1px;overflow: hidden;padding: 0;position: absolute;width: 1px;}#sk-container-id-1 div.sk-estimator {font-family: monospace;background-color: #f0f8ff;border: 1px dotted black;border-radius: 0.25em;box-sizing: border-box;margin-bottom: 0.5em;}#sk-container-id-1 div.sk-estimator:hover {background-color: #d4ebff;}#sk-container-id-1 div.sk-parallel-item::after {content: \"\";width: 100%;border-bottom: 1px solid gray;flex-grow: 1;}#sk-container-id-1 div.sk-label:hover label.sk-toggleable__label {background-color: #d4ebff;}#sk-container-id-1 div.sk-serial::before {content: \"\";position: absolute;border-left: 1px solid gray;box-sizing: border-box;top: 0;bottom: 0;left: 50%;z-index: 0;}#sk-container-id-1 div.sk-serial {display: flex;flex-direction: column;align-items: center;background-color: white;padding-right: 0.2em;padding-left: 0.2em;position: relative;}#sk-container-id-1 div.sk-item {position: relative;z-index: 1;}#sk-container-id-1 div.sk-parallel {display: flex;align-items: stretch;justify-content: center;background-color: white;position: relative;}#sk-container-id-1 div.sk-item::before, #sk-container-id-1 div.sk-parallel-item::before {content: \"\";position: absolute;border-left: 1px solid gray;box-sizing: border-box;top: 0;bottom: 0;left: 50%;z-index: -1;}#sk-container-id-1 div.sk-parallel-item {display: flex;flex-direction: column;z-index: 1;position: relative;background-color: white;}#sk-container-id-1 div.sk-parallel-item:first-child::after {align-self: flex-end;width: 50%;}#sk-container-id-1 div.sk-parallel-item:last-child::after {align-self: flex-start;width: 50%;}#sk-container-id-1 div.sk-parallel-item:only-child::after {width: 0;}#sk-container-id-1 div.sk-dashed-wrapped {border: 1px dashed gray;margin: 0 0.4em 0.5em 0.4em;box-sizing: border-box;padding-bottom: 0.4em;background-color: white;}#sk-container-id-1 div.sk-label label {font-family: monospace;font-weight: bold;display: inline-block;line-height: 1.2em;}#sk-container-id-1 div.sk-label-container {text-align: center;}#sk-container-id-1 div.sk-container {/* jupyter's `normalize.less` sets `[hidden] { display: none; }` but bootstrap.min.css set `[hidden] { display: none !important; }` so we also need the `!important` here to be able to override the default hidden behavior on the sphinx rendered scikit-learn.org. See: https://github.com/scikit-learn/scikit-learn/issues/21755 */display: inline-block !important;position: relative;}#sk-container-id-1 div.sk-text-repr-fallback {display: none;}</style><div id=\"sk-container-id-1\" class=\"sk-top-container\"><div class=\"sk-text-repr-fallback\"><pre>LogisticRegression(random_state=0)</pre><b>In a Jupyter environment, please rerun this cell to show the HTML representation or trust the notebook. <br />On GitHub, the HTML representation is unable to render, please try loading this page with nbviewer.org.</b></div><div class=\"sk-container\" hidden><div class=\"sk-item\"><div class=\"sk-estimator sk-toggleable\"><input class=\"sk-toggleable__control sk-hidden--visually\" id=\"sk-estimator-id-1\" type=\"checkbox\" checked><label for=\"sk-estimator-id-1\" class=\"sk-toggleable__label sk-toggleable__label-arrow\">LogisticRegression</label><div class=\"sk-toggleable__content\"><pre>LogisticRegression(random_state=0)</pre></div></div></div></div></div>"
      ],
      "text/plain": [
       "LogisticRegression(random_state=0)"
      ]
     },
     "execution_count": null,
     "metadata": {},
     "output_type": "execute_result"
    }
   ],
   "source": [
    "X = np.array([[1, 1], [1, 2], [1, 3], [1, 4], [1, 5]])\n",
    "y = np.array([0, 0, 0, 1, 1])\n",
    "\n",
    "model = LogisticRegression(random_state=0, solver=\"lbfgs\")\n",
    "model.fit(X, y)\n"
   ]
  },
  {
   "cell_type": "code",
   "execution_count": null,
   "metadata": {},
   "outputs": [
    {
     "data": {
      "text/plain": [
       "array([0.06291067, 0.16055632, 0.352715  , 0.60822136, 0.81559901])"
      ]
     },
     "execution_count": null,
     "metadata": {},
     "output_type": "execute_result"
    }
   ],
   "source": [
    "model.predict_proba(X)[:, 1]\n"
   ]
  },
  {
   "cell_type": "code",
   "execution_count": null,
   "metadata": {},
   "outputs": [
    {
     "data": {
      "text/plain": [
       "array([0, 0, 0, 1, 1])"
      ]
     },
     "execution_count": null,
     "metadata": {},
     "output_type": "execute_result"
    }
   ],
   "source": [
    "model.predict(X)\n"
   ]
  },
  {
   "attachments": {},
   "cell_type": "markdown",
   "metadata": {},
   "source": [
    "## Logistic regression from scratch\n"
   ]
  },
  {
   "attachments": {},
   "cell_type": "markdown",
   "metadata": {},
   "source": [
    "### Odds and Odds Ratio\n"
   ]
  },
  {
   "attachments": {},
   "cell_type": "markdown",
   "metadata": {},
   "source": [
    "Understanding logsitic regression begins with probability.\n",
    "\n",
    "The `probability` of an event is defined as:\n",
    "\n",
    "$$\n",
    "P(A) = \\frac{Number\\ of\\ ways\\ event\\ A\\ can\\ occur}{Total\\ number\\ of\\ possible\\ outcomes}\n",
    "$$\n",
    "\n",
    "For example:\n",
    "\n",
    "$$\n",
    "\\begin{align*}\n",
    "P(Heads) &= \\frac{1}{2} \\\\\n",
    "\\\\\n",
    "P(1\\ or\\ 2) &= \\frac{2}{6} = \\frac{1}{3} \\\\\n",
    "\\\\\n",
    "P(diamond\\ card) &= \\frac{13}{52} = \\frac{1}{4}\n",
    "\\end{align*}\n",
    "$$\n",
    "\n",
    "The `odds` of an event is defined as:\n",
    "\n",
    "$$\n",
    "\\begin{align*}\n",
    "odds &= \\frac{P(occurring)}{P(not\\ occurring)} = \\frac{p}{1 - p}\n",
    "\\end{align*}\n",
    "$$\n",
    "\n",
    "For example:\n",
    "\n",
    "$$\n",
    "\\begin{align*}\n",
    "odds(Heads) &= \\frac{P(Heads)}{P(Tails)} &= \\frac{\\frac{1}{2}}{\\frac{1}{2}} &= 1\\ or\\ 1:1 \\\\\n",
    "\\\\\n",
    "odds(1\\ or\\ 2) &= \\frac{P(1\\ or\\ 2)}{P(3\\ or\\ 4\\ or\\ 5\\ or\\ 6)} &= \\frac{\\frac{1}{3}}{\\frac{2}{3}} &= \\frac{1}{2}\\ or\\ 1:2 \\\\\n",
    "\\\\\n",
    "odds(diamond\\ card) &= \\frac{P(diamond\\ card)}{P(not\\ diamond\\ card)} &= \\frac{\\frac{1}{4}}{\\frac{3}{4}}& = \\frac{1}{3}\\ or\\ 1:3\n",
    "\\end{align*}\n",
    "$$\n"
   ]
  },
  {
   "attachments": {},
   "cell_type": "markdown",
   "metadata": {},
   "source": [
    "### Bernoulli Distribution\n"
   ]
  },
  {
   "attachments": {},
   "cell_type": "markdown",
   "metadata": {},
   "source": [
    "The dependent variable in logistic regression follows the Bernoulli distribution having an unknown probability $p$.\n",
    "\n",
    "The Bernoulli distribution is a special case of the Binomial distribution where $n = 1$ (in other words where there is just 1 trial).\n",
    "\n",
    "Success is 1 and failure is 0.\n",
    "\n",
    "The probability of success is $p$ and the probability of failure is $q$. So $q = 1 - p$.\n",
    "\n",
    "In logistic regression we are estimating an unknown $p$ for any given linear combination of the independent variables.\n",
    "\n",
    "We therefore need to link our inpedendent variables to the Bernoulli distribution. That link is called the logit.\n",
    "\n",
    "In logistic regression we do not know $p$ like we do in Bernoulli (and more broadly Binomial) distribution problems. The goal of logistic regression is to estimate $p$ for any given linear combination of the independent variables. The estimate of $p$ is called $\\hat{p}$.\n",
    "\n",
    "To tie our linear combination of variables to the Bernoulli distribution we need a function that maps the linear combination of variables that could result in any given value on to the Bernoulli probability distribution with a domain from 0 to 1. The natural log of the odds, the logit, is that function. This can be written a few ways:\n",
    "\n",
    "$$\n",
    "\\begin{align*}\n",
    "ln(odds) &= ln(\\frac{p}{1 - p})\\ \\text{or}\\ ln(p) - ln(1 - p)\\ \\text{or}\\ logit(p)\n",
    "\\end{align*}\n",
    "$$\n",
    "\n",
    "Note also that $ln(x) = log_e(x)$.\n",
    "\n",
    "On a graph this looks like:\n"
   ]
  },
  {
   "cell_type": "code",
   "execution_count": null,
   "metadata": {},
   "outputs": [
    {
     "data": {
      "image/png": "[encoded data removed]",
      "text/plain": [
       "<Figure size 900x600 with 1 Axes>"
      ]
     },
     "metadata": {
      "needs_background": "light"
     },
     "output_type": "display_data"
    }
   ],
   "source": [
    "fig, ax = plt.subplots(figsize=(9, 6))\n",
    "\n",
    "p = np.linspace(0.001, 0.999, 100)\n",
    "y = np.log(p / (1 - p))\n",
    "\n",
    "ax.plot(p, y, label=\"Logit function\")\n",
    "\n",
    "ax.set_xlim(-2.25, 2.25)\n",
    "ax.set_xticks(np.arange(-2, 2.1, 0.25))\n",
    "ax.xaxis.set_major_formatter(plt.FuncFormatter(lambda x, _: f\"{x:.2f}\".rstrip(\"0\").rstrip(\".\")))\n",
    "\n",
    "ax.set_yticks(np.arange(-6, 6.1, 1))\n",
    "\n",
    "ax.spines[\"left\"].set_position(\"zero\")\n",
    "ax.spines[\"bottom\"].set_position(\"zero\")\n",
    "ax.spines[\"right\"].set_color(\"none\")\n",
    "ax.spines[\"top\"].set_color(\"none\")\n",
    "\n",
    "ax.legend()\n",
    "ax.grid()\n",
    "plt.show()"
   ]
  },
  {
   "attachments": {},
   "cell_type": "markdown",
   "metadata": {},
   "source": [
    "This is close to what we want. However, the probabilities are currently on the x-axis. We want the probabilities to be on the y-axis. We can do this by inverting the function. We begin by remembering that the logit function is equivalent to a linear combination of the independent variables and their coefficients. We define this linear combination as:\n",
    "\n",
    "$$\n",
    "z = \\beta_0 + \\beta_1x_1 + ... + \\beta_kx_k\n",
    "$$\n",
    "\n",
    "where $x_1$ to $x_k$ are the independent variables, and $\\beta_0$ to $\\beta_k$ are the coefficients.\n",
    "\n",
    "$$\n",
    "\\begin{aligned}\n",
    "ln(\\frac{p}{1 - p}) &= z \\\\\n",
    "\\frac{p}{1 - p} &= e^z \\\\\n",
    "p &= (1 - p)e^z \\\\\n",
    "p &= e^z - pe^z \\\\\n",
    "p + pe^z &= e^z \\\\\n",
    "p(1 + e^z) &= e^z \\\\\n",
    "p &= \\frac{e^z}{1 + e^z}\n",
    "\\end{aligned}\n",
    "$$\n",
    "\n",
    "where $p$ is between 0 and 1.\n",
    "\n",
    "On a graph it looks like this:\n"
   ]
  },
  {
   "cell_type": "code",
   "execution_count": null,
   "metadata": {},
   "outputs": [
    {
     "data": {
      "image/png": "[encoded data removed]",
      "text/plain": [
       "<Figure size 800x600 with 1 Axes>"
      ]
     },
     "metadata": {
      "needs_background": "light"
     },
     "output_type": "display_data"
    }
   ],
   "source": [
    "fig, ax = plt.subplots(figsize=(8, 6))\n",
    "\n",
    "a = np.linspace(-5.01, 5.01, 100)\n",
    "y = np.exp(a) / (1 + np.exp(a))\n",
    "\n",
    "ax.plot(a, y, label=\"Inverse Logit Function\")\n",
    "\n",
    "ax.set_ylim(-2.25, 2.25)\n",
    "ax.set_yticks(np.arange(-2, 2.1, 0.5))\n",
    "ax.yaxis.set_major_formatter(plt.FuncFormatter(lambda y, _: f\"{y:.2f}\".rstrip(\"0\").rstrip(\".\")))\n",
    "\n",
    "ax.set_xticks(np.arange(-5, 6, 1))\n",
    "\n",
    "ax.spines[\"left\"].set_position(\"zero\")\n",
    "ax.spines[\"bottom\"].set_position(\"zero\")\n",
    "ax.spines[\"right\"].set_color(\"none\")\n",
    "ax.spines[\"top\"].set_color(\"none\")\n",
    "\n",
    "ax.legend()\n",
    "ax.grid()\n",
    "plt.show()\n"
   ]
  },
  {
   "attachments": {},
   "cell_type": "markdown",
   "metadata": {},
   "source": [
    "This is known as the `sigmoid` or `logistic` function ($\\sigma$), or the `estimated regression equation`. It is a non-linear function that maps real-valued inputs to the range $[0, 1]$. It is used in logistic regression to model the probability that an instance belongs to a particular class.\n"
   ]
  },
  {
   "attachments": {},
   "cell_type": "markdown",
   "metadata": {},
   "source": [
    "### Finding the coefficients with Maximum Likelihood Estimation (MLE)\n"
   ]
  },
  {
   "attachments": {},
   "cell_type": "markdown",
   "metadata": {},
   "source": [
    "For our model to be useful, we still need to find a good set off coefficents to substitute into our regression equation. The coefficients for logistic regression are often calculated using `maximum likelihood estimation (MLE)`.\n",
    "\n",
    "The likelihood function is a product of individual probabilities for each observation in the data set.\n",
    "\n",
    "$$\n",
    "L(\\boldsymbol{\\beta}) = \\prod_{i=1}^{n} p(\\mathbf{x}_i)^{y_i} (1 - p(\\mathbf{x}_i))^{1 - y_i}\n",
    "$$\n",
    "\n",
    "where:\n",
    "\n",
    "- $L(\\boldsymbol{\\beta})$ is the vector of coefficients in the logistic regression model.\n",
    "- $\\mathbf{x}_i$ is the vector of features for observation $i$.\n",
    "- $y_i$ is the outcome for observation $i$.\n",
    "- $p(\\mathbf{x}_i)$ is the predicted probability of the positive class for observation $i$, as given by the logistic function applied to $\\mathbf{x}_i \\cdot \\boldsymbol{\\beta}$.\n",
    "\n",
    "Each of these probabilities is computed using the logistic function.\n",
    "\n",
    "The goal of MLE in logistic regression is to find the set of parameters that maximises this likelihood function. This is typically done using iterative optimization algorithms such as gradient ascent (since we're maximizing a function) or its variants.\n",
    "\n",
    "However, for reasons of numerical stability we generally work with the log-likelihood function instead of the likelihood function. The log-likelihood equation is:\n",
    "\n",
    "$$\n",
    "\\log L(\\boldsymbol{\\beta}) = \\sum_{i=1}^{n} \\left[ y_i \\log p(\\mathbf{x}_i) + (1 - y_i) \\log (1 - p(\\mathbf{x}_i)) \\right]\n",
    "$$\n"
   ]
  },
  {
   "attachments": {},
   "cell_type": "markdown",
   "metadata": {},
   "source": [
    "The derivative of the logistic function is:\n",
    "\n",
    "$$\\frac{d}{dz} \\sigma(z) = \\sigma(z) (1 - \\sigma(z))$$\n"
   ]
  },
  {
   "attachments": {},
   "cell_type": "markdown",
   "metadata": {},
   "source": [
    "## Example\n"
   ]
  },
  {
   "attachments": {},
   "cell_type": "markdown",
   "metadata": {},
   "source": [
    "It's also very easy to train our own logistic regression model. The process is as follows:\n",
    "\n",
    "1. Initialise the weights. This could be done randomly, or with zeros to make the model deterministic, or with some other method.\n",
    "2. Calculate the output of the current version model, given the inputs and the weights.\n",
    "\n",
    "   The line `scores = np.dot(X, weights)` performs the dot product of the input features `X` with the corresponding `weights`. In the context of logistic regression, this dot product is the weighted sum of the features for each sample in the dataset. The result of this operation is a score for each sample that indicates how strongly it belongs to the positive class.\n",
    "\n",
    "   If `X` is a matrix where rows represent different samples and columns represent different features, and weights is a 1D array where each element corresponds to the weight of a feature, then `np.dot(X, weights)` will be a 1D array where each element is the weighted sum for a sample. That is, it represents the linear combination of the features for each sample.\n",
    "\n",
    "   For instance:\n",
    "\n",
    "   $$\n",
    "   \\begin{align}\n",
    "   \\begin{bmatrix}\n",
    "   1 & 2 \\\\\n",
    "   3 & 4 \\\\\n",
    "   5 & 6\n",
    "   \\end{bmatrix}\n",
    "   \\cdot\n",
    "   \\begin{bmatrix}\n",
    "   0.5 \\\\\n",
    "   0.6\n",
    "   \\end{bmatrix}\n",
    "   &= \\begin{bmatrix}\n",
    "   1 \\cdot 0.5 + 2 \\cdot 0.6 \\\\\n",
    "   3 \\cdot 0.5 + 4 \\cdot 0.6 \\\\\n",
    "   5 \\cdot 0.5 + 6 \\cdot 0.6\n",
    "   \\end{bmatrix} \\\\\n",
    "   &= \\begin{bmatrix}\n",
    "   1.7 \\\\\n",
    "   3.9 \\\\\n",
    "   6.1\n",
    "   \\end{bmatrix}\n",
    "   \\end{align}\n",
    "   $$\n",
    "\n",
    "   This essentially projects the feature vectors onto the weights vector, resulting in a single scalar value (the \"score\") for each sample.\n",
    "\n",
    "3. These scores are then passed through the `sigmoid` function to produce the predicted probability of the positive class for each sample.\n",
    "4. We then update the weights using `maximum likelihood estimation`. This means:\n",
    "\n",
    "   1. The predicted probabilities are subtracted from the actual labels to produce the error.\n",
    "   2. We then calculate the gradient of the log-likelihood with respect to the weights.\n",
    "\n",
    "      In order to perform this operation correctly, we need to multiply the `n x m` matrix `X` with the `n x 1` matrix `error` (where `n` is the number of observations and `m` is the number of features). However, the standard rules of matrix multiplication don't allow us to multiply these two matrices in this order, because the number of columns of the first matrix doesn't match the number of rows of the second matrix. So we transpose `X` into an `m x n` matrix `X.T` where the number of columns in `X.T` matches the number of rows in the `error` matrix. The result is an `m x 1` matrix, which represents the gradient of the log-likelihood with respect to each feature's weight.\n",
    "\n",
    "      Or to put it another way, we have calculated the contribution of each feature to the error for each observation, and then summed these contributions over all observations.\n",
    "\n",
    "   3. The weights are then updated by adding the gradient multiplied by the learning rate. The learning rate controls how much the weights are changed in response to the error. If the learning rate is too high, the weights will change too much and the model will not converge. If the learning rate is too low, the model will take a long time to converge.\n",
    "\n",
    "Along the way we also calculate the negative log-likelihood to illustrate how well our model is converging.\n"
   ]
  },
  {
   "cell_type": "code",
   "execution_count": null,
   "metadata": {},
   "outputs": [],
   "source": [
    "def sigmoid(x):\n",
    "    return 1 / (1 + np.exp(-x))\n",
    "\n",
    "\n",
    "def predict_proba(x, weights):\n",
    "    scores = np.dot(x, weights)\n",
    "    return sigmoid(scores)\n",
    "\n",
    "\n",
    "def negative_log_likelihood(X, y, weights):\n",
    "    scores = np.dot(X, weights)\n",
    "    log_likelihood = np.sum(y * scores - np.log(1 + np.exp(scores)))\n",
    "    return -log_likelihood\n",
    "\n",
    "\n",
    "def logistic_regression(X, y, num_steps: int, learning_rate: float, silent: bool = False):\n",
    "    weights = np.zeros(X.shape[1])\n",
    "\n",
    "    for step in range(num_steps):\n",
    "        predicted_probabilities = predict_proba(X, weights)\n",
    "\n",
    "        error = y - predicted_probabilities\n",
    "        gradient = np.dot(X.T, error)\n",
    "        weights += learning_rate * gradient\n",
    "\n",
    "        if step % 100000 == 0:\n",
    "            print(f\"Negative log-likelihood at step {step}: {negative_log_likelihood(X, y, weights)}\")\n",
    "\n",
    "    return weights\n"
   ]
  },
  {
   "attachments": {},
   "cell_type": "markdown",
   "metadata": {},
   "source": [
    "We can then fit it like so:\n"
   ]
  },
  {
   "cell_type": "code",
   "execution_count": null,
   "metadata": {},
   "outputs": [
    {
     "name": "stdout",
     "output_type": "stream",
     "text": [
      "Negative log-likelihood at step 0: 3.465610934830976\n",
      "Negative log-likelihood at step 100000: 1.6612460527415533\n",
      "Negative log-likelihood at step 200000: 1.2058437634360355\n",
      "Negative log-likelihood at step 300000: 0.9896429709538741\n",
      "Negative log-likelihood at step 400000: 0.8576781489870338\n",
      "Negative log-likelihood at step 500000: 0.766062385341013\n",
      "Negative log-likelihood at step 600000: 0.697364426602992\n",
      "Negative log-likelihood at step 700000: 0.6431658475892499\n",
      "Negative log-likelihood at step 800000: 0.5988480247519807\n",
      "Negative log-likelihood at step 900000: 0.5616385926438348\n",
      "Weights: [-8.92141553  2.604058  ]\n"
     ]
    }
   ],
   "source": [
    "weights = logistic_regression(X, y, num_steps=1000000, learning_rate=5e-5)\n",
    "print(\"Weights:\", weights)"
   ]
  },
  {
   "cell_type": "code",
   "execution_count": null,
   "metadata": {},
   "outputs": [
    {
     "data": {
      "text/plain": [
       "array([0.00180145, 0.02381586, 0.24801232, 0.8168001 , 0.98367944])"
      ]
     },
     "execution_count": null,
     "metadata": {},
     "output_type": "execute_result"
    }
   ],
   "source": [
    "predict_proba(X, weights)\n"
   ]
  },
  {
   "attachments": {},
   "cell_type": "markdown",
   "metadata": {},
   "source": [
    "Finally we can see that our from scratch model makes similar predictions to the `sklearn` model and that both sets of predictions are very close to the actual labels.\n"
   ]
  },
  {
   "cell_type": "code",
   "execution_count": null,
   "metadata": {},
   "outputs": [
    {
     "data": {
      "image/png": "[encoded data removed]",
      "text/plain": [
       "<Figure size 500x400 with 1 Axes>"
      ]
     },
     "metadata": {
      "needs_background": "light"
     },
     "output_type": "display_data"
    }
   ],
   "source": [
    "fig, ax = plt.subplots(figsize=(5, 4))\n",
    "ax.scatter(X[:, 1], y, color=\"C0\", label=\"Data\")\n",
    "ax.scatter(X[:, 1], predict_proba(X, weights), color=\"C1\", label=\"Our model predictions\", marker=\"x\")\n",
    "ax.scatter(X[:, 1], model.predict_proba(X)[:, 1], color=\"C2\", label=\"Sklearn model predictions\", marker=\"x\")\n",
    "ax.legend()\n",
    "ax.set_xlabel(\"X\")\n",
    "ax.set_ylabel(\"y\")\n",
    "ax.set_title(\"Logistic regression predictions\")\n",
    "plt.show()\n"
   ]
  },
  {
   "attachments": {},
   "cell_type": "markdown",
   "metadata": {},
   "source": [
    "## Why not use linear regression?\n"
   ]
  },
  {
   "attachments": {},
   "cell_type": "markdown",
   "metadata": {},
   "source": [
    "A linear model does not output probabilities. It treats the classes as numbers (0 and 1) and fits the best hyperplane (for a single feature, it is a line) that minimises the distances between the points and the hyperplane. Tt simply interpolates between the points, and you cannot interpret it as probabilities.\n",
    "\n",
    "We can see it going wrong when it predicts values outside the range of 0 and 1. We can also how interpolation breaks when the x values are very large or very small. In contrast the logistic regression model remains reliable at each extreme.\n"
   ]
  },
  {
   "cell_type": "code",
   "execution_count": null,
   "metadata": {},
   "outputs": [
    {
     "data": {
      "image/png": "[encoded data removed]",
      "text/plain": [
       "<Figure size 400x300 with 1 Axes>"
      ]
     },
     "metadata": {
      "needs_background": "light"
     },
     "output_type": "display_data"
    }
   ],
   "source": [
    "n_samples = 100\n",
    "X = np.random.normal(size=n_samples)\n",
    "y = (X > 0).astype(float)\n",
    "\n",
    "X[X > 0] *= 4\n",
    "X += 0.3 * np.random.normal(size=n_samples)\n",
    "X = X[:, np.newaxis]\n",
    "\n",
    "X_test = np.linspace(-5, 10, 300)\n",
    "\n",
    "lin_reg = LinearRegression()\n",
    "lin_reg.fit(X, y)\n",
    "\n",
    "log_reg = LogisticRegression(C=1e5)\n",
    "log_reg.fit(X, y)\n",
    "\n",
    "fig, ax = plt.subplots(figsize=(4, 3))\n",
    "ax.scatter(X.ravel(), y, color=\"C0\", label=\"Data\", marker=\".\")\n",
    "ax.plot(X_test, X_test * lin_reg.coef_ + lin_reg.intercept_, color=\"C1\", label=\"Linear Regression\")\n",
    "ax.plot(X_test, sigmoid(X_test * log_reg.coef_ + log_reg.intercept_).ravel(), color=\"C2\", label=\"Logistic Regression\")\n",
    "\n",
    "ax.set_yticks([0, 0.25, 0.5, 0.75, 1])\n",
    "ax.set_ylim(-0.1, 1.1)\n",
    "ax.set_ylabel(\"y\")\n",
    "ax.set_xticks(range(-5, 10))\n",
    "ax.set_xlim(-4, 10)\n",
    "ax.set_xlabel(\"x\")\n",
    "ax.legend(loc=\"best\")\n",
    "ax.grid()\n",
    "plt.axhline(0.5, color=\"0.5\")\n",
    "plt.tight_layout()\n",
    "plt.show()"
   ]
  },
  {
   "attachments": {},
   "cell_type": "markdown",
   "metadata": {},
   "source": [
    "## Interpreting how a change in a feature affects the probability of the target being 1\n"
   ]
  },
  {
   "attachments": {},
   "cell_type": "markdown",
   "metadata": {},
   "source": [
    "### Odds Ratio\n"
   ]
  },
  {
   "attachments": {},
   "cell_type": "markdown",
   "metadata": {},
   "source": [
    "The `odds ratio` is a ratio of 2 odds.:\n",
    "\n",
    "$$\n",
    "\\begin{align*}\n",
    "odds\\ ratio &= \\frac{odds\\ of\\ event\\ A}{odds\\ of\\ event\\ B} \\\\\n",
    "\\end{align*}\n",
    "$$\n",
    "\n",
    "For example, suppose we have a loaded coin such that:\n",
    "\n",
    "$$\n",
    "\\begin{align*}\n",
    "P(Heads) &= \\frac{7}{10} = 0.7 \\\\\n",
    "odds(Heads) &= \\frac{0.7}{1 - 0.7} ~= 2.333 \\\\\n",
    "\\end{align*}\n",
    "$$\n",
    "\n",
    "The odds ratio of this coin compared to a fair coin is:\n",
    "\n",
    "$$\n",
    "\\begin{align*}\n",
    "odds\\ ratio = \\frac{odds_1}{odds_0} = \\frac{\\frac{p_1}{1 - p_1}}{\\frac{p_0}{1 - p_0}} = \\frac{\\frac{0.7}{1 - 0.7}}{\\frac{0.5}{1 - 0.5}} = \\frac{0.7}{0.3} \\times \\frac{0.5}{0.5} = \\frac{0.35}{0.15} = 2.333\n",
    "\\end{align*}\n",
    "$$\n",
    "\n",
    "This is means the odds of getting heads with the loaded coin is 2.333 times greater than the odds of getting heads with a fair coin. (The odds and odds ratio are the same for tails in this example because the odds of heads with a fair coin is 1).\n",
    "\n",
    "The odds ratio for a variable in logistic regression represents how the odds change for a 1 unit increase in that variable holding all other variables constant. To take a fictious example:\n",
    "\n",
    "- Body weight and sleep apnea (2 categories: apnea / no apnea).\n",
    "- Weight variable has an odds ratio of 1.07.\n",
    "- This means that a 1 unit increase in weight increases the odds of having sleep apnea by 1.07\n",
    "- A 10 pound increase in weight increases the odds of having sleep apnea to $1.07^{10} = 1.967$. It almost doubles a person's odds of having sleep apnea.\n",
    "- This holds true at any point on the weight spectrum.\n"
   ]
  }
 ],
 "metadata": {
  "kernelspec": {
   "display_name": "python3",
   "language": "python",
   "name": "python3"
  }
 },
 "nbformat": 4,
 "nbformat_minor": 2
}
