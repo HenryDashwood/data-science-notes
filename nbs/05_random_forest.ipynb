{
 "cells": [
  {
   "attachments": {},
   "cell_type": "markdown",
   "metadata": {},
   "source": [
    "# Random Forest\n",
    "\n",
    "- skip_exec: true\n"
   ]
  },
  {
   "attachments": {},
   "cell_type": "markdown",
   "metadata": {},
   "source": [
    "What is a random forest?\n",
    "\n",
    "- A universal machine learning algorithm that can be used for both classification and regression problems.\n",
    "- A way of predicting something of any kind. It could be a category or a continuous value.\n",
    "- It can predict it with columns of any kind. The columns could contain data about pixels, postcodes, revenue, etc.\n",
    "- It is very resistant to overfitting, and where it does overfit, it is easy to fix.\n",
    "- It does not require a separate validation set. In general it can tell you how well it generalises even if you only have one data set.\n",
    "- It has few if any statistical assumptions about the data. E.g. it does not assume that the data is normally distributed, that the data is linear, that the data is balanced, etc.\n",
    "- It does not require lots of feature engineering.\n"
   ]
  },
  {
   "attachments": {},
   "cell_type": "markdown",
   "metadata": {},
   "source": [
    "The curse of dimensionality is a largely meaningless concept in machine learning. The idea is having more columns creates a space that is more \"empty\" because the more dimensions you have the likelier it is that a point sits on the edge of a particular dimension. In theory this means that the distance between points is less meaningful in higher dimensions. This isn't actually a problem. Points do still have meaniful distances across other dimensions so you can still say one point is more or less similar to another. So e.g. K nearest neighbours still works fine in high dimensions. The curse of dimensionality is a problem in statistics, but not in machine learning.\n",
    "\n",
    "In fact when doing feature engineering for machine learning you should add columns if they contain any information that could be useful to your model.\n"
   ]
  },
  {
   "attachments": {},
   "cell_type": "markdown",
   "metadata": {},
   "source": [
    "## Hyperparameters\n"
   ]
  },
  {
   "attachments": {},
   "cell_type": "markdown",
   "metadata": {},
   "source": [
    "`min_samples_leaf` - The minimum number of samples in a leaf. If a leaf has fewer than this number of samples, it will be merged with another leaf. This is a way of preventing overfitting. The default is 1, which means that every leaf will have at least one sample in it. If you have a lot of data, you can set this to a higher number. If you have a small amount of data, you can set this to a lower number.\n",
    "\n",
    "`max_features` - The maximum number of features that will be considered when splitting a node. The default is `sqrt`, which means that the number of features will be the square root of the number of columns in the data set. If you have a lot of columns, you can set this to a higher number. If you have a small number of columns, you can set this to a lower number.\n"
   ]
  },
  {
   "attachments": {},
   "cell_type": "markdown",
   "metadata": {},
   "source": [
    "## Implementation\n"
   ]
  },
  {
   "cell_type": "code",
   "execution_count": null,
   "metadata": {},
   "outputs": [],
   "source": [
    "import math\n",
    "import re\n",
    "\n",
    "import numpy as np\n",
    "import pandas as pd\n",
    "from pandas.api.types import is_string_dtype\n",
    "from fastai.tabular.all import add_datepart, cont_cat_split, Categorify, FillMissing, TabularPandas\n",
    "from sklearn import set_config\n",
    "from sklearn.compose import ColumnTransformer\n",
    "from sklearn.ensemble import RandomForestRegressor\n",
    "from sklearn.impute import SimpleImputer\n",
    "from sklearn.pipeline import Pipeline\n",
    "from sklearn.preprocessing import FunctionTransformer"
   ]
  },
  {
   "cell_type": "code",
   "execution_count": null,
   "metadata": {},
   "outputs": [],
   "source": [
    "pd.set_option('display.max_columns', None)\n",
    "np.random.seed(42)\n",
    "set_config(transform_output=\"pandas\")"
   ]
  },
  {
   "cell_type": "code",
   "execution_count": null,
   "metadata": {},
   "outputs": [],
   "source": [
    "def r_mse(pred,y): \n",
    "    return round(math.sqrt(((pred-y)**2).mean()), 6)\n",
    "\n",
    "def m_rmse(m, xs, y): \n",
    "    return r_mse(m.predict(xs), y)"
   ]
  },
  {
   "cell_type": "code",
   "execution_count": null,
   "metadata": {},
   "outputs": [],
   "source": [
    "df = pd.read_csv(f\"../data/bluebook-for-bulldozers/TrainAndValid.csv\", low_memory=False, parse_dates=[\"saledate\"])\n",
    "df[\"SalePrice\"] = np.log(df[\"SalePrice\"])"
   ]
  },
  {
   "cell_type": "code",
   "execution_count": null,
   "metadata": {},
   "outputs": [],
   "source": [
    "idxs = sorted(np.random.permutation(len(df))[:30000])\n",
    "df = df.iloc[idxs].copy()"
   ]
  },
  {
   "cell_type": "code",
   "execution_count": null,
   "metadata": {},
   "outputs": [],
   "source": [
    "cond = (df[\"saledate\"] < \"2011-10-01\")\n",
    "train_idx = np.where(cond)[0]\n",
    "valid_idx = np.where(~cond)[0]\n",
    "splits = (list(train_idx), list(valid_idx))"
   ]
  },
  {
   "cell_type": "code",
   "execution_count": null,
   "metadata": {},
   "outputs": [],
   "source": [
    "df[\"ProductSize\"] = df[\"ProductSize\"].astype(\"category\")\n",
    "df[\"ProductSize\"] = df[\"ProductSize\"].cat.set_categories(\n",
    "    [\"Compact\", \"Mini\", \"Small\", \"Medium\", \"Large / Medium\", \"Large\"], ordered=True\n",
    ")\n",
    "\n",
    "df[\"UsageBand\"] = df[\"UsageBand\"].astype(\"category\")\n",
    "df[\"UsageBand\"] = df[\"UsageBand\"].cat.set_categories([\"Low\", \"Medium\", \"High\"], ordered=True)\n",
    "\n",
    "df[\"datasource\"] = df[\"datasource\"].astype(\"category\")"
   ]
  },
  {
   "attachments": {},
   "cell_type": "markdown",
   "metadata": {},
   "source": [
    "### FastAI Data Pipeline\n"
   ]
  },
  {
   "cell_type": "code",
   "execution_count": null,
   "metadata": {},
   "outputs": [],
   "source": [
    "fa_df = df.copy()"
   ]
  },
  {
   "cell_type": "code",
   "execution_count": null,
   "metadata": {},
   "outputs": [],
   "source": [
    "fa_df = add_datepart(fa_df, \"saledate\", drop=True)"
   ]
  },
  {
   "cell_type": "code",
   "execution_count": null,
   "metadata": {},
   "outputs": [],
   "source": [
    "conts, cats = cont_cat_split(fa_df, max_card=3, dep_var=\"SalePrice\")"
   ]
  },
  {
   "attachments": {},
   "cell_type": "markdown",
   "metadata": {},
   "source": [
    "Categorical variables are made up of discrete levels, such as gender or product type for which addition and multiplication don't have meaning (even if they're stored as numbers). To use them in the model though we need to convert them to numbers.\n"
   ]
  },
  {
   "cell_type": "code",
   "execution_count": null,
   "metadata": {},
   "outputs": [],
   "source": [
    "procs = [Categorify, FillMissing]"
   ]
  },
  {
   "cell_type": "code",
   "execution_count": null,
   "metadata": {},
   "outputs": [],
   "source": [
    "to = TabularPandas(fa_df, procs, cats, conts, y_names=\"SalePrice\", splits=splits)"
   ]
  },
  {
   "cell_type": "code",
   "execution_count": null,
   "metadata": {},
   "outputs": [
    {
     "data": {
      "text/html": [
       "<style>#sk-container-id-124 {color: black;background-color: white;}#sk-container-id-124 pre{padding: 0;}#sk-container-id-124 div.sk-toggleable {background-color: white;}#sk-container-id-124 label.sk-toggleable__label {cursor: pointer;display: block;width: 100%;margin-bottom: 0;padding: 0.3em;box-sizing: border-box;text-align: center;}#sk-container-id-124 label.sk-toggleable__label-arrow:before {content: \"▸\";float: left;margin-right: 0.25em;color: #696969;}#sk-container-id-124 label.sk-toggleable__label-arrow:hover:before {color: black;}#sk-container-id-124 div.sk-estimator:hover label.sk-toggleable__label-arrow:before {color: black;}#sk-container-id-124 div.sk-toggleable__content {max-height: 0;max-width: 0;overflow: hidden;text-align: left;background-color: #f0f8ff;}#sk-container-id-124 div.sk-toggleable__content pre {margin: 0.2em;color: black;border-radius: 0.25em;background-color: #f0f8ff;}#sk-container-id-124 input.sk-toggleable__control:checked~div.sk-toggleable__content {max-height: 200px;max-width: 100%;overflow: auto;}#sk-container-id-124 input.sk-toggleable__control:checked~label.sk-toggleable__label-arrow:before {content: \"▾\";}#sk-container-id-124 div.sk-estimator input.sk-toggleable__control:checked~label.sk-toggleable__label {background-color: #d4ebff;}#sk-container-id-124 div.sk-label input.sk-toggleable__control:checked~label.sk-toggleable__label {background-color: #d4ebff;}#sk-container-id-124 input.sk-hidden--visually {border: 0;clip: rect(1px 1px 1px 1px);clip: rect(1px, 1px, 1px, 1px);height: 1px;margin: -1px;overflow: hidden;padding: 0;position: absolute;width: 1px;}#sk-container-id-124 div.sk-estimator {font-family: monospace;background-color: #f0f8ff;border: 1px dotted black;border-radius: 0.25em;box-sizing: border-box;margin-bottom: 0.5em;}#sk-container-id-124 div.sk-estimator:hover {background-color: #d4ebff;}#sk-container-id-124 div.sk-parallel-item::after {content: \"\";width: 100%;border-bottom: 1px solid gray;flex-grow: 1;}#sk-container-id-124 div.sk-label:hover label.sk-toggleable__label {background-color: #d4ebff;}#sk-container-id-124 div.sk-serial::before {content: \"\";position: absolute;border-left: 1px solid gray;box-sizing: border-box;top: 0;bottom: 0;left: 50%;z-index: 0;}#sk-container-id-124 div.sk-serial {display: flex;flex-direction: column;align-items: center;background-color: white;padding-right: 0.2em;padding-left: 0.2em;position: relative;}#sk-container-id-124 div.sk-item {position: relative;z-index: 1;}#sk-container-id-124 div.sk-parallel {display: flex;align-items: stretch;justify-content: center;background-color: white;position: relative;}#sk-container-id-124 div.sk-item::before, #sk-container-id-124 div.sk-parallel-item::before {content: \"\";position: absolute;border-left: 1px solid gray;box-sizing: border-box;top: 0;bottom: 0;left: 50%;z-index: -1;}#sk-container-id-124 div.sk-parallel-item {display: flex;flex-direction: column;z-index: 1;position: relative;background-color: white;}#sk-container-id-124 div.sk-parallel-item:first-child::after {align-self: flex-end;width: 50%;}#sk-container-id-124 div.sk-parallel-item:last-child::after {align-self: flex-start;width: 50%;}#sk-container-id-124 div.sk-parallel-item:only-child::after {width: 0;}#sk-container-id-124 div.sk-dashed-wrapped {border: 1px dashed gray;margin: 0 0.4em 0.5em 0.4em;box-sizing: border-box;padding-bottom: 0.4em;background-color: white;}#sk-container-id-124 div.sk-label label {font-family: monospace;font-weight: bold;display: inline-block;line-height: 1.2em;}#sk-container-id-124 div.sk-label-container {text-align: center;}#sk-container-id-124 div.sk-container {/* jupyter's `normalize.less` sets `[hidden] { display: none; }` but bootstrap.min.css set `[hidden] { display: none !important; }` so we also need the `!important` here to be able to override the default hidden behavior on the sphinx rendered scikit-learn.org. See: https://github.com/scikit-learn/scikit-learn/issues/21755 */display: inline-block !important;position: relative;}#sk-container-id-124 div.sk-text-repr-fallback {display: none;}</style><div id=\"sk-container-id-124\" class=\"sk-top-container\"><div class=\"sk-text-repr-fallback\"><pre>RandomForestRegressor(n_jobs=-1, random_state=42)</pre><b>In a Jupyter environment, please rerun this cell to show the HTML representation or trust the notebook. <br />On GitHub, the HTML representation is unable to render, please try loading this page with nbviewer.org.</b></div><div class=\"sk-container\" hidden><div class=\"sk-item\"><div class=\"sk-estimator sk-toggleable\"><input class=\"sk-toggleable__control sk-hidden--visually\" id=\"sk-estimator-id-610\" type=\"checkbox\" checked><label for=\"sk-estimator-id-610\" class=\"sk-toggleable__label sk-toggleable__label-arrow\">RandomForestRegressor</label><div class=\"sk-toggleable__content\"><pre>RandomForestRegressor(n_jobs=-1, random_state=42)</pre></div></div></div></div></div>"
      ],
      "text/plain": [
       "RandomForestRegressor(n_jobs=-1, random_state=42)"
      ]
     },
     "execution_count": null,
     "metadata": {},
     "output_type": "execute_result"
    }
   ],
   "source": [
    "rf_to = RandomForestRegressor(n_jobs=-1, random_state=42)\n",
    "rf_to.fit(to.train.xs, to.train.y)"
   ]
  },
  {
   "cell_type": "code",
   "execution_count": null,
   "metadata": {},
   "outputs": [
    {
     "data": {
      "text/plain": [
       "0.302871"
      ]
     },
     "execution_count": null,
     "metadata": {},
     "output_type": "execute_result"
    }
   ],
   "source": [
    "m_rmse(rf_to, to.valid.xs, to.valid.y)"
   ]
  },
  {
   "attachments": {},
   "cell_type": "markdown",
   "metadata": {},
   "source": [
    "### Scikit-Learn data pipeline\n"
   ]
  },
  {
   "cell_type": "code",
   "execution_count": null,
   "metadata": {},
   "outputs": [],
   "source": [
    "sk_df = df.copy()"
   ]
  },
  {
   "cell_type": "code",
   "execution_count": null,
   "metadata": {},
   "outputs": [],
   "source": [
    "def add_datepart(df: pd.DataFrame, column_name: str, drop: bool = False) -> pd.DataFrame:\n",
    "    prefix = re.sub(\"[Dd]ate$\", \"\", column_name)\n",
    "    attr = [\n",
    "        \"Year\",\n",
    "        \"Month\",\n",
    "        \"Week\",\n",
    "        \"Day\",\n",
    "        \"Dayofweek\",\n",
    "        \"Dayofyear\",\n",
    "        \"Is_month_end\",\n",
    "        \"Is_month_start\",\n",
    "        \"Is_quarter_end\",\n",
    "        \"Is_quarter_start\",\n",
    "        \"Is_year_end\",\n",
    "        \"Is_year_start\",\n",
    "    ]\n",
    "    col = df[column_name]\n",
    "    week = (\n",
    "        col.dt.isocalendar().week.astype(col.dt.day.dtype) if hasattr(col.dt, \"isocalendar\") else col.dt.week\n",
    "    )\n",
    "    for n in attr:\n",
    "        df[f\"{prefix}{n}\"] = getattr(col.dt, n.lower()) if n != \"Week\" else week\n",
    "    df[prefix + \"Elapsed\"] = np.where(~col.isna(), col.values.astype(np.int64) // 10 ** 9,np.nan)\n",
    "    if drop:\n",
    "        df = df.drop(column_name, axis=1)\n",
    "    return df\n",
    "\n",
    "def cont_cat_split(df, max_card=2, dep_var=None):\n",
    "    \"Helper function that returns column names of cont and cat variables from given `df`.\"\n",
    "    cont_names, cat_names = [], []\n",
    "    for label in df:\n",
    "        if label == dep_var:\n",
    "            continue\n",
    "        if (\n",
    "            pd.api.types.is_integer_dtype(df[label].dtype) and df[label].unique().shape[0] > max_card\n",
    "        ) or pd.api.types.is_float_dtype(df[label].dtype):\n",
    "            cont_names.append(label)\n",
    "        else:\n",
    "            cat_names.append(label)\n",
    "    return cont_names, cat_names"
   ]
  },
  {
   "cell_type": "code",
   "execution_count": null,
   "metadata": {},
   "outputs": [],
   "source": [
    "sk_df = add_datepart(sk_df, \"saledate\", drop=True)"
   ]
  },
  {
   "cell_type": "code",
   "execution_count": null,
   "metadata": {},
   "outputs": [],
   "source": [
    "conts, cats = cont_cat_split(sk_df, max_card=3, dep_var=\"SalePrice\")"
   ]
  },
  {
   "cell_type": "code",
   "execution_count": null,
   "metadata": {},
   "outputs": [],
   "source": [
    "sk_df_train = sk_df.iloc[train_idx].copy()\n",
    "sk_df_valid = sk_df.iloc[valid_idx].copy()"
   ]
  },
  {
   "cell_type": "code",
   "execution_count": null,
   "metadata": {},
   "outputs": [],
   "source": [
    "def numericalise(X, cat_names):\n",
    "    for n,c in df.items():\n",
    "        if is_string_dtype(c): \n",
    "            df[n] = c.astype('category').cat.as_ordered()\n",
    "    for cat in cat_names:\n",
    "        X[cat] = pd.Categorical(X[cat]).codes + 1\n",
    "    return X"
   ]
  },
  {
   "cell_type": "code",
   "execution_count": null,
   "metadata": {},
   "outputs": [
    {
     "data": {
      "text/html": [
       "<style>#sk-container-id-126 {color: black;background-color: white;}#sk-container-id-126 pre{padding: 0;}#sk-container-id-126 div.sk-toggleable {background-color: white;}#sk-container-id-126 label.sk-toggleable__label {cursor: pointer;display: block;width: 100%;margin-bottom: 0;padding: 0.3em;box-sizing: border-box;text-align: center;}#sk-container-id-126 label.sk-toggleable__label-arrow:before {content: \"▸\";float: left;margin-right: 0.25em;color: #696969;}#sk-container-id-126 label.sk-toggleable__label-arrow:hover:before {color: black;}#sk-container-id-126 div.sk-estimator:hover label.sk-toggleable__label-arrow:before {color: black;}#sk-container-id-126 div.sk-toggleable__content {max-height: 0;max-width: 0;overflow: hidden;text-align: left;background-color: #f0f8ff;}#sk-container-id-126 div.sk-toggleable__content pre {margin: 0.2em;color: black;border-radius: 0.25em;background-color: #f0f8ff;}#sk-container-id-126 input.sk-toggleable__control:checked~div.sk-toggleable__content {max-height: 200px;max-width: 100%;overflow: auto;}#sk-container-id-126 input.sk-toggleable__control:checked~label.sk-toggleable__label-arrow:before {content: \"▾\";}#sk-container-id-126 div.sk-estimator input.sk-toggleable__control:checked~label.sk-toggleable__label {background-color: #d4ebff;}#sk-container-id-126 div.sk-label input.sk-toggleable__control:checked~label.sk-toggleable__label {background-color: #d4ebff;}#sk-container-id-126 input.sk-hidden--visually {border: 0;clip: rect(1px 1px 1px 1px);clip: rect(1px, 1px, 1px, 1px);height: 1px;margin: -1px;overflow: hidden;padding: 0;position: absolute;width: 1px;}#sk-container-id-126 div.sk-estimator {font-family: monospace;background-color: #f0f8ff;border: 1px dotted black;border-radius: 0.25em;box-sizing: border-box;margin-bottom: 0.5em;}#sk-container-id-126 div.sk-estimator:hover {background-color: #d4ebff;}#sk-container-id-126 div.sk-parallel-item::after {content: \"\";width: 100%;border-bottom: 1px solid gray;flex-grow: 1;}#sk-container-id-126 div.sk-label:hover label.sk-toggleable__label {background-color: #d4ebff;}#sk-container-id-126 div.sk-serial::before {content: \"\";position: absolute;border-left: 1px solid gray;box-sizing: border-box;top: 0;bottom: 0;left: 50%;z-index: 0;}#sk-container-id-126 div.sk-serial {display: flex;flex-direction: column;align-items: center;background-color: white;padding-right: 0.2em;padding-left: 0.2em;position: relative;}#sk-container-id-126 div.sk-item {position: relative;z-index: 1;}#sk-container-id-126 div.sk-parallel {display: flex;align-items: stretch;justify-content: center;background-color: white;position: relative;}#sk-container-id-126 div.sk-item::before, #sk-container-id-126 div.sk-parallel-item::before {content: \"\";position: absolute;border-left: 1px solid gray;box-sizing: border-box;top: 0;bottom: 0;left: 50%;z-index: -1;}#sk-container-id-126 div.sk-parallel-item {display: flex;flex-direction: column;z-index: 1;position: relative;background-color: white;}#sk-container-id-126 div.sk-parallel-item:first-child::after {align-self: flex-end;width: 50%;}#sk-container-id-126 div.sk-parallel-item:last-child::after {align-self: flex-start;width: 50%;}#sk-container-id-126 div.sk-parallel-item:only-child::after {width: 0;}#sk-container-id-126 div.sk-dashed-wrapped {border: 1px dashed gray;margin: 0 0.4em 0.5em 0.4em;box-sizing: border-box;padding-bottom: 0.4em;background-color: white;}#sk-container-id-126 div.sk-label label {font-family: monospace;font-weight: bold;display: inline-block;line-height: 1.2em;}#sk-container-id-126 div.sk-label-container {text-align: center;}#sk-container-id-126 div.sk-container {/* jupyter's `normalize.less` sets `[hidden] { display: none; }` but bootstrap.min.css set `[hidden] { display: none !important; }` so we also need the `!important` here to be able to override the default hidden behavior on the sphinx rendered scikit-learn.org. See: https://github.com/scikit-learn/scikit-learn/issues/21755 */display: inline-block !important;position: relative;}#sk-container-id-126 div.sk-text-repr-fallback {display: none;}</style><div id=\"sk-container-id-126\" class=\"sk-top-container\"><div class=\"sk-text-repr-fallback\"><pre>Pipeline(steps=[(&#x27;preprocess&#x27;,\n",
       "                 ColumnTransformer(transformers=[(&#x27;cat&#x27;,\n",
       "                                                  FunctionTransformer(func=&lt;function numericalise at 0x390943a30&gt;,\n",
       "                                                                      kw_args={&#x27;cat_names&#x27;: [&#x27;datasource&#x27;,\n",
       "                                                                                             &#x27;UsageBand&#x27;,\n",
       "                                                                                             &#x27;fiModelDesc&#x27;,\n",
       "                                                                                             &#x27;fiBaseModel&#x27;,\n",
       "                                                                                             &#x27;fiSecondaryDesc&#x27;,\n",
       "                                                                                             &#x27;fiModelSeries&#x27;,\n",
       "                                                                                             &#x27;fiModelDescriptor&#x27;,\n",
       "                                                                                             &#x27;ProductSize&#x27;,\n",
       "                                                                                             &#x27;fiProductClassDesc&#x27;,\n",
       "                                                                                             &#x27;state&#x27;,\n",
       "                                                                                             &#x27;ProductGroup&#x27;,\n",
       "                                                                                             &#x27;ProductGroupDesc&#x27;,\n",
       "                                                                                             &#x27;Drive_System&#x27;...\n",
       "                                                   &#x27;Ripper&#x27;, &#x27;Scarifier&#x27;,\n",
       "                                                   &#x27;Tip_Control&#x27;, &#x27;Tire_Size&#x27;, ...]),\n",
       "                                                 (&#x27;num&#x27;,\n",
       "                                                  SimpleImputer(add_indicator=True),\n",
       "                                                  [&#x27;SalesID&#x27;, &#x27;MachineID&#x27;,\n",
       "                                                   &#x27;ModelID&#x27;, &#x27;auctioneerID&#x27;,\n",
       "                                                   &#x27;YearMade&#x27;,\n",
       "                                                   &#x27;MachineHoursCurrentMeter&#x27;,\n",
       "                                                   &#x27;saleYear&#x27;, &#x27;saleMonth&#x27;,\n",
       "                                                   &#x27;saleWeek&#x27;, &#x27;saleDay&#x27;,\n",
       "                                                   &#x27;saleDayofweek&#x27;,\n",
       "                                                   &#x27;saleDayofyear&#x27;,\n",
       "                                                   &#x27;saleElapsed&#x27;])],\n",
       "                                   verbose_feature_names_out=False)),\n",
       "                (&#x27;classifier&#x27;, RandomForestRegressor(random_state=42))])</pre><b>In a Jupyter environment, please rerun this cell to show the HTML representation or trust the notebook. <br />On GitHub, the HTML representation is unable to render, please try loading this page with nbviewer.org.</b></div><div class=\"sk-container\" hidden><div class=\"sk-item sk-dashed-wrapped\"><div class=\"sk-label-container\"><div class=\"sk-label sk-toggleable\"><input class=\"sk-toggleable__control sk-hidden--visually\" id=\"sk-estimator-id-618\" type=\"checkbox\" ><label for=\"sk-estimator-id-618\" class=\"sk-toggleable__label sk-toggleable__label-arrow\">Pipeline</label><div class=\"sk-toggleable__content\"><pre>Pipeline(steps=[(&#x27;preprocess&#x27;,\n",
       "                 ColumnTransformer(transformers=[(&#x27;cat&#x27;,\n",
       "                                                  FunctionTransformer(func=&lt;function numericalise at 0x390943a30&gt;,\n",
       "                                                                      kw_args={&#x27;cat_names&#x27;: [&#x27;datasource&#x27;,\n",
       "                                                                                             &#x27;UsageBand&#x27;,\n",
       "                                                                                             &#x27;fiModelDesc&#x27;,\n",
       "                                                                                             &#x27;fiBaseModel&#x27;,\n",
       "                                                                                             &#x27;fiSecondaryDesc&#x27;,\n",
       "                                                                                             &#x27;fiModelSeries&#x27;,\n",
       "                                                                                             &#x27;fiModelDescriptor&#x27;,\n",
       "                                                                                             &#x27;ProductSize&#x27;,\n",
       "                                                                                             &#x27;fiProductClassDesc&#x27;,\n",
       "                                                                                             &#x27;state&#x27;,\n",
       "                                                                                             &#x27;ProductGroup&#x27;,\n",
       "                                                                                             &#x27;ProductGroupDesc&#x27;,\n",
       "                                                                                             &#x27;Drive_System&#x27;...\n",
       "                                                   &#x27;Ripper&#x27;, &#x27;Scarifier&#x27;,\n",
       "                                                   &#x27;Tip_Control&#x27;, &#x27;Tire_Size&#x27;, ...]),\n",
       "                                                 (&#x27;num&#x27;,\n",
       "                                                  SimpleImputer(add_indicator=True),\n",
       "                                                  [&#x27;SalesID&#x27;, &#x27;MachineID&#x27;,\n",
       "                                                   &#x27;ModelID&#x27;, &#x27;auctioneerID&#x27;,\n",
       "                                                   &#x27;YearMade&#x27;,\n",
       "                                                   &#x27;MachineHoursCurrentMeter&#x27;,\n",
       "                                                   &#x27;saleYear&#x27;, &#x27;saleMonth&#x27;,\n",
       "                                                   &#x27;saleWeek&#x27;, &#x27;saleDay&#x27;,\n",
       "                                                   &#x27;saleDayofweek&#x27;,\n",
       "                                                   &#x27;saleDayofyear&#x27;,\n",
       "                                                   &#x27;saleElapsed&#x27;])],\n",
       "                                   verbose_feature_names_out=False)),\n",
       "                (&#x27;classifier&#x27;, RandomForestRegressor(random_state=42))])</pre></div></div></div><div class=\"sk-serial\"><div class=\"sk-item sk-dashed-wrapped\"><div class=\"sk-label-container\"><div class=\"sk-label sk-toggleable\"><input class=\"sk-toggleable__control sk-hidden--visually\" id=\"sk-estimator-id-619\" type=\"checkbox\" ><label for=\"sk-estimator-id-619\" class=\"sk-toggleable__label sk-toggleable__label-arrow\">preprocess: ColumnTransformer</label><div class=\"sk-toggleable__content\"><pre>ColumnTransformer(transformers=[(&#x27;cat&#x27;,\n",
       "                                 FunctionTransformer(func=&lt;function numericalise at 0x390943a30&gt;,\n",
       "                                                     kw_args={&#x27;cat_names&#x27;: [&#x27;datasource&#x27;,\n",
       "                                                                            &#x27;UsageBand&#x27;,\n",
       "                                                                            &#x27;fiModelDesc&#x27;,\n",
       "                                                                            &#x27;fiBaseModel&#x27;,\n",
       "                                                                            &#x27;fiSecondaryDesc&#x27;,\n",
       "                                                                            &#x27;fiModelSeries&#x27;,\n",
       "                                                                            &#x27;fiModelDescriptor&#x27;,\n",
       "                                                                            &#x27;ProductSize&#x27;,\n",
       "                                                                            &#x27;fiProductClassDesc&#x27;,\n",
       "                                                                            &#x27;state&#x27;,\n",
       "                                                                            &#x27;ProductGroup&#x27;,\n",
       "                                                                            &#x27;ProductGroupDesc&#x27;,\n",
       "                                                                            &#x27;Drive_System&#x27;,\n",
       "                                                                            &#x27;Enclosure&#x27;,\n",
       "                                                                            &#x27;Forks&#x27;,\n",
       "                                                                            &#x27;Pad_Type...\n",
       "                                  &#x27;Enclosure_Type&#x27;, &#x27;Engine_Horsepower&#x27;,\n",
       "                                  &#x27;Hydraulics&#x27;, &#x27;Pushblock&#x27;, &#x27;Ripper&#x27;,\n",
       "                                  &#x27;Scarifier&#x27;, &#x27;Tip_Control&#x27;, &#x27;Tire_Size&#x27;, ...]),\n",
       "                                (&#x27;num&#x27;, SimpleImputer(add_indicator=True),\n",
       "                                 [&#x27;SalesID&#x27;, &#x27;MachineID&#x27;, &#x27;ModelID&#x27;,\n",
       "                                  &#x27;auctioneerID&#x27;, &#x27;YearMade&#x27;,\n",
       "                                  &#x27;MachineHoursCurrentMeter&#x27;, &#x27;saleYear&#x27;,\n",
       "                                  &#x27;saleMonth&#x27;, &#x27;saleWeek&#x27;, &#x27;saleDay&#x27;,\n",
       "                                  &#x27;saleDayofweek&#x27;, &#x27;saleDayofyear&#x27;,\n",
       "                                  &#x27;saleElapsed&#x27;])],\n",
       "                  verbose_feature_names_out=False)</pre></div></div></div><div class=\"sk-parallel\"><div class=\"sk-parallel-item\"><div class=\"sk-item\"><div class=\"sk-label-container\"><div class=\"sk-label sk-toggleable\"><input class=\"sk-toggleable__control sk-hidden--visually\" id=\"sk-estimator-id-620\" type=\"checkbox\" ><label for=\"sk-estimator-id-620\" class=\"sk-toggleable__label sk-toggleable__label-arrow\">cat</label><div class=\"sk-toggleable__content\"><pre>[&#x27;datasource&#x27;, &#x27;UsageBand&#x27;, &#x27;fiModelDesc&#x27;, &#x27;fiBaseModel&#x27;, &#x27;fiSecondaryDesc&#x27;, &#x27;fiModelSeries&#x27;, &#x27;fiModelDescriptor&#x27;, &#x27;ProductSize&#x27;, &#x27;fiProductClassDesc&#x27;, &#x27;state&#x27;, &#x27;ProductGroup&#x27;, &#x27;ProductGroupDesc&#x27;, &#x27;Drive_System&#x27;, &#x27;Enclosure&#x27;, &#x27;Forks&#x27;, &#x27;Pad_Type&#x27;, &#x27;Ride_Control&#x27;, &#x27;Stick&#x27;, &#x27;Transmission&#x27;, &#x27;Turbocharged&#x27;, &#x27;Blade_Extension&#x27;, &#x27;Blade_Width&#x27;, &#x27;Enclosure_Type&#x27;, &#x27;Engine_Horsepower&#x27;, &#x27;Hydraulics&#x27;, &#x27;Pushblock&#x27;, &#x27;Ripper&#x27;, &#x27;Scarifier&#x27;, &#x27;Tip_Control&#x27;, &#x27;Tire_Size&#x27;, &#x27;Coupler&#x27;, &#x27;Coupler_System&#x27;, &#x27;Grouser_Tracks&#x27;, &#x27;Hydraulics_Flow&#x27;, &#x27;Track_Type&#x27;, &#x27;Undercarriage_Pad_Width&#x27;, &#x27;Stick_Length&#x27;, &#x27;Thumb&#x27;, &#x27;Pattern_Changer&#x27;, &#x27;Grouser_Type&#x27;, &#x27;Backhoe_Mounting&#x27;, &#x27;Blade_Type&#x27;, &#x27;Travel_Controls&#x27;, &#x27;Differential_Type&#x27;, &#x27;Steering_Controls&#x27;, &#x27;saleIs_month_end&#x27;, &#x27;saleIs_month_start&#x27;, &#x27;saleIs_quarter_end&#x27;, &#x27;saleIs_quarter_start&#x27;, &#x27;saleIs_year_end&#x27;, &#x27;saleIs_year_start&#x27;]</pre></div></div></div><div class=\"sk-serial\"><div class=\"sk-item\"><div class=\"sk-estimator sk-toggleable\"><input class=\"sk-toggleable__control sk-hidden--visually\" id=\"sk-estimator-id-621\" type=\"checkbox\" ><label for=\"sk-estimator-id-621\" class=\"sk-toggleable__label sk-toggleable__label-arrow\">FunctionTransformer</label><div class=\"sk-toggleable__content\"><pre>FunctionTransformer(func=&lt;function numericalise at 0x390943a30&gt;,\n",
       "                    kw_args={&#x27;cat_names&#x27;: [&#x27;datasource&#x27;, &#x27;UsageBand&#x27;,\n",
       "                                           &#x27;fiModelDesc&#x27;, &#x27;fiBaseModel&#x27;,\n",
       "                                           &#x27;fiSecondaryDesc&#x27;, &#x27;fiModelSeries&#x27;,\n",
       "                                           &#x27;fiModelDescriptor&#x27;, &#x27;ProductSize&#x27;,\n",
       "                                           &#x27;fiProductClassDesc&#x27;, &#x27;state&#x27;,\n",
       "                                           &#x27;ProductGroup&#x27;, &#x27;ProductGroupDesc&#x27;,\n",
       "                                           &#x27;Drive_System&#x27;, &#x27;Enclosure&#x27;, &#x27;Forks&#x27;,\n",
       "                                           &#x27;Pad_Type&#x27;, &#x27;Ride_Control&#x27;, &#x27;Stick&#x27;,\n",
       "                                           &#x27;Transmission&#x27;, &#x27;Turbocharged&#x27;,\n",
       "                                           &#x27;Blade_Extension&#x27;, &#x27;Blade_Width&#x27;,\n",
       "                                           &#x27;Enclosure_Type&#x27;,\n",
       "                                           &#x27;Engine_Horsepower&#x27;, &#x27;Hydraulics&#x27;,\n",
       "                                           &#x27;Pushblock&#x27;, &#x27;Ripper&#x27;, &#x27;Scarifier&#x27;,\n",
       "                                           &#x27;Tip_Control&#x27;, &#x27;Tire_Size&#x27;, ...]})</pre></div></div></div></div></div></div><div class=\"sk-parallel-item\"><div class=\"sk-item\"><div class=\"sk-label-container\"><div class=\"sk-label sk-toggleable\"><input class=\"sk-toggleable__control sk-hidden--visually\" id=\"sk-estimator-id-622\" type=\"checkbox\" ><label for=\"sk-estimator-id-622\" class=\"sk-toggleable__label sk-toggleable__label-arrow\">num</label><div class=\"sk-toggleable__content\"><pre>[&#x27;SalesID&#x27;, &#x27;MachineID&#x27;, &#x27;ModelID&#x27;, &#x27;auctioneerID&#x27;, &#x27;YearMade&#x27;, &#x27;MachineHoursCurrentMeter&#x27;, &#x27;saleYear&#x27;, &#x27;saleMonth&#x27;, &#x27;saleWeek&#x27;, &#x27;saleDay&#x27;, &#x27;saleDayofweek&#x27;, &#x27;saleDayofyear&#x27;, &#x27;saleElapsed&#x27;]</pre></div></div></div><div class=\"sk-serial\"><div class=\"sk-item\"><div class=\"sk-estimator sk-toggleable\"><input class=\"sk-toggleable__control sk-hidden--visually\" id=\"sk-estimator-id-623\" type=\"checkbox\" ><label for=\"sk-estimator-id-623\" class=\"sk-toggleable__label sk-toggleable__label-arrow\">SimpleImputer</label><div class=\"sk-toggleable__content\"><pre>SimpleImputer(add_indicator=True)</pre></div></div></div></div></div></div></div></div><div class=\"sk-item\"><div class=\"sk-estimator sk-toggleable\"><input class=\"sk-toggleable__control sk-hidden--visually\" id=\"sk-estimator-id-624\" type=\"checkbox\" ><label for=\"sk-estimator-id-624\" class=\"sk-toggleable__label sk-toggleable__label-arrow\">RandomForestRegressor</label><div class=\"sk-toggleable__content\"><pre>RandomForestRegressor(random_state=42)</pre></div></div></div></div></div></div></div>"
      ],
      "text/plain": [
       "Pipeline(steps=[('preprocess',\n",
       "                 ColumnTransformer(transformers=[('cat',\n",
       "                                                  FunctionTransformer(func=<function numericalise>,\n",
       "                                                                      kw_args={'cat_names': ['datasource',\n",
       "                                                                                             'UsageBand',\n",
       "                                                                                             'fiModelDesc',\n",
       "                                                                                             'fiBaseModel',\n",
       "                                                                                             'fiSecondaryDesc',\n",
       "                                                                                             'fiModelSeries',\n",
       "                                                                                             'fiModelDescriptor',\n",
       "                                                                                             'ProductSize',\n",
       "                                                                                             'fiProductClassDesc',\n",
       "                                                                                             'state',\n",
       "                                                                                             'ProductGroup',\n",
       "                                                                                             'ProductGroupDesc',\n",
       "                                                                                             'Drive_System'...\n",
       "                                                   'Ripper', 'Scarifier',\n",
       "                                                   'Tip_Control', 'Tire_Size', ...]),\n",
       "                                                 ('num',\n",
       "                                                  SimpleImputer(add_indicator=True),\n",
       "                                                  ['SalesID', 'MachineID',\n",
       "                                                   'ModelID', 'auctioneerID',\n",
       "                                                   'YearMade',\n",
       "                                                   'MachineHoursCurrentMeter',\n",
       "                                                   'saleYear', 'saleMonth',\n",
       "                                                   'saleWeek', 'saleDay',\n",
       "                                                   'saleDayofweek',\n",
       "                                                   'saleDayofyear',\n",
       "                                                   'saleElapsed'])],\n",
       "                                   verbose_feature_names_out=False)),\n",
       "                ('classifier', RandomForestRegressor(random_state=42))])"
      ]
     },
     "execution_count": null,
     "metadata": {},
     "output_type": "execute_result"
    }
   ],
   "source": [
    "numerical_pipe = SimpleImputer(strategy=\"mean\", add_indicator=True)\n",
    "\n",
    "preprocessing = ColumnTransformer(\n",
    "    [\n",
    "        (\"cat\", FunctionTransformer(numericalise, kw_args={\"cat_names\": cats}), cats),\n",
    "        (\"num\", numerical_pipe, conts),\n",
    "    ],\n",
    "    verbose_feature_names_out=False,\n",
    ")\n",
    "\n",
    "rf = Pipeline(\n",
    "    [\n",
    "        (\"preprocess\", preprocessing),\n",
    "        (\"classifier\", RandomForestRegressor(random_state=42)),\n",
    "    ]\n",
    ")\n",
    "rf.fit(sk_df_train.drop(\"SalePrice\", axis=1), sk_df_train[\"SalePrice\"])"
   ]
  },
  {
   "cell_type": "code",
   "execution_count": null,
   "metadata": {},
   "outputs": [
    {
     "data": {
      "text/plain": [
       "0.28816"
      ]
     },
     "execution_count": null,
     "metadata": {},
     "output_type": "execute_result"
    }
   ],
   "source": [
    "m_rmse(rf, sk_df_valid.drop(\"SalePrice\", axis=1), sk_df_valid[\"SalePrice\"])"
   ]
  },
  {
   "cell_type": "code",
   "execution_count": null,
   "metadata": {},
   "outputs": [],
   "source": []
  }
 ],
 "metadata": {
  "kernelspec": {
   "display_name": "python3",
   "language": "python",
   "name": "python3"
  }
 },
 "nbformat": 4,
 "nbformat_minor": 2
}
