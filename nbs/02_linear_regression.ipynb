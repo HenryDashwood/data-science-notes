{
 "cells": [
  {
   "attachments": {},
   "cell_type": "markdown",
   "metadata": {},
   "source": [
    "# Linear Regression\n",
    "\n",
    "- skip_exec: true\n"
   ]
  },
  {
   "cell_type": "code",
   "execution_count": null,
   "metadata": {},
   "outputs": [],
   "source": [
    "from pathlib import Path\n",
    "\n",
    "import matplotlib.pyplot as plt\n",
    "import numpy as np\n",
    "import pandas as pd\n",
    "from sklearn.linear_model import LinearRegression\n",
    "\n",
    "PROJECT_ROOT = f\"{Path.cwd().parent}\"\n"
   ]
  },
  {
   "attachments": {},
   "cell_type": "markdown",
   "metadata": {},
   "source": [
    "## Linear regression with a single independent variable\n"
   ]
  },
  {
   "attachments": {},
   "cell_type": "markdown",
   "metadata": {},
   "source": [
    "Correlation tells us the strength of a linear relationship between two variables. But what if we want to predict the value of one variable given the value of another? For example, suppose we want to predict the price of a house given its size. We can do this using linear regression.\n",
    "\n",
    "We begin by hypothesising the existence a linear model:\n",
    "\n",
    "$$\n",
    "y_i = \\beta x_i + \\alpha\n",
    "$$\n",
    "\n",
    "where $y_i$ is the price of the house $i$, $x_i$ is the size of the house $i$, $\\beta$ is the slope of the line, $\\alpha$ is the intercept. Which parameters would result in the best fit line? We can use the least squares method to find the best fit line. The least squares method minimises the **_sum of the squared errors_** (or residuals). This is also known as our cost function, $S$:\n",
    "\n",
    "$$\n",
    "S = \\sum_{i=1}^n (y_i - \\hat{y_i})^2\n",
    "$$\n",
    "\n",
    "where $\\hat{y_i}$ is the predicted value of $y_i$.\n",
    "\n",
    "We can subsitute our model for the predicted value of $y_i$:\n",
    "\n",
    "$$\n",
    "\\begin{align}\n",
    "S &= \\sum_{i=1}^n (y_i - (\\beta x_i + \\alpha))^2 \\\\\n",
    "&= \\sum_{i=1}^n (y_i - \\beta x_i - \\alpha)^2\n",
    "\\end{align}\n",
    "$$\n",
    "\n",
    "To minimize our cost function, S, we must find where the first derivative of $S$ is equal to 0 with respect to $\\alpha$ and $\\beta$. The closer $\\alpha$ and $\\beta$ are to 0, the less the total error for each point is. Let’s start with the partial derivative of $\\alpha$ first.\n",
    "\n",
    "### Finding $\\alpha$\n",
    "\n",
    "$$\n",
    "\\frac{\\partial S}{\\partial \\alpha}[\\sum_{i=1}^n (y_i - \\beta x_i - \\alpha)^2]\n",
    "$$\n",
    "\n",
    "We can use the chain rule to find the partial derivative with respect to $\\alpha$.\n",
    "\n",
    "The outer term goes from $u^2$ to 2u (where $u =y_i - \\alpha - \\beta x_i$).\n",
    "\n",
    "Within the perenthesese we treat the non-$\\alpha$ terms as constants so we go from $y_i - \\alpha - \\beta x_i$ to $-1$.\n",
    "\n",
    "So in the end we have:\n",
    "\n",
    "$$\n",
    "0 = \\sum_{i=1}^n -2(y_i - \\alpha - \\beta x_i)\n",
    "$$\n",
    "\n",
    "We can divide both sides by $-2$ to get:\n",
    "\n",
    "$$\n",
    "0 = \\sum_{i=1}^n (y_i - \\alpha - \\beta x_i)\n",
    "$$\n",
    "\n",
    "We can then break this summation in 3 parts and pull the constant $\\beta$ out:\n",
    "\n",
    "$$\n",
    "0 = \\sum_{i=1}^n y_i - \\sum_{i=1}^n \\alpha - \\beta \\sum_{i=1}^n x_i\n",
    "$$\n",
    "\n",
    "So the summamation of $\\alpha$ to $n$ is\n",
    "\n",
    "$$\n",
    "\\sum_{i=1}^n \\alpha = n\\alpha\n",
    "$$\n",
    "\n",
    "We can subsitute this back in to get\n",
    "\n",
    "$$\n",
    "0 = \\sum_{i=1}^n y_i - n\\alpha - \\beta \\sum_{i=1}^n x_i\n",
    "$$\n",
    "\n",
    "We are trying to solve for $\\alpha$ so we add $n\\alpha$ to both sides and divide by $n$.\n",
    "\n",
    "$$\n",
    "\\alpha = \\frac{\\sum_{i=1}^n y_i - \\beta \\sum_{i=1}^n x_i}{n}\n",
    "$$\n",
    "\n",
    "In the above equation we are calculating the sum of $y$ and $x& and then dividing by the number of of points. In other words we are using the mean of $y$ and $x$. So we can rewrite the equation as:\n",
    "\n",
    "$$\n",
    "\\alpha = \\bar{y} - \\beta \\bar{x} \\tag{1}\n",
    "$$\n",
    "\n",
    "where $\\bar{y}$ is the mean of $y$ and $\\bar{x}$ is the mean of $x$.\n",
    "\n",
    "### Finding $\\beta$\n",
    "\n",
    "Having minimised the cost function of $S$ with respect to $\\alpha$. Let’s find the last part which is $S$ with respect to $\\beta$.\n",
    "\n",
    "$$\n",
    "\\frac{\\partial S}{\\partial \\beta}[\\sum_{i=1}^n (y_i - \\alpha - \\beta x_i)^2]\n",
    "$$\n",
    "\n",
    "We can use the chain rule to find the partial derivative with respect to $\\beta$.\n",
    "\n",
    "The outer term goes from $u^2$ to 2u (where $u =y_i - \\alpha - \\beta x_i$).\n",
    "\n",
    "Within the perenthesese we treat the non-$\\beta$ terms as constants so we go from $y_i - \\alpha - \\beta x_i$ to $-x_i$.\n",
    "\n",
    "So in the end we have:\n",
    "\n",
    "$$\n",
    "0 = \\sum_{i=1}^n -2x_i(y_i - \\alpha - \\beta x_i)\n",
    "$$\n",
    "\n",
    "Again we can divide both sides by $-2$ to get:\n",
    "\n",
    "$$\n",
    "0 = \\sum_{i=1}^n x_i(y_i - \\alpha - \\beta x_i)\n",
    "$$\n",
    "\n",
    "Multiplying each term by $x_i$ we get:\n",
    "\n",
    "$$\n",
    "0 = \\sum_{i=1}^n (y_ix_i - \\alpha x_i - \\beta x_i^2)\n",
    "$$\n",
    "\n",
    "Let’s substitute $a$ (formula $(1)$) into the partial derivative of $S$ with respect to $\\beta$ so we have a function of $\\alpha$ and $\\beta$ in terms of only $x$ and $y$.\n",
    "\n",
    "$$\n",
    "0 = \\sum_{i=1}^n(x_iy_i - (\\bar{y} - \\beta\\bar{x})x_i - \\beta x_i^2)\n",
    "$$\n",
    "\n",
    "Multiplying out the brackets we get:\n",
    "\n",
    "$$\n",
    "0 = \\sum_{i=1}^n(x_iy_i - \\bar{y}x_i + \\beta\\bar{x}x_i - \\beta x_i^2)\n",
    "$$\n",
    "\n",
    "We can split this into 2 sums\n",
    "\n",
    "$$\n",
    "0 = \\sum_{i=1}^n(x_iy_i - \\bar{y}x_i) + \\sum_{i=1}^n(\\beta\\bar{x}x_i - \\beta x_i^2))\n",
    "$$\n",
    "\n",
    "and factor out $-\\beta$ (note the minus!)\n",
    "\n",
    "$$\n",
    "0 = \\sum_{i=1}^n(x_iy_i - \\bar{y}x_i) - \\beta \\sum_{i=1}^n(x_i^2 - \\bar{x}x_i))\n",
    "$$\n",
    "\n",
    "Adding $\\beta \\sum_{i=1}^n(x_i^2 - \\bar{x}x_i))$ to both sides and then dividing both sides by the same gives us:\n",
    "\n",
    "$$\n",
    "\\beta = \\frac{\\sum_{i=1}^n(x_iy_i - \\bar{y}x_i)}{\\sum_{i=1}^n(x_i^2 - \\bar{x}x_i))} \\tag{2}\n",
    "$$\n",
    "\n",
    "### Conclusion\n",
    "\n",
    "So the **tldr** is that if you have a dataset with 1 independent variable, you find the line of best fit by:\n",
    "\n",
    "1. Calculating $\\beta$ using equation $(2)$\n",
    "2. Substituting $\\beta$ into equation $(1)$ to find $\\alpha$\n",
    "3. Substituting $\\beta$ and $\\alpha$ into the equation for the line of best fit:\n",
    "\n",
    "$$\n",
    "\\hat{y} = \\beta x_i + \\alpha\n",
    "$$\n"
   ]
  },
  {
   "attachments": {},
   "cell_type": "markdown",
   "metadata": {},
   "source": [
    "## Examples\n"
   ]
  },
  {
   "attachments": {},
   "cell_type": "markdown",
   "metadata": {},
   "source": [
    "### With NumPy and random data\n"
   ]
  },
  {
   "cell_type": "code",
   "execution_count": null,
   "metadata": {},
   "outputs": [],
   "source": [
    "def get_beta(x: np.ndarray, y: np.ndarray) -> float:\n",
    "    numerator = np.sum((x * y) - (y.mean() * x))\n",
    "    denominator = np.sum((x**2) - (x.mean() * x))\n",
    "    return numerator / denominator\n",
    "\n",
    "\n",
    "def get_alpha(x: np.ndarray, y: np.ndarray) -> float:\n",
    "    return np.mean(y) - get_beta(x, y) * np.mean(x)\n",
    "\n",
    "\n",
    "def predict(x_pred: np.ndarray, x_known: np.ndarray, y_known: np.ndarray) -> np.ndarray:\n",
    "    y_pred = get_alpha(x_known, y_known) + get_beta(x_known, y_known) * x_pred\n",
    "    return y_pred\n"
   ]
  },
  {
   "cell_type": "code",
   "execution_count": null,
   "metadata": {},
   "outputs": [],
   "source": [
    "xs = np.random.rand(10) * 10\n",
    "ys = np.random.rand(10) * 10\n",
    "xs = np.sort(xs)\n",
    "ys = np.sort(ys)"
   ]
  },
  {
   "cell_type": "code",
   "execution_count": null,
   "metadata": {},
   "outputs": [
    {
     "name": "stdout",
     "output_type": "stream",
     "text": [
      "1.1921965073030711 0.5692894300923669\n"
     ]
    }
   ],
   "source": [
    "beta = get_beta(xs, ys)\n",
    "alpha = get_alpha(xs, ys)\n",
    "print(alpha, beta)"
   ]
  },
  {
   "cell_type": "code",
   "execution_count": null,
   "metadata": {},
   "outputs": [],
   "source": [
    "def plot_results(x: np.ndarray, y: np.ndarray, alpha: float, beta: float) -> None:\n",
    "    fig, ax = plt.subplots(figsize=(6, 5))\n",
    "\n",
    "    fig.patch.set_alpha(0)\n",
    "    ax.patch.set_alpha(0)\n",
    "\n",
    "    x_low, x_high = np.floor(x.min()), np.ceil(x.max())\n",
    "    y_low, y_high = np.floor(y.min()), np.ceil(y.max())\n",
    "\n",
    "    ax.scatter(x, y)\n",
    "\n",
    "    x_vals = np.linspace(x_low, x_high)\n",
    "    y_vals = alpha + beta * x_vals\n",
    "    ax.plot(x_vals, y_vals, \"-\")\n",
    "\n",
    "    ax.set_xlim([0, x_high + 1])\n",
    "    ax.set_ylim([0, y_high + 1])\n",
    "\n",
    "    ax.set_xlabel(\"x values\")\n",
    "    ax.set_ylabel(\"y values\")\n",
    "    ax.set_title(f\"Linear Regression Example\\nbeta:{beta:.2f} alpha:{alpha:.2f}\")\n",
    "\n",
    "    ax.set_xmargin(0)\n",
    "    ax.set_ymargin(0)\n",
    "\n",
    "    ax.spines[\"right\"].set_color(\"none\")\n",
    "    ax.spines[\"top\"].set_color(\"none\")\n",
    "\n",
    "    ax.grid(True)\n",
    "\n",
    "    plt.show()"
   ]
  },
  {
   "cell_type": "code",
   "execution_count": null,
   "metadata": {},
   "outputs": [
    {
     "data": {
      "image/png": "[encoded data removed]",
      "text/plain": [
       "<Figure size 600x500 with 1 Axes>"
      ]
     },
     "metadata": {
      "needs_background": "light"
     },
     "output_type": "display_data"
    }
   ],
   "source": [
    "plot_results(xs, ys, alpha, beta)\n"
   ]
  },
  {
   "attachments": {},
   "cell_type": "markdown",
   "metadata": {},
   "source": [
    "### With Sklearn and random data\n"
   ]
  },
  {
   "cell_type": "code",
   "execution_count": null,
   "metadata": {},
   "outputs": [
    {
     "data": {
      "text/html": [
       "<style>#sk-container-id-1 {color: black;background-color: white;}#sk-container-id-1 pre{padding: 0;}#sk-container-id-1 div.sk-toggleable {background-color: white;}#sk-container-id-1 label.sk-toggleable__label {cursor: pointer;display: block;width: 100%;margin-bottom: 0;padding: 0.3em;box-sizing: border-box;text-align: center;}#sk-container-id-1 label.sk-toggleable__label-arrow:before {content: \"▸\";float: left;margin-right: 0.25em;color: #696969;}#sk-container-id-1 label.sk-toggleable__label-arrow:hover:before {color: black;}#sk-container-id-1 div.sk-estimator:hover label.sk-toggleable__label-arrow:before {color: black;}#sk-container-id-1 div.sk-toggleable__content {max-height: 0;max-width: 0;overflow: hidden;text-align: left;background-color: #f0f8ff;}#sk-container-id-1 div.sk-toggleable__content pre {margin: 0.2em;color: black;border-radius: 0.25em;background-color: #f0f8ff;}#sk-container-id-1 input.sk-toggleable__control:checked~div.sk-toggleable__content {max-height: 200px;max-width: 100%;overflow: auto;}#sk-container-id-1 input.sk-toggleable__control:checked~label.sk-toggleable__label-arrow:before {content: \"▾\";}#sk-container-id-1 div.sk-estimator input.sk-toggleable__control:checked~label.sk-toggleable__label {background-color: #d4ebff;}#sk-container-id-1 div.sk-label input.sk-toggleable__control:checked~label.sk-toggleable__label {background-color: #d4ebff;}#sk-container-id-1 input.sk-hidden--visually {border: 0;clip: rect(1px 1px 1px 1px);clip: rect(1px, 1px, 1px, 1px);height: 1px;margin: -1px;overflow: hidden;padding: 0;position: absolute;width: 1px;}#sk-container-id-1 div.sk-estimator {font-family: monospace;background-color: #f0f8ff;border: 1px dotted black;border-radius: 0.25em;box-sizing: border-box;margin-bottom: 0.5em;}#sk-container-id-1 div.sk-estimator:hover {background-color: #d4ebff;}#sk-container-id-1 div.sk-parallel-item::after {content: \"\";width: 100%;border-bottom: 1px solid gray;flex-grow: 1;}#sk-container-id-1 div.sk-label:hover label.sk-toggleable__label {background-color: #d4ebff;}#sk-container-id-1 div.sk-serial::before {content: \"\";position: absolute;border-left: 1px solid gray;box-sizing: border-box;top: 0;bottom: 0;left: 50%;z-index: 0;}#sk-container-id-1 div.sk-serial {display: flex;flex-direction: column;align-items: center;background-color: white;padding-right: 0.2em;padding-left: 0.2em;position: relative;}#sk-container-id-1 div.sk-item {position: relative;z-index: 1;}#sk-container-id-1 div.sk-parallel {display: flex;align-items: stretch;justify-content: center;background-color: white;position: relative;}#sk-container-id-1 div.sk-item::before, #sk-container-id-1 div.sk-parallel-item::before {content: \"\";position: absolute;border-left: 1px solid gray;box-sizing: border-box;top: 0;bottom: 0;left: 50%;z-index: -1;}#sk-container-id-1 div.sk-parallel-item {display: flex;flex-direction: column;z-index: 1;position: relative;background-color: white;}#sk-container-id-1 div.sk-parallel-item:first-child::after {align-self: flex-end;width: 50%;}#sk-container-id-1 div.sk-parallel-item:last-child::after {align-self: flex-start;width: 50%;}#sk-container-id-1 div.sk-parallel-item:only-child::after {width: 0;}#sk-container-id-1 div.sk-dashed-wrapped {border: 1px dashed gray;margin: 0 0.4em 0.5em 0.4em;box-sizing: border-box;padding-bottom: 0.4em;background-color: white;}#sk-container-id-1 div.sk-label label {font-family: monospace;font-weight: bold;display: inline-block;line-height: 1.2em;}#sk-container-id-1 div.sk-label-container {text-align: center;}#sk-container-id-1 div.sk-container {/* jupyter's `normalize.less` sets `[hidden] { display: none; }` but bootstrap.min.css set `[hidden] { display: none !important; }` so we also need the `!important` here to be able to override the default hidden behavior on the sphinx rendered scikit-learn.org. See: https://github.com/scikit-learn/scikit-learn/issues/21755 */display: inline-block !important;position: relative;}#sk-container-id-1 div.sk-text-repr-fallback {display: none;}</style><div id=\"sk-container-id-1\" class=\"sk-top-container\"><div class=\"sk-text-repr-fallback\"><pre>LinearRegression()</pre><b>In a Jupyter environment, please rerun this cell to show the HTML representation or trust the notebook. <br />On GitHub, the HTML representation is unable to render, please try loading this page with nbviewer.org.</b></div><div class=\"sk-container\" hidden><div class=\"sk-item\"><div class=\"sk-estimator sk-toggleable\"><input class=\"sk-toggleable__control sk-hidden--visually\" id=\"sk-estimator-id-1\" type=\"checkbox\" checked><label for=\"sk-estimator-id-1\" class=\"sk-toggleable__label sk-toggleable__label-arrow\">LinearRegression</label><div class=\"sk-toggleable__content\"><pre>LinearRegression()</pre></div></div></div></div></div>"
      ],
      "text/plain": [
       "LinearRegression()"
      ]
     },
     "execution_count": null,
     "metadata": {},
     "output_type": "execute_result"
    }
   ],
   "source": [
    "model = LinearRegression()\n",
    "model.fit(xs.reshape(-1, 1), ys)"
   ]
  },
  {
   "cell_type": "code",
   "execution_count": null,
   "metadata": {},
   "outputs": [
    {
     "name": "stdout",
     "output_type": "stream",
     "text": [
      "1.1921965073030725 0.5692894300923667\n"
     ]
    }
   ],
   "source": [
    "beta = model.coef_.item()\n",
    "alpha = model.intercept_\n",
    "print(alpha, beta)"
   ]
  },
  {
   "cell_type": "code",
   "execution_count": null,
   "metadata": {},
   "outputs": [
    {
     "data": {
      "image/png": "[encoded data removed]",
      "text/plain": [
       "<Figure size 600x500 with 1 Axes>"
      ]
     },
     "metadata": {
      "needs_background": "light"
     },
     "output_type": "display_data"
    }
   ],
   "source": [
    "plot_results(xs, ys, alpha, beta)"
   ]
  },
  {
   "attachments": {},
   "cell_type": "markdown",
   "metadata": {},
   "source": [
    "### Using the automoblie dataset from the UCI Machine Learning Repository\n"
   ]
  },
  {
   "cell_type": "code",
   "execution_count": null,
   "metadata": {},
   "outputs": [],
   "source": [
    "df = pd.read_csv(f\"{PROJECT_ROOT}/data/automobiles/imports-85.data\", header=None, usecols=[21, 25], na_values=[\"?\"])\n",
    "df.columns = [\"horsepower\", \"price\"]\n",
    "df = df.dropna()\n",
    "\n",
    "xs = df[\"horsepower\"].values\n",
    "ys = df[\"price\"].values\n"
   ]
  },
  {
   "cell_type": "code",
   "execution_count": null,
   "metadata": {},
   "outputs": [
    {
     "data": {
      "text/html": [
       "<div>\n",
       "<style scoped>\n",
       "    .dataframe tbody tr th:only-of-type {\n",
       "        vertical-align: middle;\n",
       "    }\n",
       "\n",
       "    .dataframe tbody tr th {\n",
       "        vertical-align: top;\n",
       "    }\n",
       "\n",
       "    .dataframe thead th {\n",
       "        text-align: right;\n",
       "    }\n",
       "</style>\n",
       "<table border=\"1\" class=\"dataframe\">\n",
       "  <thead>\n",
       "    <tr style=\"text-align: right;\">\n",
       "      <th></th>\n",
       "      <th>horsepower</th>\n",
       "      <th>price</th>\n",
       "    </tr>\n",
       "  </thead>\n",
       "  <tbody>\n",
       "    <tr>\n",
       "      <th>0</th>\n",
       "      <td>111.0</td>\n",
       "      <td>13495.0</td>\n",
       "    </tr>\n",
       "    <tr>\n",
       "      <th>1</th>\n",
       "      <td>111.0</td>\n",
       "      <td>16500.0</td>\n",
       "    </tr>\n",
       "    <tr>\n",
       "      <th>2</th>\n",
       "      <td>154.0</td>\n",
       "      <td>16500.0</td>\n",
       "    </tr>\n",
       "    <tr>\n",
       "      <th>3</th>\n",
       "      <td>102.0</td>\n",
       "      <td>13950.0</td>\n",
       "    </tr>\n",
       "    <tr>\n",
       "      <th>4</th>\n",
       "      <td>115.0</td>\n",
       "      <td>17450.0</td>\n",
       "    </tr>\n",
       "    <tr>\n",
       "      <th>...</th>\n",
       "      <td>...</td>\n",
       "      <td>...</td>\n",
       "    </tr>\n",
       "    <tr>\n",
       "      <th>200</th>\n",
       "      <td>114.0</td>\n",
       "      <td>16845.0</td>\n",
       "    </tr>\n",
       "    <tr>\n",
       "      <th>201</th>\n",
       "      <td>160.0</td>\n",
       "      <td>19045.0</td>\n",
       "    </tr>\n",
       "    <tr>\n",
       "      <th>202</th>\n",
       "      <td>134.0</td>\n",
       "      <td>21485.0</td>\n",
       "    </tr>\n",
       "    <tr>\n",
       "      <th>203</th>\n",
       "      <td>106.0</td>\n",
       "      <td>22470.0</td>\n",
       "    </tr>\n",
       "    <tr>\n",
       "      <th>204</th>\n",
       "      <td>114.0</td>\n",
       "      <td>22625.0</td>\n",
       "    </tr>\n",
       "  </tbody>\n",
       "</table>\n",
       "<p>199 rows × 2 columns</p>\n",
       "</div>"
      ],
      "text/plain": [
       "     horsepower    price\n",
       "0         111.0  13495.0\n",
       "1         111.0  16500.0\n",
       "2         154.0  16500.0\n",
       "3         102.0  13950.0\n",
       "4         115.0  17450.0\n",
       "..          ...      ...\n",
       "200       114.0  16845.0\n",
       "201       160.0  19045.0\n",
       "202       134.0  21485.0\n",
       "203       106.0  22470.0\n",
       "204       114.0  22625.0\n",
       "\n",
       "[199 rows x 2 columns]"
      ]
     },
     "execution_count": null,
     "metadata": {},
     "output_type": "execute_result"
    }
   ],
   "source": [
    "df\n"
   ]
  },
  {
   "cell_type": "code",
   "execution_count": null,
   "metadata": {},
   "outputs": [],
   "source": [
    "model = LinearRegression()\n",
    "model.fit(xs.reshape(-1, 1), ys)\n",
    "\n",
    "beta = model.coef_.item()\n",
    "alpha = model.intercept_"
   ]
  },
  {
   "cell_type": "code",
   "execution_count": null,
   "metadata": {},
   "outputs": [
    {
     "data": {
      "image/png": "[encoded data removed]",
      "text/plain": [
       "<Figure size 600x500 with 1 Axes>"
      ]
     },
     "metadata": {
      "needs_background": "light"
     },
     "output_type": "display_data"
    }
   ],
   "source": [
    "plot_results(xs, ys, alpha, beta)"
   ]
  },
  {
   "attachments": {},
   "cell_type": "markdown",
   "metadata": {},
   "source": [
    "## Multiple regression\n"
   ]
  },
  {
   "attachments": {},
   "cell_type": "markdown",
   "metadata": {},
   "source": [
    "Consider a model with multiple independent variables. e.g. minutes spent on a social media site for data scientists:\n",
    "\n",
    "$$\n",
    "\\text{minutes} = \\beta_1 \\text{friends} + \\beta_2 \\text{work hours} + \\beta_3 \\text{has phd} + \\alpha\n",
    "$$\n",
    "\n",
    "Essentially we are expanding the model with one independent variable:\n",
    "\n",
    "$$\n",
    "y_i = \\beta x_i + \\alpha\n",
    "$$\n",
    "\n",
    "where $x_i$ is a single number to a model of the form:\n",
    "\n",
    "$$\n",
    "y_i = \\beta_1 x_{i1} + ... + \\beta_k x_{ik} + \\alpha\n",
    "$$\n",
    "\n",
    "where $x_i$ is a vector of numbers $x_{i1}, ..., x_{ik}$. In multiple regression the vector of parameters is usually called $\\beta$\n"
   ]
  },
  {
   "attachments": {},
   "cell_type": "markdown",
   "metadata": {},
   "source": [
    "We are making the assumption that the columns of $x$ are _linearly independent_, that there is no way to write one as the weighted sum of the others.\n"
   ]
  },
  {
   "attachments": {},
   "cell_type": "markdown",
   "metadata": {},
   "source": [
    "## References\n",
    "\n",
    "[Linear Regression](https://medium.com/@leisyridley/linear-regression-intuition-172b52758321) -\n",
    "Ridley Leisy\n"
   ]
  }
 ],
 "metadata": {
  "kernelspec": {
   "display_name": "python3",
   "language": "python",
   "name": "python3"
  }
 },
 "nbformat": 4,
 "nbformat_minor": 2
}
