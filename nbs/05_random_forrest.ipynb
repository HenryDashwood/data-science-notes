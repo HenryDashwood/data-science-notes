{
 "cells": [
  {
   "attachments": {},
   "cell_type": "markdown",
   "metadata": {},
   "source": [
    "# Random Forrest\n",
    "- skip_exec: true"
   ]
  },
  {
   "attachments": {},
   "cell_type": "markdown",
   "metadata": {},
   "source": [
    "What is a random forest?\n",
    "- A universal machine learning algorithm that can be used for both classification and regression problems.\n",
    "- A way of predicting something of any kind. It could be a category or a continuous value.\n",
    "- It can predict it with columns of any kind. The columns could contain data about pixels, postcodes, revenue, etc.\n",
    "- It is very resistant to overfitting, and where it does overfit, it is easy to fix.\n",
    "- It does not require a separate validation set. In general it can tell you how well it generalises even if you only have one data set.\n",
    "- It has few if any statistical assumptions about the data. E.g. it does not assume that the data is normally distributed, that the data is linear, that the data is balanced, etc.\n",
    "- It does not require lots of feature engineering."
   ]
  },
  {
   "attachments": {},
   "cell_type": "markdown",
   "metadata": {},
   "source": [
    "## Hyperparameters"
   ]
  },
  {
   "attachments": {},
   "cell_type": "markdown",
   "metadata": {},
   "source": [
    "`min_samples_leaf` - The minimum number of samples in a leaf. If a leaf has fewer than this number of samples, it will be merged with another leaf. This is a way of preventing overfitting. The default is 1, which means that every leaf will have at least one sample in it. If you have a lot of data, you can set this to a higher number. If you have a small amount of data, you can set this to a lower number.\n",
    "\n",
    "`max_features` - The maximum number of features that will be considered when splitting a node. The default is `sqrt`, which means that the number of features will be the square root of the number of columns in the data set. If you have a lot of columns, you can set this to a higher number. If you have a small number of columns, you can set this to a lower number."
   ]
  },
  {
   "cell_type": "markdown",
   "metadata": {},
   "source": []
  }
 ],
 "metadata": {
  "kernelspec": {
   "display_name": "python3",
   "language": "python",
   "name": "python3"
  }
 },
 "nbformat": 4,
 "nbformat_minor": 2
}
