{
 "cells": [
  {
   "cell_type": "markdown",
   "metadata": {},
   "source": [
    "# Decision Optimisation for Continuous Outcomes\n",
    "\n",
    "- skip_exec: true\n"
   ]
  },
  {
   "cell_type": "code",
   "execution_count": null,
   "metadata": {},
   "outputs": [],
   "source": [
    "import math\n",
    "from pathlib import Path\n",
    "\n",
    "import matplotlib.pyplot as plt\n",
    "import numpy as np\n",
    "import pandas as pd\n",
    "import torch\n",
    "import torch.nn as nn\n",
    "import torch.optim as optim\n",
    "\n",
    "from quantile_forest import RandomForestQuantileRegressor\n",
    "from sklearn.metrics import mean_absolute_error, mean_squared_error, r2_score, mean_squared_log_error\n",
    "from sklearn.model_selection import train_test_split\n",
    "from sklearn.preprocessing import LabelEncoder\n",
    "from torch.utils.data import Dataset, DataLoader\n",
    "\n",
    "pd.set_option(\"display.max_columns\", None)\n",
    "\n",
    "PROJECT_ROOT = Path.cwd().parent.parent\n",
    "\n",
    "plt.rcParams[\"figure.facecolor\"] = (1, 1, 1, 0)  # RGBA tuple with alpha=0\n",
    "plt.rcParams[\"axes.facecolor\"] = (1, 1, 1, 0)  # RGBA tuple with alpha=0\n"
   ]
  },
  {
   "cell_type": "markdown",
   "metadata": {},
   "source": [
    "The data that we will use comes from the [Grupo Bimbo Inventory Demand](https://www.kaggle.com/competitions/grupo-bimbo-inventory-demand) Kaggle competition.\n",
    "\n",
    "The goal is to predict the demand of a product for a given week, at a particular store (column **Demanda_uni_equil**). The dataset consists of 9 weeks of sales transactions in Mexico. Each transaction consists of sales and returns. Returns are the products that are unsold and expired. The demand for a product in a certain week is defined as the sales this week subtracted by the return next week.\n"
   ]
  },
  {
   "cell_type": "code",
   "execution_count": null,
   "metadata": {},
   "outputs": [],
   "source": [
    "data = pd.read_csv(f\"{PROJECT_ROOT}/data/grupo-bimbo-inventory-demand/train.csv\", nrows=200000, low_memory=False)\n",
    "clientes = pd.read_csv(f\"{PROJECT_ROOT}/data/grupo-bimbo-inventory-demand/cliente_tabla.csv\", low_memory=False)\n",
    "productos = pd.read_csv(f\"{PROJECT_ROOT}/data/grupo-bimbo-inventory-demand/producto_tabla.csv\", low_memory=False)\n",
    "town_state = pd.read_csv(f\"{PROJECT_ROOT}/data/grupo-bimbo-inventory-demand/town_state.csv\", low_memory=False)\n",
    "\n",
    "data = pd.merge(data, clientes, on=\"Cliente_ID\", how=\"left\")\n",
    "data = pd.merge(data, productos, on=\"Producto_ID\", how=\"left\")\n",
    "data = pd.merge(data, town_state, on=\"Agencia_ID\", how=\"left\")\n"
   ]
  },
  {
   "cell_type": "code",
   "execution_count": null,
   "metadata": {},
   "outputs": [
    {
     "data": {
      "text/html": [
       "<div>\n",
       "<style scoped>\n",
       "    .dataframe tbody tr th:only-of-type {\n",
       "        vertical-align: middle;\n",
       "    }\n",
       "\n",
       "    .dataframe tbody tr th {\n",
       "        vertical-align: top;\n",
       "    }\n",
       "\n",
       "    .dataframe thead th {\n",
       "        text-align: right;\n",
       "    }\n",
       "</style>\n",
       "<table border=\"1\" class=\"dataframe\">\n",
       "  <thead>\n",
       "    <tr style=\"text-align: right;\">\n",
       "      <th></th>\n",
       "      <th>Semana</th>\n",
       "      <th>Agencia_ID</th>\n",
       "      <th>Canal_ID</th>\n",
       "      <th>Ruta_SAK</th>\n",
       "      <th>Cliente_ID</th>\n",
       "      <th>Producto_ID</th>\n",
       "      <th>Venta_uni_hoy</th>\n",
       "      <th>Venta_hoy</th>\n",
       "      <th>Dev_uni_proxima</th>\n",
       "      <th>Dev_proxima</th>\n",
       "      <th>Demanda_uni_equil</th>\n",
       "      <th>NombreCliente</th>\n",
       "      <th>NombreProducto</th>\n",
       "      <th>Town</th>\n",
       "      <th>State</th>\n",
       "    </tr>\n",
       "  </thead>\n",
       "  <tbody>\n",
       "    <tr>\n",
       "      <th>0</th>\n",
       "      <td>3</td>\n",
       "      <td>1110</td>\n",
       "      <td>7</td>\n",
       "      <td>3301</td>\n",
       "      <td>15766</td>\n",
       "      <td>1212</td>\n",
       "      <td>3</td>\n",
       "      <td>25.14</td>\n",
       "      <td>0</td>\n",
       "      <td>0.0</td>\n",
       "      <td>3</td>\n",
       "      <td>PUESTO DE PERIODICOS LAZARO</td>\n",
       "      <td>Roles Canela 2p 120g BIM 1212</td>\n",
       "      <td>2008 AG. LAGO FILT</td>\n",
       "      <td>MÉXICO, D.F.</td>\n",
       "    </tr>\n",
       "    <tr>\n",
       "      <th>1</th>\n",
       "      <td>3</td>\n",
       "      <td>1110</td>\n",
       "      <td>7</td>\n",
       "      <td>3301</td>\n",
       "      <td>15766</td>\n",
       "      <td>1216</td>\n",
       "      <td>4</td>\n",
       "      <td>33.52</td>\n",
       "      <td>0</td>\n",
       "      <td>0.0</td>\n",
       "      <td>4</td>\n",
       "      <td>PUESTO DE PERIODICOS LAZARO</td>\n",
       "      <td>Roles Glass 2p 135g BIM 1216</td>\n",
       "      <td>2008 AG. LAGO FILT</td>\n",
       "      <td>MÉXICO, D.F.</td>\n",
       "    </tr>\n",
       "    <tr>\n",
       "      <th>2</th>\n",
       "      <td>3</td>\n",
       "      <td>1110</td>\n",
       "      <td>7</td>\n",
       "      <td>3301</td>\n",
       "      <td>15766</td>\n",
       "      <td>1238</td>\n",
       "      <td>4</td>\n",
       "      <td>39.32</td>\n",
       "      <td>0</td>\n",
       "      <td>0.0</td>\n",
       "      <td>4</td>\n",
       "      <td>PUESTO DE PERIODICOS LAZARO</td>\n",
       "      <td>Panquecito Gota Choc 2p 140g BIM 1238</td>\n",
       "      <td>2008 AG. LAGO FILT</td>\n",
       "      <td>MÉXICO, D.F.</td>\n",
       "    </tr>\n",
       "    <tr>\n",
       "      <th>3</th>\n",
       "      <td>3</td>\n",
       "      <td>1110</td>\n",
       "      <td>7</td>\n",
       "      <td>3301</td>\n",
       "      <td>15766</td>\n",
       "      <td>1240</td>\n",
       "      <td>4</td>\n",
       "      <td>33.52</td>\n",
       "      <td>0</td>\n",
       "      <td>0.0</td>\n",
       "      <td>4</td>\n",
       "      <td>PUESTO DE PERIODICOS LAZARO</td>\n",
       "      <td>Mantecadas Vainilla 4p 125g BIM 1240</td>\n",
       "      <td>2008 AG. LAGO FILT</td>\n",
       "      <td>MÉXICO, D.F.</td>\n",
       "    </tr>\n",
       "    <tr>\n",
       "      <th>4</th>\n",
       "      <td>3</td>\n",
       "      <td>1110</td>\n",
       "      <td>7</td>\n",
       "      <td>3301</td>\n",
       "      <td>15766</td>\n",
       "      <td>1242</td>\n",
       "      <td>3</td>\n",
       "      <td>22.92</td>\n",
       "      <td>0</td>\n",
       "      <td>0.0</td>\n",
       "      <td>3</td>\n",
       "      <td>PUESTO DE PERIODICOS LAZARO</td>\n",
       "      <td>Donitas Espolvoreadas 6p 105g BIM 1242</td>\n",
       "      <td>2008 AG. LAGO FILT</td>\n",
       "      <td>MÉXICO, D.F.</td>\n",
       "    </tr>\n",
       "    <tr>\n",
       "      <th>...</th>\n",
       "      <td>...</td>\n",
       "      <td>...</td>\n",
       "      <td>...</td>\n",
       "      <td>...</td>\n",
       "      <td>...</td>\n",
       "      <td>...</td>\n",
       "      <td>...</td>\n",
       "      <td>...</td>\n",
       "      <td>...</td>\n",
       "      <td>...</td>\n",
       "      <td>...</td>\n",
       "      <td>...</td>\n",
       "      <td>...</td>\n",
       "      <td>...</td>\n",
       "      <td>...</td>\n",
       "    </tr>\n",
       "    <tr>\n",
       "      <th>200735</th>\n",
       "      <td>3</td>\n",
       "      <td>1116</td>\n",
       "      <td>1</td>\n",
       "      <td>1466</td>\n",
       "      <td>2309869</td>\n",
       "      <td>1238</td>\n",
       "      <td>8</td>\n",
       "      <td>78.64</td>\n",
       "      <td>0</td>\n",
       "      <td>0.0</td>\n",
       "      <td>8</td>\n",
       "      <td>UNION DEL VALLE 2</td>\n",
       "      <td>Panquecito Gota Choc 2p 140g BIM 1238</td>\n",
       "      <td>2011 AG. SAN ANTONIO</td>\n",
       "      <td>MÉXICO, D.F.</td>\n",
       "    </tr>\n",
       "    <tr>\n",
       "      <th>200736</th>\n",
       "      <td>3</td>\n",
       "      <td>1116</td>\n",
       "      <td>1</td>\n",
       "      <td>1466</td>\n",
       "      <td>2309869</td>\n",
       "      <td>1240</td>\n",
       "      <td>8</td>\n",
       "      <td>67.04</td>\n",
       "      <td>0</td>\n",
       "      <td>0.0</td>\n",
       "      <td>8</td>\n",
       "      <td>UNION DEL VALLE 2</td>\n",
       "      <td>Mantecadas Vainilla 4p 125g BIM 1240</td>\n",
       "      <td>2011 AG. SAN ANTONIO</td>\n",
       "      <td>MÉXICO, D.F.</td>\n",
       "    </tr>\n",
       "    <tr>\n",
       "      <th>200737</th>\n",
       "      <td>3</td>\n",
       "      <td>1116</td>\n",
       "      <td>1</td>\n",
       "      <td>1466</td>\n",
       "      <td>2309869</td>\n",
       "      <td>1242</td>\n",
       "      <td>6</td>\n",
       "      <td>45.84</td>\n",
       "      <td>0</td>\n",
       "      <td>0.0</td>\n",
       "      <td>6</td>\n",
       "      <td>UNION DEL VALLE 2</td>\n",
       "      <td>Donitas Espolvoreadas 6p 105g BIM 1242</td>\n",
       "      <td>2011 AG. SAN ANTONIO</td>\n",
       "      <td>MÉXICO, D.F.</td>\n",
       "    </tr>\n",
       "    <tr>\n",
       "      <th>200738</th>\n",
       "      <td>3</td>\n",
       "      <td>1116</td>\n",
       "      <td>1</td>\n",
       "      <td>1466</td>\n",
       "      <td>2309869</td>\n",
       "      <td>1250</td>\n",
       "      <td>27</td>\n",
       "      <td>206.28</td>\n",
       "      <td>0</td>\n",
       "      <td>0.0</td>\n",
       "      <td>27</td>\n",
       "      <td>UNION DEL VALLE 2</td>\n",
       "      <td>Donas Azucar 4p 105g BIM 1250</td>\n",
       "      <td>2011 AG. SAN ANTONIO</td>\n",
       "      <td>MÉXICO, D.F.</td>\n",
       "    </tr>\n",
       "    <tr>\n",
       "      <th>200739</th>\n",
       "      <td>3</td>\n",
       "      <td>1116</td>\n",
       "      <td>1</td>\n",
       "      <td>1466</td>\n",
       "      <td>2309869</td>\n",
       "      <td>1278</td>\n",
       "      <td>13</td>\n",
       "      <td>58.50</td>\n",
       "      <td>0</td>\n",
       "      <td>0.0</td>\n",
       "      <td>13</td>\n",
       "      <td>UNION DEL VALLE 2</td>\n",
       "      <td>Nito 1p 62g BIM 1278</td>\n",
       "      <td>2011 AG. SAN ANTONIO</td>\n",
       "      <td>MÉXICO, D.F.</td>\n",
       "    </tr>\n",
       "  </tbody>\n",
       "</table>\n",
       "<p>200740 rows × 15 columns</p>\n",
       "</div>"
      ],
      "text/plain": [
       "        Semana  Agencia_ID  Canal_ID  Ruta_SAK  Cliente_ID  Producto_ID  \\\n",
       "0            3        1110         7      3301       15766         1212   \n",
       "1            3        1110         7      3301       15766         1216   \n",
       "2            3        1110         7      3301       15766         1238   \n",
       "3            3        1110         7      3301       15766         1240   \n",
       "4            3        1110         7      3301       15766         1242   \n",
       "...        ...         ...       ...       ...         ...          ...   \n",
       "200735       3        1116         1      1466     2309869         1238   \n",
       "200736       3        1116         1      1466     2309869         1240   \n",
       "200737       3        1116         1      1466     2309869         1242   \n",
       "200738       3        1116         1      1466     2309869         1250   \n",
       "200739       3        1116         1      1466     2309869         1278   \n",
       "\n",
       "        Venta_uni_hoy  Venta_hoy  Dev_uni_proxima  Dev_proxima  \\\n",
       "0                   3      25.14                0          0.0   \n",
       "1                   4      33.52                0          0.0   \n",
       "2                   4      39.32                0          0.0   \n",
       "3                   4      33.52                0          0.0   \n",
       "4                   3      22.92                0          0.0   \n",
       "...               ...        ...              ...          ...   \n",
       "200735              8      78.64                0          0.0   \n",
       "200736              8      67.04                0          0.0   \n",
       "200737              6      45.84                0          0.0   \n",
       "200738             27     206.28                0          0.0   \n",
       "200739             13      58.50                0          0.0   \n",
       "\n",
       "        Demanda_uni_equil                NombreCliente  \\\n",
       "0                       3  PUESTO DE PERIODICOS LAZARO   \n",
       "1                       4  PUESTO DE PERIODICOS LAZARO   \n",
       "2                       4  PUESTO DE PERIODICOS LAZARO   \n",
       "3                       4  PUESTO DE PERIODICOS LAZARO   \n",
       "4                       3  PUESTO DE PERIODICOS LAZARO   \n",
       "...                   ...                          ...   \n",
       "200735                  8            UNION DEL VALLE 2   \n",
       "200736                  8            UNION DEL VALLE 2   \n",
       "200737                  6            UNION DEL VALLE 2   \n",
       "200738                 27            UNION DEL VALLE 2   \n",
       "200739                 13            UNION DEL VALLE 2   \n",
       "\n",
       "                                NombreProducto                  Town  \\\n",
       "0                Roles Canela 2p 120g BIM 1212    2008 AG. LAGO FILT   \n",
       "1                 Roles Glass 2p 135g BIM 1216    2008 AG. LAGO FILT   \n",
       "2        Panquecito Gota Choc 2p 140g BIM 1238    2008 AG. LAGO FILT   \n",
       "3         Mantecadas Vainilla 4p 125g BIM 1240    2008 AG. LAGO FILT   \n",
       "4       Donitas Espolvoreadas 6p 105g BIM 1242    2008 AG. LAGO FILT   \n",
       "...                                        ...                   ...   \n",
       "200735   Panquecito Gota Choc 2p 140g BIM 1238  2011 AG. SAN ANTONIO   \n",
       "200736    Mantecadas Vainilla 4p 125g BIM 1240  2011 AG. SAN ANTONIO   \n",
       "200737  Donitas Espolvoreadas 6p 105g BIM 1242  2011 AG. SAN ANTONIO   \n",
       "200738           Donas Azucar 4p 105g BIM 1250  2011 AG. SAN ANTONIO   \n",
       "200739                    Nito 1p 62g BIM 1278  2011 AG. SAN ANTONIO   \n",
       "\n",
       "               State  \n",
       "0       MÉXICO, D.F.  \n",
       "1       MÉXICO, D.F.  \n",
       "2       MÉXICO, D.F.  \n",
       "3       MÉXICO, D.F.  \n",
       "4       MÉXICO, D.F.  \n",
       "...              ...  \n",
       "200735  MÉXICO, D.F.  \n",
       "200736  MÉXICO, D.F.  \n",
       "200737  MÉXICO, D.F.  \n",
       "200738  MÉXICO, D.F.  \n",
       "200739  MÉXICO, D.F.  \n",
       "\n",
       "[200740 rows x 15 columns]"
      ]
     },
     "execution_count": null,
     "metadata": {},
     "output_type": "execute_result"
    }
   ],
   "source": [
    "data\n"
   ]
  },
  {
   "cell_type": "code",
   "execution_count": null,
   "metadata": {},
   "outputs": [],
   "source": [
    "categorical_cols = [\"Agencia_ID\", \"Canal_ID\", \"Ruta_SAK\", \"Cliente_ID\", \"Producto_ID\"]\n",
    "\n",
    "label_encoders = {}\n",
    "for col in categorical_cols:\n",
    "    le = LabelEncoder()\n",
    "    le.fit(data[col])\n",
    "    data[col] = le.transform(data[col])\n",
    "    label_encoders[col] = le"
   ]
  },
  {
   "cell_type": "code",
   "execution_count": null,
   "metadata": {},
   "outputs": [],
   "source": [
    "num_unique_vals = {col: data[col].nunique() for col in categorical_cols}\n",
    "embedding_sizes = {col: min(50, num_unique_vals[col] // 2) for col in categorical_cols}\n"
   ]
  },
  {
   "cell_type": "code",
   "execution_count": null,
   "metadata": {},
   "outputs": [
    {
     "data": {
      "text/plain": [
       "{'Agencia_ID': 6,\n",
       " 'Canal_ID': 6,\n",
       " 'Ruta_SAK': 343,\n",
       " 'Cliente_ID': 10472,\n",
       " 'Producto_ID': 478}"
      ]
     },
     "execution_count": null,
     "metadata": {},
     "output_type": "execute_result"
    }
   ],
   "source": [
    "num_unique_vals"
   ]
  },
  {
   "cell_type": "code",
   "execution_count": null,
   "metadata": {},
   "outputs": [
    {
     "data": {
      "text/plain": [
       "{'Agencia_ID': 3,\n",
       " 'Canal_ID': 3,\n",
       " 'Ruta_SAK': 50,\n",
       " 'Cliente_ID': 50,\n",
       " 'Producto_ID': 50}"
      ]
     },
     "execution_count": null,
     "metadata": {},
     "output_type": "execute_result"
    }
   ],
   "source": [
    "embedding_sizes"
   ]
  },
  {
   "cell_type": "code",
   "execution_count": null,
   "metadata": {},
   "outputs": [],
   "source": [
    "X = data[categorical_cols].values\n",
    "y = data[\"Demanda_uni_equil\"].values"
   ]
  },
  {
   "cell_type": "code",
   "execution_count": null,
   "metadata": {},
   "outputs": [
    {
     "data": {
      "text/plain": [
       "array([[   0,    3,  293,    3,   43],\n",
       "       [   0,    3,  293,    3,   44],\n",
       "       [   0,    3,  293,    3,   48],\n",
       "       ...,\n",
       "       [   5,    0,  235, 7722,   50],\n",
       "       [   5,    0,  235, 7722,   51],\n",
       "       [   5,    0,  235, 7722,   53]])"
      ]
     },
     "execution_count": null,
     "metadata": {},
     "output_type": "execute_result"
    }
   ],
   "source": [
    "X\n"
   ]
  },
  {
   "cell_type": "code",
   "execution_count": null,
   "metadata": {},
   "outputs": [
    {
     "data": {
      "text/plain": [
       "array([ 3,  4,  4, ...,  6, 27, 13])"
      ]
     },
     "execution_count": null,
     "metadata": {},
     "output_type": "execute_result"
    }
   ],
   "source": [
    "y\n"
   ]
  },
  {
   "cell_type": "code",
   "execution_count": null,
   "metadata": {},
   "outputs": [],
   "source": [
    "X_train, X_val, y_train, y_val = train_test_split(X, y, test_size=0.2, random_state=0)\n"
   ]
  },
  {
   "cell_type": "code",
   "execution_count": null,
   "metadata": {},
   "outputs": [],
   "source": [
    "class BimboDataset(Dataset):\n",
    "    def __init__(self, X, y):\n",
    "        self.X = [torch.tensor(X[:, i], dtype=torch.long) for i in range(X.shape[1])]\n",
    "        self.y = torch.tensor(y, dtype=torch.float32)\n",
    "\n",
    "    def __len__(self):\n",
    "        return len(self.y)\n",
    "\n",
    "    def __getitem__(self, idx):\n",
    "        return [x[idx] for x in self.X], self.y[idx]"
   ]
  },
  {
   "cell_type": "code",
   "execution_count": null,
   "metadata": {},
   "outputs": [],
   "source": [
    "train_dataset = BimboDataset(X_train, y_train)\n",
    "val_dataset = BimboDataset(X_val, y_val)\n",
    "\n",
    "train_loader = DataLoader(train_dataset, batch_size=128, shuffle=True)\n",
    "val_loader = DataLoader(val_dataset, batch_size=128, shuffle=False)"
   ]
  },
  {
   "cell_type": "code",
   "execution_count": null,
   "metadata": {},
   "outputs": [],
   "source": [
    "class SimpleModel(nn.Module):\n",
    "    def __init__(self, embedding_sizes, hidden_size=128):\n",
    "        super(SimpleModel, self).__init__()\n",
    "        self.embeddings = nn.ModuleList(\n",
    "            [nn.Embedding(num_unique_vals[col], embedding_sizes[col]) for col in categorical_cols]\n",
    "        )\n",
    "        self.fc1 = nn.Linear(sum(embedding_sizes.values()), hidden_size)\n",
    "        self.fc2 = nn.Linear(hidden_size, hidden_size)\n",
    "        self.fc3 = nn.Linear(hidden_size, 1)\n",
    "\n",
    "    def forward(self, x):\n",
    "        x = [embedding(x_i) for x_i, embedding in zip(x, self.embeddings)]\n",
    "        x = torch.cat(x, dim=-1)\n",
    "        x = torch.relu(self.fc1(x))\n",
    "        x = torch.relu(self.fc2(x))\n",
    "        x = self.fc3(x).squeeze(-1)\n",
    "        return x\n"
   ]
  },
  {
   "cell_type": "code",
   "execution_count": null,
   "metadata": {},
   "outputs": [],
   "source": [
    "def train_model(loss_fn, num_epochs=5):\n",
    "    model = SimpleModel(embedding_sizes)\n",
    "    optimizer = optim.Adam(model.parameters(), lr=0.005)\n",
    "\n",
    "    # Training loop\n",
    "    for epoch in range(num_epochs):\n",
    "        model.train()\n",
    "        train_loss = 0.0\n",
    "        for inputs, targets in train_loader:\n",
    "            optimizer.zero_grad()\n",
    "            outputs = model(inputs).squeeze()\n",
    "            loss = loss_fn(outputs, targets)\n",
    "            loss.backward()\n",
    "            optimizer.step()\n",
    "            train_loss += loss.item()\n",
    "\n",
    "        train_loss /= len(train_loader)\n",
    "        # Validation loop\n",
    "        model.eval()\n",
    "        val_loss = 0.0\n",
    "        val_preds = []\n",
    "        val_targets = []\n",
    "        with torch.no_grad():\n",
    "            for inputs, targets in val_loader:\n",
    "                outputs = model(inputs).squeeze()\n",
    "                loss = loss_fn(outputs, targets)\n",
    "                val_loss += loss.item()\n",
    "                val_preds.extend(outputs.tolist())\n",
    "                val_targets.extend(targets.tolist())\n",
    "\n",
    "        val_loss /= len(val_loader)\n",
    "        r2 = r2_score(val_targets, val_preds)\n",
    "        val_preds = np.clip(val_preds, 0, None)\n",
    "        rmsle = np.sqrt(mean_squared_log_error(val_targets, val_preds))\n",
    "        print(\n",
    "            {\n",
    "                \"epoch\": epoch,\n",
    "                \"train_loss\": round(train_loss, 5),\n",
    "                \"val_loss\": round(val_loss, 5),\n",
    "                \"r_squared\": round(r2, 5),\n",
    "                \"rmsle\": round(rmsle, 5),\n",
    "            }\n",
    "        )\n",
    "    return model, np.array(val_preds), np.array(val_targets)"
   ]
  },
  {
   "cell_type": "code",
   "execution_count": null,
   "metadata": {},
   "outputs": [],
   "source": [
    "business_metrics = pd.DataFrame(\n",
    "    columns=[\n",
    "        \"Model Name\",\n",
    "        \"Understocked Fraction\",\n",
    "        \"Understocked Amount\",\n",
    "        \"Overstocked Fraction\",\n",
    "        \"Overstocked Amount\",\n",
    "        \"Utility\",\n",
    "        \"MAE\",\n",
    "        \"MSE\",\n",
    "        \"R2\",\n",
    "        \"RMSLE\",\n",
    "    ]\n",
    ")"
   ]
  },
  {
   "cell_type": "code",
   "execution_count": null,
   "metadata": {},
   "outputs": [],
   "source": [
    "def log_business_metrics(model_name: str, stocking_decisions, actual_demand):\n",
    "    frac_understocks = (stocking_decisions < actual_demand).mean()\n",
    "    total_understocked_amt = (actual_demand - stocking_decisions).clip(0).sum()\n",
    "    frac_overstocks = (stocking_decisions > actual_demand).mean()\n",
    "    total_overstocked_amt = (stocking_decisions - actual_demand).clip(0).sum()\n",
    "    utility = -3 * total_understocked_amt - total_overstocked_amt\n",
    "    mae = mean_absolute_error(actual_demand, stocking_decisions)\n",
    "    mse = mean_squared_error(actual_demand, stocking_decisions)\n",
    "    r2 = r2_score(actual_demand, stocking_decisions)\n",
    "    rmsle = np.sqrt(mean_squared_log_error(actual_demand, stocking_decisions))\n",
    "\n",
    "    df = pd.DataFrame(\n",
    "        data={\n",
    "            \"Model Name\": model_name,\n",
    "            \"Understocked Fraction\": frac_understocks,\n",
    "            \"Understocked Amount\": total_understocked_amt,\n",
    "            \"Overstocked Fraction\": frac_overstocks,\n",
    "            \"Overstocked Amount\": total_overstocked_amt,\n",
    "            \"Utility\": utility,\n",
    "            \"MAE\": mae,\n",
    "            \"MSE\": mse,\n",
    "            \"R2\": r2,\n",
    "            \"RMSLE\": rmsle,\n",
    "        },\n",
    "        index=[0],\n",
    "    )\n",
    "\n",
    "    return df\n"
   ]
  },
  {
   "cell_type": "code",
   "execution_count": null,
   "metadata": {},
   "outputs": [
    {
     "name": "stdout",
     "output_type": "stream",
     "text": [
      "{'epoch': 0, 'train_loss': 376.08925, 'val_loss': 227.47458, 'r_squared': 0.63116, 'rmsle': 0.67018}\n",
      "{'epoch': 1, 'train_loss': 246.72899, 'val_loss': 202.99381, 'r_squared': 0.67091, 'rmsle': 0.60655}\n",
      "{'epoch': 2, 'train_loss': 188.01208, 'val_loss': 157.39294, 'r_squared': 0.74483, 'rmsle': 0.59883}\n",
      "{'epoch': 3, 'train_loss': 154.99719, 'val_loss': 191.1642, 'r_squared': 0.69006, 'rmsle': 0.58823}\n",
      "{'epoch': 4, 'train_loss': 139.73279, 'val_loss': 172.35903, 'r_squared': 0.72053, 'rmsle': 0.58192}\n"
     ]
    }
   ],
   "source": [
    "loss = nn.MSELoss()\n",
    "mse_model, mse_val_preds, mse_val_targets = train_model(loss, num_epochs=5)\n"
   ]
  },
  {
   "cell_type": "code",
   "execution_count": null,
   "metadata": {},
   "outputs": [
    {
     "data": {
      "text/html": [
       "<div>\n",
       "<style scoped>\n",
       "    .dataframe tbody tr th:only-of-type {\n",
       "        vertical-align: middle;\n",
       "    }\n",
       "\n",
       "    .dataframe tbody tr th {\n",
       "        vertical-align: top;\n",
       "    }\n",
       "\n",
       "    .dataframe thead th {\n",
       "        text-align: right;\n",
       "    }\n",
       "</style>\n",
       "<table border=\"1\" class=\"dataframe\">\n",
       "  <thead>\n",
       "    <tr style=\"text-align: right;\">\n",
       "      <th></th>\n",
       "      <th>Model Name</th>\n",
       "      <th>Understocked Fraction</th>\n",
       "      <th>Understocked Amount</th>\n",
       "      <th>Overstocked Fraction</th>\n",
       "      <th>Overstocked Amount</th>\n",
       "      <th>Utility</th>\n",
       "      <th>MAE</th>\n",
       "      <th>MSE</th>\n",
       "      <th>R2</th>\n",
       "      <th>RMSLE</th>\n",
       "    </tr>\n",
       "  </thead>\n",
       "  <tbody>\n",
       "    <tr>\n",
       "      <th>0</th>\n",
       "      <td>MSE model</td>\n",
       "      <td>0.275381</td>\n",
       "      <td>72458.0</td>\n",
       "      <td>0.631015</td>\n",
       "      <td>104514.0</td>\n",
       "      <td>-321888.0</td>\n",
       "      <td>4.40799</td>\n",
       "      <td>173.166235</td>\n",
       "      <td>0.719482</td>\n",
       "      <td>0.627397</td>\n",
       "    </tr>\n",
       "  </tbody>\n",
       "</table>\n",
       "</div>"
      ],
      "text/plain": [
       "  Model Name  Understocked Fraction  Understocked Amount  \\\n",
       "0  MSE model               0.275381              72458.0   \n",
       "\n",
       "   Overstocked Fraction  Overstocked Amount   Utility      MAE         MSE  \\\n",
       "0              0.631015            104514.0 -321888.0  4.40799  173.166235   \n",
       "\n",
       "         R2     RMSLE  \n",
       "0  0.719482  0.627397  "
      ]
     },
     "execution_count": null,
     "metadata": {},
     "output_type": "execute_result"
    }
   ],
   "source": [
    "mse_val_stock = np.ceil(mse_val_preds)\n",
    "bm1 = log_business_metrics(\"MSE model\", mse_val_stock, mse_val_targets)\n",
    "pd.concat([business_metrics, bm1], axis=0, ignore_index=True)"
   ]
  },
  {
   "cell_type": "markdown",
   "metadata": {},
   "source": [
    "With the stocking rules above, we understock 27% of the time. This seems bad so let's try a different approach to making the stocking decision.\n",
    "\n",
    "Below we take the existing predictions and multiply them by 1.5 and round them up. In other words we are going to stock 50% above the model's predictions and see what happens.\n"
   ]
  },
  {
   "cell_type": "code",
   "execution_count": null,
   "metadata": {},
   "outputs": [
    {
     "data": {
      "text/html": [
       "<div>\n",
       "<style scoped>\n",
       "    .dataframe tbody tr th:only-of-type {\n",
       "        vertical-align: middle;\n",
       "    }\n",
       "\n",
       "    .dataframe tbody tr th {\n",
       "        vertical-align: top;\n",
       "    }\n",
       "\n",
       "    .dataframe thead th {\n",
       "        text-align: right;\n",
       "    }\n",
       "</style>\n",
       "<table border=\"1\" class=\"dataframe\">\n",
       "  <thead>\n",
       "    <tr style=\"text-align: right;\">\n",
       "      <th></th>\n",
       "      <th>Model Name</th>\n",
       "      <th>Understocked Fraction</th>\n",
       "      <th>Understocked Amount</th>\n",
       "      <th>Overstocked Fraction</th>\n",
       "      <th>Overstocked Amount</th>\n",
       "      <th>Utility</th>\n",
       "      <th>MAE</th>\n",
       "      <th>MSE</th>\n",
       "      <th>R2</th>\n",
       "      <th>RMSLE</th>\n",
       "    </tr>\n",
       "  </thead>\n",
       "  <tbody>\n",
       "    <tr>\n",
       "      <th>0</th>\n",
       "      <td>MSE model</td>\n",
       "      <td>0.275381</td>\n",
       "      <td>72458.0</td>\n",
       "      <td>0.631015</td>\n",
       "      <td>104514.0</td>\n",
       "      <td>-321888.0</td>\n",
       "      <td>4.407990</td>\n",
       "      <td>173.166235</td>\n",
       "      <td>0.719482</td>\n",
       "      <td>0.627397</td>\n",
       "    </tr>\n",
       "    <tr>\n",
       "      <th>1</th>\n",
       "      <td>MSE model * 1.5</td>\n",
       "      <td>0.135075</td>\n",
       "      <td>32762.0</td>\n",
       "      <td>0.802904</td>\n",
       "      <td>226306.0</td>\n",
       "      <td>-324592.0</td>\n",
       "      <td>6.452825</td>\n",
       "      <td>322.720982</td>\n",
       "      <td>0.477213</td>\n",
       "      <td>0.775845</td>\n",
       "    </tr>\n",
       "  </tbody>\n",
       "</table>\n",
       "</div>"
      ],
      "text/plain": [
       "        Model Name  Understocked Fraction  Understocked Amount  \\\n",
       "0        MSE model               0.275381              72458.0   \n",
       "1  MSE model * 1.5               0.135075              32762.0   \n",
       "\n",
       "   Overstocked Fraction  Overstocked Amount   Utility       MAE         MSE  \\\n",
       "0              0.631015            104514.0 -321888.0  4.407990  173.166235   \n",
       "1              0.802904            226306.0 -324592.0  6.452825  322.720982   \n",
       "\n",
       "         R2     RMSLE  \n",
       "0  0.719482  0.627397  \n",
       "1  0.477213  0.775845  "
      ]
     },
     "execution_count": null,
     "metadata": {},
     "output_type": "execute_result"
    }
   ],
   "source": [
    "alternative_stocking_rule = np.ceil(1.5 * mse_val_preds)\n",
    "bm2 = log_business_metrics(\"MSE model * 1.5\", alternative_stocking_rule, mse_val_targets)\n",
    "pd.concat([business_metrics, bm1, bm2], axis=0, ignore_index=True)\n"
   ]
  },
  {
   "cell_type": "markdown",
   "metadata": {},
   "source": [
    "We now understock only 8% of the time. We paid for this by increasing the percentage of weeks we are overstocked from 59% to 80%.\n",
    "\n",
    "Looking at how the size of the overstocks we can se that we went from 89731 to 208034. In other words we've more than doubled how much unnecessary stuff we are buying. This suggests we would best off focusing improvements to our model that bring down this number.\n"
   ]
  },
  {
   "cell_type": "markdown",
   "metadata": {},
   "source": [
    "### Using an alternative loss function (L1 loss)\n"
   ]
  },
  {
   "cell_type": "markdown",
   "metadata": {},
   "source": [
    "Currently our model is attempting to minimise the mean squared error. This is a sensible choice for many problems but it is not the only choice. For example, we could instead try to minimise the mean absolute error. This is known as the L1 loss.\n"
   ]
  },
  {
   "cell_type": "code",
   "execution_count": null,
   "metadata": {},
   "outputs": [
    {
     "name": "stdout",
     "output_type": "stream",
     "text": [
      "{'epoch': 0, 'train_loss': 4.86463, 'val_loss': 4.30155, 'r_squared': 0.46805, 'rmsle': 0.55212}\n",
      "{'epoch': 1, 'train_loss': 4.01097, 'val_loss': 3.95936, 'r_squared': 0.61966, 'rmsle': 0.52564}\n",
      "{'epoch': 2, 'train_loss': 3.72004, 'val_loss': 3.86857, 'r_squared': 0.63448, 'rmsle': 0.51612}\n",
      "{'epoch': 3, 'train_loss': 3.52463, 'val_loss': 3.7652, 'r_squared': 0.6589, 'rmsle': 0.51475}\n",
      "{'epoch': 4, 'train_loss': 3.37773, 'val_loss': 3.78491, 'r_squared': 0.69835, 'rmsle': 0.51039}\n"
     ]
    }
   ],
   "source": [
    "loss = nn.L1Loss()\n",
    "mae_model, mae_val_preds, mae_val_targets = train_model(loss, num_epochs=5)"
   ]
  },
  {
   "cell_type": "markdown",
   "metadata": {},
   "source": [
    "We can't really compare the the training and validation loss of in this model run to the previous one because they are using different loss functions, one of which squares its values and one of which doesn't. However, can look at what each decisions each model would have led us to and compare the resulting business metrics.\n"
   ]
  },
  {
   "cell_type": "code",
   "execution_count": null,
   "metadata": {},
   "outputs": [
    {
     "data": {
      "text/html": [
       "<div>\n",
       "<style scoped>\n",
       "    .dataframe tbody tr th:only-of-type {\n",
       "        vertical-align: middle;\n",
       "    }\n",
       "\n",
       "    .dataframe tbody tr th {\n",
       "        vertical-align: top;\n",
       "    }\n",
       "\n",
       "    .dataframe thead th {\n",
       "        text-align: right;\n",
       "    }\n",
       "</style>\n",
       "<table border=\"1\" class=\"dataframe\">\n",
       "  <thead>\n",
       "    <tr style=\"text-align: right;\">\n",
       "      <th></th>\n",
       "      <th>Model Name</th>\n",
       "      <th>Understocked Fraction</th>\n",
       "      <th>Understocked Amount</th>\n",
       "      <th>Overstocked Fraction</th>\n",
       "      <th>Overstocked Amount</th>\n",
       "      <th>Utility</th>\n",
       "      <th>MAE</th>\n",
       "      <th>MSE</th>\n",
       "      <th>R2</th>\n",
       "      <th>RMSLE</th>\n",
       "    </tr>\n",
       "  </thead>\n",
       "  <tbody>\n",
       "    <tr>\n",
       "      <th>0</th>\n",
       "      <td>MSE model</td>\n",
       "      <td>0.275381</td>\n",
       "      <td>72458.0</td>\n",
       "      <td>0.631015</td>\n",
       "      <td>104514.0</td>\n",
       "      <td>-321888.0</td>\n",
       "      <td>4.407990</td>\n",
       "      <td>173.166235</td>\n",
       "      <td>0.719482</td>\n",
       "      <td>0.627397</td>\n",
       "    </tr>\n",
       "    <tr>\n",
       "      <th>1</th>\n",
       "      <td>MSE model * 1.5</td>\n",
       "      <td>0.135075</td>\n",
       "      <td>32762.0</td>\n",
       "      <td>0.802904</td>\n",
       "      <td>226306.0</td>\n",
       "      <td>-324592.0</td>\n",
       "      <td>6.452825</td>\n",
       "      <td>322.720982</td>\n",
       "      <td>0.477213</td>\n",
       "      <td>0.775845</td>\n",
       "    </tr>\n",
       "    <tr>\n",
       "      <th>2</th>\n",
       "      <td>MAE model</td>\n",
       "      <td>0.338921</td>\n",
       "      <td>81489.0</td>\n",
       "      <td>0.496687</td>\n",
       "      <td>71728.0</td>\n",
       "      <td>-316195.0</td>\n",
       "      <td>3.816305</td>\n",
       "      <td>185.795133</td>\n",
       "      <td>0.699024</td>\n",
       "      <td>0.520921</td>\n",
       "    </tr>\n",
       "  </tbody>\n",
       "</table>\n",
       "</div>"
      ],
      "text/plain": [
       "        Model Name  Understocked Fraction  Understocked Amount  \\\n",
       "0        MSE model               0.275381              72458.0   \n",
       "1  MSE model * 1.5               0.135075              32762.0   \n",
       "2        MAE model               0.338921              81489.0   \n",
       "\n",
       "   Overstocked Fraction  Overstocked Amount   Utility       MAE         MSE  \\\n",
       "0              0.631015            104514.0 -321888.0  4.407990  173.166235   \n",
       "1              0.802904            226306.0 -324592.0  6.452825  322.720982   \n",
       "2              0.496687             71728.0 -316195.0  3.816305  185.795133   \n",
       "\n",
       "         R2     RMSLE  \n",
       "0  0.719482  0.627397  \n",
       "1  0.477213  0.775845  \n",
       "2  0.699024  0.520921  "
      ]
     },
     "execution_count": null,
     "metadata": {},
     "output_type": "execute_result"
    }
   ],
   "source": [
    "mae_val_stock = np.ceil(mae_val_preds)\n",
    "bm3 = log_business_metrics(\"MAE model\", mae_val_stock, mae_val_targets)\n",
    "pd.concat([business_metrics, bm1, bm2, bm3], axis=0, ignore_index=True)"
   ]
  },
  {
   "cell_type": "markdown",
   "metadata": {},
   "source": [
    "Let's also get the business metrics for when we stock 50% above the model's predictions.\n"
   ]
  },
  {
   "cell_type": "code",
   "execution_count": null,
   "metadata": {},
   "outputs": [
    {
     "data": {
      "text/html": [
       "<div>\n",
       "<style scoped>\n",
       "    .dataframe tbody tr th:only-of-type {\n",
       "        vertical-align: middle;\n",
       "    }\n",
       "\n",
       "    .dataframe tbody tr th {\n",
       "        vertical-align: top;\n",
       "    }\n",
       "\n",
       "    .dataframe thead th {\n",
       "        text-align: right;\n",
       "    }\n",
       "</style>\n",
       "<table border=\"1\" class=\"dataframe\">\n",
       "  <thead>\n",
       "    <tr style=\"text-align: right;\">\n",
       "      <th></th>\n",
       "      <th>Model Name</th>\n",
       "      <th>Understocked Fraction</th>\n",
       "      <th>Understocked Amount</th>\n",
       "      <th>Overstocked Fraction</th>\n",
       "      <th>Overstocked Amount</th>\n",
       "      <th>Utility</th>\n",
       "      <th>MAE</th>\n",
       "      <th>MSE</th>\n",
       "      <th>R2</th>\n",
       "      <th>RMSLE</th>\n",
       "    </tr>\n",
       "  </thead>\n",
       "  <tbody>\n",
       "    <tr>\n",
       "      <th>0</th>\n",
       "      <td>MSE model</td>\n",
       "      <td>0.275381</td>\n",
       "      <td>72458.0</td>\n",
       "      <td>0.631015</td>\n",
       "      <td>104514.0</td>\n",
       "      <td>-321888.0</td>\n",
       "      <td>4.407990</td>\n",
       "      <td>173.166235</td>\n",
       "      <td>0.719482</td>\n",
       "      <td>0.627397</td>\n",
       "    </tr>\n",
       "    <tr>\n",
       "      <th>1</th>\n",
       "      <td>MSE model * 1.5</td>\n",
       "      <td>0.135075</td>\n",
       "      <td>32762.0</td>\n",
       "      <td>0.802904</td>\n",
       "      <td>226306.0</td>\n",
       "      <td>-324592.0</td>\n",
       "      <td>6.452825</td>\n",
       "      <td>322.720982</td>\n",
       "      <td>0.477213</td>\n",
       "      <td>0.775845</td>\n",
       "    </tr>\n",
       "    <tr>\n",
       "      <th>2</th>\n",
       "      <td>MAE model</td>\n",
       "      <td>0.338921</td>\n",
       "      <td>81489.0</td>\n",
       "      <td>0.496687</td>\n",
       "      <td>71728.0</td>\n",
       "      <td>-316195.0</td>\n",
       "      <td>3.816305</td>\n",
       "      <td>185.795133</td>\n",
       "      <td>0.699024</td>\n",
       "      <td>0.520921</td>\n",
       "    </tr>\n",
       "    <tr>\n",
       "      <th>3</th>\n",
       "      <td>MAE model * 1.5</td>\n",
       "      <td>0.156322</td>\n",
       "      <td>37625.0</td>\n",
       "      <td>0.758494</td>\n",
       "      <td>184350.0</td>\n",
       "      <td>-297225.0</td>\n",
       "      <td>5.528918</td>\n",
       "      <td>333.072955</td>\n",
       "      <td>0.460443</td>\n",
       "      <td>0.655141</td>\n",
       "    </tr>\n",
       "  </tbody>\n",
       "</table>\n",
       "</div>"
      ],
      "text/plain": [
       "        Model Name  Understocked Fraction  Understocked Amount  \\\n",
       "0        MSE model               0.275381              72458.0   \n",
       "1  MSE model * 1.5               0.135075              32762.0   \n",
       "2        MAE model               0.338921              81489.0   \n",
       "3  MAE model * 1.5               0.156322              37625.0   \n",
       "\n",
       "   Overstocked Fraction  Overstocked Amount   Utility       MAE         MSE  \\\n",
       "0              0.631015            104514.0 -321888.0  4.407990  173.166235   \n",
       "1              0.802904            226306.0 -324592.0  6.452825  322.720982   \n",
       "2              0.496687             71728.0 -316195.0  3.816305  185.795133   \n",
       "3              0.758494            184350.0 -297225.0  5.528918  333.072955   \n",
       "\n",
       "         R2     RMSLE  \n",
       "0  0.719482  0.627397  \n",
       "1  0.477213  0.775845  \n",
       "2  0.699024  0.520921  \n",
       "3  0.460443  0.655141  "
      ]
     },
     "execution_count": null,
     "metadata": {},
     "output_type": "execute_result"
    }
   ],
   "source": [
    "above_mae_stocking_rule = np.ceil(1.5 * mae_val_preds)\n",
    "bm4 = log_business_metrics(\"MAE model * 1.5\", above_mae_stocking_rule, mse_val_targets)\n",
    "pd.concat([business_metrics, bm1, bm2, bm3, bm4], axis=0, ignore_index=True)"
   ]
  },
  {
   "cell_type": "markdown",
   "metadata": {},
   "source": [
    "We can see here that we both understock and overstock less often with a model trained with L1 loss. So swapping this in for MSE loss seems like a strict improvement.\n"
   ]
  },
  {
   "cell_type": "markdown",
   "metadata": {},
   "source": [
    "### Going further with a custom loss function\n"
   ]
  },
  {
   "cell_type": "markdown",
   "metadata": {},
   "source": [
    "We have metric, `Utility`, which we are defining as $-3(\\text{Understocked Amount} - \\text{Overstocked Amount})$. In the real world you would spend a lot of time deciding how to define a metric like this. Assuming that you have done that, you may decide to train your model attempt to optimise that.\n"
   ]
  },
  {
   "cell_type": "code",
   "execution_count": null,
   "metadata": {},
   "outputs": [],
   "source": [
    "class CustomLoss(nn.Module):\n",
    "    def __init__(self):\n",
    "        super(CustomLoss, self).__init__()\n",
    "\n",
    "    def forward(self, outputs, actual):\n",
    "        diff = outputs - actual\n",
    "        loss = torch.where(outputs > actual, diff, -3 * diff)\n",
    "        return loss.mean()\n"
   ]
  },
  {
   "cell_type": "code",
   "execution_count": null,
   "metadata": {},
   "outputs": [
    {
     "name": "stdout",
     "output_type": "stream",
     "text": [
      "{'epoch': 0, 'train_loss': 9.87575, 'val_loss': 8.1583, 'r_squared': 0.58504, 'rmsle': 0.61193}\n",
      "{'epoch': 1, 'train_loss': 7.53965, 'val_loss': 7.48924, 'r_squared': 0.63308, 'rmsle': 0.6155}\n",
      "{'epoch': 2, 'train_loss': 6.85897, 'val_loss': 7.22076, 'r_squared': 0.60763, 'rmsle': 0.60818}\n",
      "{'epoch': 3, 'train_loss': 6.44625, 'val_loss': 7.16378, 'r_squared': 0.6077, 'rmsle': 0.62336}\n",
      "{'epoch': 4, 'train_loss': 6.10289, 'val_loss': 7.19856, 'r_squared': 0.58086, 'rmsle': 0.64997}\n"
     ]
    }
   ],
   "source": [
    "custom_model, custom_val_preds, custom_val_targets = train_model(CustomLoss(), num_epochs=5)\n"
   ]
  },
  {
   "cell_type": "code",
   "execution_count": null,
   "metadata": {},
   "outputs": [
    {
     "data": {
      "text/html": [
       "<div>\n",
       "<style scoped>\n",
       "    .dataframe tbody tr th:only-of-type {\n",
       "        vertical-align: middle;\n",
       "    }\n",
       "\n",
       "    .dataframe tbody tr th {\n",
       "        vertical-align: top;\n",
       "    }\n",
       "\n",
       "    .dataframe thead th {\n",
       "        text-align: right;\n",
       "    }\n",
       "</style>\n",
       "<table border=\"1\" class=\"dataframe\">\n",
       "  <thead>\n",
       "    <tr style=\"text-align: right;\">\n",
       "      <th></th>\n",
       "      <th>Model Name</th>\n",
       "      <th>Understocked Fraction</th>\n",
       "      <th>Understocked Amount</th>\n",
       "      <th>Overstocked Fraction</th>\n",
       "      <th>Overstocked Amount</th>\n",
       "      <th>Utility</th>\n",
       "      <th>MAE</th>\n",
       "      <th>MSE</th>\n",
       "      <th>R2</th>\n",
       "      <th>RMSLE</th>\n",
       "    </tr>\n",
       "  </thead>\n",
       "  <tbody>\n",
       "    <tr>\n",
       "      <th>0</th>\n",
       "      <td>MSE model</td>\n",
       "      <td>0.275381</td>\n",
       "      <td>72458.0</td>\n",
       "      <td>0.631015</td>\n",
       "      <td>104514.0</td>\n",
       "      <td>-321888.0</td>\n",
       "      <td>4.407990</td>\n",
       "      <td>173.166235</td>\n",
       "      <td>0.719482</td>\n",
       "      <td>0.627397</td>\n",
       "    </tr>\n",
       "    <tr>\n",
       "      <th>1</th>\n",
       "      <td>MSE model * 1.5</td>\n",
       "      <td>0.135075</td>\n",
       "      <td>32762.0</td>\n",
       "      <td>0.802904</td>\n",
       "      <td>226306.0</td>\n",
       "      <td>-324592.0</td>\n",
       "      <td>6.452825</td>\n",
       "      <td>322.720982</td>\n",
       "      <td>0.477213</td>\n",
       "      <td>0.775845</td>\n",
       "    </tr>\n",
       "    <tr>\n",
       "      <th>2</th>\n",
       "      <td>MAE model</td>\n",
       "      <td>0.338921</td>\n",
       "      <td>81489.0</td>\n",
       "      <td>0.496687</td>\n",
       "      <td>71728.0</td>\n",
       "      <td>-316195.0</td>\n",
       "      <td>3.816305</td>\n",
       "      <td>185.795133</td>\n",
       "      <td>0.699024</td>\n",
       "      <td>0.520921</td>\n",
       "    </tr>\n",
       "    <tr>\n",
       "      <th>3</th>\n",
       "      <td>MAE model * 1.5</td>\n",
       "      <td>0.156322</td>\n",
       "      <td>37625.0</td>\n",
       "      <td>0.758494</td>\n",
       "      <td>184350.0</td>\n",
       "      <td>-297225.0</td>\n",
       "      <td>5.528918</td>\n",
       "      <td>333.072955</td>\n",
       "      <td>0.460443</td>\n",
       "      <td>0.655141</td>\n",
       "    </tr>\n",
       "    <tr>\n",
       "      <th>4</th>\n",
       "      <td>Custom loss</td>\n",
       "      <td>0.138612</td>\n",
       "      <td>34970.0</td>\n",
       "      <td>0.788707</td>\n",
       "      <td>188466.0</td>\n",
       "      <td>-293376.0</td>\n",
       "      <td>5.565308</td>\n",
       "      <td>262.383431</td>\n",
       "      <td>0.574956</td>\n",
       "      <td>0.695139</td>\n",
       "    </tr>\n",
       "  </tbody>\n",
       "</table>\n",
       "</div>"
      ],
      "text/plain": [
       "        Model Name  Understocked Fraction  Understocked Amount  \\\n",
       "0        MSE model               0.275381              72458.0   \n",
       "1  MSE model * 1.5               0.135075              32762.0   \n",
       "2        MAE model               0.338921              81489.0   \n",
       "3  MAE model * 1.5               0.156322              37625.0   \n",
       "4      Custom loss               0.138612              34970.0   \n",
       "\n",
       "   Overstocked Fraction  Overstocked Amount   Utility       MAE         MSE  \\\n",
       "0              0.631015            104514.0 -321888.0  4.407990  173.166235   \n",
       "1              0.802904            226306.0 -324592.0  6.452825  322.720982   \n",
       "2              0.496687             71728.0 -316195.0  3.816305  185.795133   \n",
       "3              0.758494            184350.0 -297225.0  5.528918  333.072955   \n",
       "4              0.788707            188466.0 -293376.0  5.565308  262.383431   \n",
       "\n",
       "         R2     RMSLE  \n",
       "0  0.719482  0.627397  \n",
       "1  0.477213  0.775845  \n",
       "2  0.699024  0.520921  \n",
       "3  0.460443  0.655141  \n",
       "4  0.574956  0.695139  "
      ]
     },
     "execution_count": null,
     "metadata": {},
     "output_type": "execute_result"
    }
   ],
   "source": [
    "custom_val_stock = np.ceil(custom_val_preds)\n",
    "bm5 = log_business_metrics(\"Custom loss\", custom_val_stock, custom_val_targets)\n",
    "pd.concat([business_metrics, bm1, bm2, bm3, bm4, bm5], axis=0, ignore_index=True)"
   ]
  },
  {
   "cell_type": "markdown",
   "metadata": {},
   "source": [
    "We end up with a better Utility score when optimising for it directly. The challenge then is knowing whether that was the correct thing to optimise for in the first place.\n"
   ]
  },
  {
   "cell_type": "markdown",
   "metadata": {},
   "source": [
    "## Predicting Full Distributions\n"
   ]
  },
  {
   "cell_type": "markdown",
   "metadata": {},
   "source": [
    "In machine learning, it is common to train models to make point estimate predictions and not give too much thought to statistical distributions. However, when actually making decisions it is useful to have more fine grained control over what is coming out when you call `model.predict()`. It is especially useful for dynamic optimisation, where the prediction you make will affect the state you are in in the next period e.g. if our bread stays good for 2 weeks overordering one week might mean we expect to need to order less next week. This is very important in reinforcement learning.\n",
    "\n",
    "There are many ways to build models that return statistical distributions, including deep learning methods or with Bayesian methods in libraries like PyMC. We for this example, we'll use a `Quantile Regression Forest`.\n",
    "\n",
    "A typical random forest is composed of decision trees. Each decision will take the training data and split it many times until it reaches a leaf. When you want to make predictions at inference time you will take a row of data, run it through a tree, and get a prediction which will be the mean or median of the data in whichever leaf the row ends up in. The random forest's final prediction is then the mean of each decision tree's predictions.\n",
    "\n",
    "In a quantile random forest, if you want to know the median of the data in a leaf you will take the median of the data in that leaf. If you want to know the 90th percentile of the data in a leaf you will take the 90th percentile of the data in that leaf.\n",
    "\n",
    "The API for training the `RandomForestQuantileRegressor` is very similar to training a normal `RandomForestRegressor` in scikit-learn:\n"
   ]
  },
  {
   "cell_type": "code",
   "execution_count": null,
   "metadata": {},
   "outputs": [
    {
     "data": {
      "text/html": [
       "<style>#sk-container-id-1 {color: black;}#sk-container-id-1 pre{padding: 0;}#sk-container-id-1 div.sk-toggleable {background-color: white;}#sk-container-id-1 label.sk-toggleable__label {cursor: pointer;display: block;width: 100%;margin-bottom: 0;padding: 0.3em;box-sizing: border-box;text-align: center;}#sk-container-id-1 label.sk-toggleable__label-arrow:before {content: \"▸\";float: left;margin-right: 0.25em;color: #696969;}#sk-container-id-1 label.sk-toggleable__label-arrow:hover:before {color: black;}#sk-container-id-1 div.sk-estimator:hover label.sk-toggleable__label-arrow:before {color: black;}#sk-container-id-1 div.sk-toggleable__content {max-height: 0;max-width: 0;overflow: hidden;text-align: left;background-color: #f0f8ff;}#sk-container-id-1 div.sk-toggleable__content pre {margin: 0.2em;color: black;border-radius: 0.25em;background-color: #f0f8ff;}#sk-container-id-1 input.sk-toggleable__control:checked~div.sk-toggleable__content {max-height: 200px;max-width: 100%;overflow: auto;}#sk-container-id-1 input.sk-toggleable__control:checked~label.sk-toggleable__label-arrow:before {content: \"▾\";}#sk-container-id-1 div.sk-estimator input.sk-toggleable__control:checked~label.sk-toggleable__label {background-color: #d4ebff;}#sk-container-id-1 div.sk-label input.sk-toggleable__control:checked~label.sk-toggleable__label {background-color: #d4ebff;}#sk-container-id-1 input.sk-hidden--visually {border: 0;clip: rect(1px 1px 1px 1px);clip: rect(1px, 1px, 1px, 1px);height: 1px;margin: -1px;overflow: hidden;padding: 0;position: absolute;width: 1px;}#sk-container-id-1 div.sk-estimator {font-family: monospace;background-color: #f0f8ff;border: 1px dotted black;border-radius: 0.25em;box-sizing: border-box;margin-bottom: 0.5em;}#sk-container-id-1 div.sk-estimator:hover {background-color: #d4ebff;}#sk-container-id-1 div.sk-parallel-item::after {content: \"\";width: 100%;border-bottom: 1px solid gray;flex-grow: 1;}#sk-container-id-1 div.sk-label:hover label.sk-toggleable__label {background-color: #d4ebff;}#sk-container-id-1 div.sk-serial::before {content: \"\";position: absolute;border-left: 1px solid gray;box-sizing: border-box;top: 0;bottom: 0;left: 50%;z-index: 0;}#sk-container-id-1 div.sk-serial {display: flex;flex-direction: column;align-items: center;background-color: white;padding-right: 0.2em;padding-left: 0.2em;position: relative;}#sk-container-id-1 div.sk-item {position: relative;z-index: 1;}#sk-container-id-1 div.sk-parallel {display: flex;align-items: stretch;justify-content: center;background-color: white;position: relative;}#sk-container-id-1 div.sk-item::before, #sk-container-id-1 div.sk-parallel-item::before {content: \"\";position: absolute;border-left: 1px solid gray;box-sizing: border-box;top: 0;bottom: 0;left: 50%;z-index: -1;}#sk-container-id-1 div.sk-parallel-item {display: flex;flex-direction: column;z-index: 1;position: relative;background-color: white;}#sk-container-id-1 div.sk-parallel-item:first-child::after {align-self: flex-end;width: 50%;}#sk-container-id-1 div.sk-parallel-item:last-child::after {align-self: flex-start;width: 50%;}#sk-container-id-1 div.sk-parallel-item:only-child::after {width: 0;}#sk-container-id-1 div.sk-dashed-wrapped {border: 1px dashed gray;margin: 0 0.4em 0.5em 0.4em;box-sizing: border-box;padding-bottom: 0.4em;background-color: white;}#sk-container-id-1 div.sk-label label {font-family: monospace;font-weight: bold;display: inline-block;line-height: 1.2em;}#sk-container-id-1 div.sk-label-container {text-align: center;}#sk-container-id-1 div.sk-container {/* jupyter's `normalize.less` sets `[hidden] { display: none; }` but bootstrap.min.css set `[hidden] { display: none !important; }` so we also need the `!important` here to be able to override the default hidden behavior on the sphinx rendered scikit-learn.org. See: https://github.com/scikit-learn/scikit-learn/issues/21755 */display: inline-block !important;position: relative;}#sk-container-id-1 div.sk-text-repr-fallback {display: none;}</style><div id=\"sk-container-id-1\" class=\"sk-top-container\"><div class=\"sk-text-repr-fallback\"><pre>RandomForestQuantileRegressor(min_samples_leaf=50, random_state=0)</pre><b>In a Jupyter environment, please rerun this cell to show the HTML representation or trust the notebook. <br />On GitHub, the HTML representation is unable to render, please try loading this page with nbviewer.org.</b></div><div class=\"sk-container\" hidden><div class=\"sk-item\"><div class=\"sk-estimator sk-toggleable\"><input class=\"sk-toggleable__control sk-hidden--visually\" id=\"sk-estimator-id-1\" type=\"checkbox\" checked><label for=\"sk-estimator-id-1\" class=\"sk-toggleable__label sk-toggleable__label-arrow\">RandomForestQuantileRegressor</label><div class=\"sk-toggleable__content\"><pre>RandomForestQuantileRegressor(min_samples_leaf=50, random_state=0)</pre></div></div></div></div></div>"
      ],
      "text/plain": [
       "RandomForestQuantileRegressor(min_samples_leaf=50, random_state=0)"
      ]
     },
     "execution_count": null,
     "metadata": {},
     "output_type": "execute_result"
    }
   ],
   "source": [
    "qrf = RandomForestQuantileRegressor(n_estimators=100, min_samples_leaf=50, random_state=0)\n",
    "qrf.fit(X_train, y_train)\n"
   ]
  },
  {
   "cell_type": "markdown",
   "metadata": {},
   "source": [
    "At prediction time, we need to choose which quantiles we want to make predictions for. Below we are saying that we would like to get the predictions for the 5th, 10th, 15th etc quantiles all the way up to the 95th quantile. In total that is 19 quantiles, so the array returned by the `.precict()` method is shape `[n_rows, n_quantiles]`.\n"
   ]
  },
  {
   "cell_type": "code",
   "execution_count": null,
   "metadata": {},
   "outputs": [
    {
     "name": "stdout",
     "output_type": "stream",
     "text": [
      "(40148, 19)\n"
     ]
    }
   ],
   "source": [
    "quantiles = [i / 100 for i in range(5, 100, 5)]\n",
    "sample_preds = qrf.predict(X_val, quantiles=quantiles)\n",
    "print(sample_preds.shape)"
   ]
  },
  {
   "cell_type": "markdown",
   "metadata": {},
   "source": [
    "Let's look at a single row of predictions. Say, the 6th:\n"
   ]
  },
  {
   "cell_type": "code",
   "execution_count": null,
   "metadata": {},
   "outputs": [
    {
     "data": {
      "text/plain": [
       "array([1., 2., 2., 2., 3., 3., 3., 3., 3., 3., 3., 4., 4., 5., 5., 6., 7.,\n",
       "       7., 9.])"
      ]
     },
     "execution_count": null,
     "metadata": {},
     "output_type": "execute_result"
    }
   ],
   "source": [
    "one_demand_prediction = sample_preds[5]\n",
    "one_demand_prediction\n"
   ]
  },
  {
   "cell_type": "markdown",
   "metadata": {},
   "source": [
    "The numbers returned may vary so suppose the result was:\n",
    "\n",
    "`[1., 2., 2., 2., 3., 3., 3., 3., 3., 3., 3., 4., 4., 5., 5., 6., 7., 7., 9.]`\n",
    "\n",
    "What we are seeing here is that there is a $\\frac{1}{19}$ chance that the actual amount of bread sold will be 1 unit. There is a $\\frac{3}{19}$ chance that the actual amount of bread sold will be 2 units. And so on.\n",
    "\n",
    "Let's now look at at how we could turn this into an actual stocking rule.\n",
    "\n",
    "Suppose we decided that we wanted to stock enough such that we are only understocked 10% of the time. In that case we would take the second last value from our prediction array (since that corresponds to the 90th percentile) and stock that amount.\n",
    "\n",
    "It's possible that your distribution may have some extreme jumps in it where e.g. it goes from predicting ~5 at the 80th percentile to ~50 at the 90th percentile. To smooth avoid taking too big a gamble on a particular quantile's value you may want to add an outlier bound like below which caps how much you will stock at 3 times the mean of the quantile values.\n"
   ]
  },
  {
   "cell_type": "code",
   "execution_count": null,
   "metadata": {},
   "outputs": [
    {
     "data": {
      "text/plain": [
       "7"
      ]
     },
     "execution_count": null,
     "metadata": {},
     "output_type": "execute_result"
    }
   ],
   "source": [
    "def rarely_run_out_rule(prediction):\n",
    "    outlier_bound = 3 * np.mean(prediction)\n",
    "    to_stock = math.ceil(min(prediction[-2], outlier_bound))\n",
    "    return to_stock\n",
    "\n",
    "\n",
    "rarely_run_out_rule(one_demand_prediction)"
   ]
  },
  {
   "cell_type": "markdown",
   "metadata": {},
   "source": [
    "We can see how often this cap actually gets applied by running the cell below\n"
   ]
  },
  {
   "cell_type": "code",
   "execution_count": null,
   "metadata": {},
   "outputs": [
    {
     "data": {
      "text/plain": [
       "0.009091361960745243"
      ]
     },
     "execution_count": null,
     "metadata": {},
     "output_type": "execute_result"
    }
   ],
   "source": [
    "all_stocking_decisions = np.apply_along_axis(rarely_run_out_rule, 1, sample_preds)\n",
    "(all_stocking_decisions < sample_preds[:, -2]).mean()"
   ]
  },
  {
   "cell_type": "markdown",
   "metadata": {},
   "source": [
    "Looking at the business metrics this rule generates, we can see that we do indeed understock ~10% of the time. We overstock a lot though as this is quite an aggressive rule which hurts the Utility score. There are various ways we could tune this e.g. by adjusting which percentiles or caps we use as well as the other ways discussed earlier.\n"
   ]
  },
  {
   "cell_type": "code",
   "execution_count": null,
   "metadata": {},
   "outputs": [
    {
     "data": {
      "text/html": [
       "<div>\n",
       "<style scoped>\n",
       "    .dataframe tbody tr th:only-of-type {\n",
       "        vertical-align: middle;\n",
       "    }\n",
       "\n",
       "    .dataframe tbody tr th {\n",
       "        vertical-align: top;\n",
       "    }\n",
       "\n",
       "    .dataframe thead th {\n",
       "        text-align: right;\n",
       "    }\n",
       "</style>\n",
       "<table border=\"1\" class=\"dataframe\">\n",
       "  <thead>\n",
       "    <tr style=\"text-align: right;\">\n",
       "      <th></th>\n",
       "      <th>Model Name</th>\n",
       "      <th>Understocked Fraction</th>\n",
       "      <th>Understocked Amount</th>\n",
       "      <th>Overstocked Fraction</th>\n",
       "      <th>Overstocked Amount</th>\n",
       "      <th>Utility</th>\n",
       "      <th>MAE</th>\n",
       "      <th>MSE</th>\n",
       "      <th>R2</th>\n",
       "      <th>RMSLE</th>\n",
       "    </tr>\n",
       "  </thead>\n",
       "  <tbody>\n",
       "    <tr>\n",
       "      <th>0</th>\n",
       "      <td>MSE model</td>\n",
       "      <td>0.275381</td>\n",
       "      <td>72458.0</td>\n",
       "      <td>0.631015</td>\n",
       "      <td>104514.0</td>\n",
       "      <td>-321888.0</td>\n",
       "      <td>4.407990</td>\n",
       "      <td>173.166235</td>\n",
       "      <td>0.719482</td>\n",
       "      <td>0.627397</td>\n",
       "    </tr>\n",
       "    <tr>\n",
       "      <th>1</th>\n",
       "      <td>MSE model * 1.5</td>\n",
       "      <td>0.135075</td>\n",
       "      <td>32762.0</td>\n",
       "      <td>0.802904</td>\n",
       "      <td>226306.0</td>\n",
       "      <td>-324592.0</td>\n",
       "      <td>6.452825</td>\n",
       "      <td>322.720982</td>\n",
       "      <td>0.477213</td>\n",
       "      <td>0.775845</td>\n",
       "    </tr>\n",
       "    <tr>\n",
       "      <th>2</th>\n",
       "      <td>MAE model</td>\n",
       "      <td>0.338921</td>\n",
       "      <td>81489.0</td>\n",
       "      <td>0.496687</td>\n",
       "      <td>71728.0</td>\n",
       "      <td>-316195.0</td>\n",
       "      <td>3.816305</td>\n",
       "      <td>185.795133</td>\n",
       "      <td>0.699024</td>\n",
       "      <td>0.520921</td>\n",
       "    </tr>\n",
       "    <tr>\n",
       "      <th>3</th>\n",
       "      <td>MAE model * 1.5</td>\n",
       "      <td>0.156322</td>\n",
       "      <td>37625.0</td>\n",
       "      <td>0.758494</td>\n",
       "      <td>184350.0</td>\n",
       "      <td>-297225.0</td>\n",
       "      <td>5.528918</td>\n",
       "      <td>333.072955</td>\n",
       "      <td>0.460443</td>\n",
       "      <td>0.655141</td>\n",
       "    </tr>\n",
       "    <tr>\n",
       "      <th>4</th>\n",
       "      <td>Quantile regressor</td>\n",
       "      <td>0.084313</td>\n",
       "      <td>35904.0</td>\n",
       "      <td>0.878624</td>\n",
       "      <td>395286.0</td>\n",
       "      <td>-502998.0</td>\n",
       "      <td>10.740012</td>\n",
       "      <td>835.487994</td>\n",
       "      <td>-0.353437</td>\n",
       "      <td>1.009825</td>\n",
       "    </tr>\n",
       "  </tbody>\n",
       "</table>\n",
       "</div>"
      ],
      "text/plain": [
       "           Model Name  Understocked Fraction  Understocked Amount  \\\n",
       "0           MSE model               0.275381              72458.0   \n",
       "1     MSE model * 1.5               0.135075              32762.0   \n",
       "2           MAE model               0.338921              81489.0   \n",
       "3     MAE model * 1.5               0.156322              37625.0   \n",
       "4  Quantile regressor               0.084313              35904.0   \n",
       "\n",
       "   Overstocked Fraction  Overstocked Amount   Utility        MAE         MSE  \\\n",
       "0              0.631015            104514.0 -321888.0   4.407990  173.166235   \n",
       "1              0.802904            226306.0 -324592.0   6.452825  322.720982   \n",
       "2              0.496687             71728.0 -316195.0   3.816305  185.795133   \n",
       "3              0.758494            184350.0 -297225.0   5.528918  333.072955   \n",
       "4              0.878624            395286.0 -502998.0  10.740012  835.487994   \n",
       "\n",
       "         R2     RMSLE  \n",
       "0  0.719482  0.627397  \n",
       "1  0.477213  0.775845  \n",
       "2  0.699024  0.520921  \n",
       "3  0.460443  0.655141  \n",
       "4 -0.353437  1.009825  "
      ]
     },
     "execution_count": null,
     "metadata": {},
     "output_type": "execute_result"
    }
   ],
   "source": [
    "bm5 = log_business_metrics(\"Quantile regressor\", all_stocking_decisions, y_val)\n",
    "pd.concat([business_metrics, bm1, bm2, bm3, bm4, bm5], axis=0, ignore_index=True)\n"
   ]
  },
  {
   "cell_type": "code",
   "execution_count": null,
   "metadata": {},
   "outputs": [
    {
     "name": "stdout",
     "output_type": "stream",
     "text": [
      "Stocked: 8\n",
      "Input: [ 1.  1.  1.  1.  2.  2.  2.  2.  2.  3.  3.  3.  3.  4.  6.  6.  7.  8.\n",
      " 10.]\n",
      "\n",
      "Stocked: 3\n",
      "Input: [1.   1.   1.   1.   1.   1.   1.   1.   1.   1.   1.45 2.   2.   2.\n",
      " 3.   3.   3.   3.   4.  ]\n",
      "\n",
      "Stocked: 141\n",
      "Input: [  8.95  10.    12.    15.8   18.    29.4   33.3   36.    39.55  42.\n",
      "  47.25  57.    68.35  72.    78.5   84.2  138.3  141.   187.1 ]\n",
      "\n",
      "Stocked: 25\n",
      "Input: [ 1.95  2.    2.    2.    2.75  3.7   4.65  5.    5.55  6.5   8.    8.\n",
      "  9.   10.   13.   15.   19.   25.   30.  ]\n",
      "\n",
      "Stocked: 11\n",
      "Input: [ 1.    2.    2.    2.    2.    3.    3.    3.    4.    4.    4.    4.\n",
      "  4.35  5.    5.    6.2   8.   10.4  20.  ]\n",
      "\n",
      "Stocked: 5\n",
      "Input: [1.   1.   1.   1.   1.75 2.   2.   2.   2.   2.   2.   3.   3.   3.\n",
      " 4.   4.2  5.   5.   7.05]\n",
      "\n",
      "Stocked: 6\n",
      "Input: [1.   1.   1.   2.   2.   2.   2.   2.   2.   2.   2.45 3.   3.   3.\n",
      " 3.   4.   5.   5.1  7.05]\n",
      "\n"
     ]
    }
   ],
   "source": [
    "for row in [0, 126, 295, 298, 557, 620, 882]:\n",
    "    print(f\"Stocked: {all_stocking_decisions[row]}\\nInput: {sample_preds[row, :]}\\n\")"
   ]
  },
  {
   "cell_type": "markdown",
   "metadata": {},
   "source": [
    "## References\n"
   ]
  },
  {
   "cell_type": "markdown",
   "metadata": {},
   "source": [
    "- [Machine Learning for Business Decision Optimization](https://www.wandb.courses/courses/decision-optimization) - Dan Becker\n",
    "- [Zillow's Quantile Forest Library](https://zillow.github.io/quantile-forest/user_guide.html)\n",
    "- [Scikit Garden](https://scikit-garden.github.io/)\n"
   ]
  },
  {
   "cell_type": "code",
   "execution_count": null,
   "metadata": {},
   "outputs": [],
   "source": []
  }
 ],
 "metadata": {
  "kernelspec": {
   "display_name": "python3",
   "language": "python",
   "name": "python3"
  }
 },
 "nbformat": 4,
 "nbformat_minor": 2
}
