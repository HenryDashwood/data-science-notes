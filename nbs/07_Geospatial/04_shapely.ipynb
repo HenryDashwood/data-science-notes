{
 "cells": [
  {
   "cell_type": "markdown",
   "metadata": {},
   "source": [
    "# Shapely\n"
   ]
  },
  {
   "cell_type": "code",
   "execution_count": null,
   "metadata": {},
   "outputs": [],
   "source": [
    "import matplotlib.pyplot as plt\n",
    "import pyproj\n",
    "from shapely import Point, Polygon\n",
    "from shapely.ops import transform\n",
    "\n",
    "\n",
    "plt.rcParams[\"figure.facecolor\"] = (1, 1, 1, 0)  # RGBA tuple with alpha=0\n",
    "plt.rcParams[\"axes.facecolor\"] = (1, 1, 1, 0)  # RGBA tuple with alpha=0"
   ]
  },
  {
   "cell_type": "code",
   "execution_count": null,
   "metadata": {},
   "outputs": [
    {
     "name": "stdout",
     "output_type": "stream",
     "text": [
      "1.0\n",
      "4.0\n",
      "(0.0, 0.0, 1.0, 1.0)\n",
      "POINT (0.5 0.5)\n",
      "POINT (0.5 0.5)\n",
      "LINEARRING (0 0, 1 0, 1 1, 0 1, 0 0)\n",
      "(array('d', [0.0, 1.0, 1.0, 0.0, 0.0]), array('d', [0.0, 0.0, 1.0, 1.0, 0.0]))\n"
     ]
    },
    {
     "data": {
      "image/png": "[encoded data removed]",
      "text/plain": [
       "<Figure size 400x400 with 1 Axes>"
      ]
     },
     "metadata": {
      "needs_background": "light"
     },
     "output_type": "display_data"
    }
   ],
   "source": [
    "pol1 = Polygon([[0, 0], [1, 0], [1, 1], [0, 1], [0, 0]])\n",
    "\n",
    "print(pol1.area)\n",
    "print(pol1.length)\n",
    "print(pol1.bounds)\n",
    "print(pol1.centroid)\n",
    "print(pol1.representative_point())\n",
    "print(pol1.exterior)\n",
    "print(pol1.exterior.xy)\n",
    "\n",
    "\n",
    "fig, ax = plt.subplots(figsize=(4, 4))\n",
    "ax.plot(*pol1.exterior.xy)\n",
    "ax.plot(*pol1.centroid.xy, \"o\")\n",
    "# ax.set_aspect('equal')\n",
    "plt.show()\n"
   ]
  },
  {
   "cell_type": "code",
   "execution_count": null,
   "metadata": {},
   "outputs": [],
   "source": [
    "def set_limits(ax, x0, xN, y0, yN):\n",
    "    ax.set_xlim(x0, xN)\n",
    "    ax.set_xticks(range(x0, xN + 1))\n",
    "    ax.set_ylim(y0, yN)\n",
    "    ax.set_yticks(range(y0, yN + 1))\n",
    "    ax.set_aspect(\"equal\")\n"
   ]
  },
  {
   "cell_type": "code",
   "execution_count": null,
   "metadata": {},
   "outputs": [],
   "source": [
    "from shapely.plotting import plot_polygon, plot_points"
   ]
  },
  {
   "cell_type": "code",
   "execution_count": null,
   "metadata": {},
   "outputs": [
    {
     "name": "stdout",
     "output_type": "stream",
     "text": [
      "\u001b[0;31mSignature:\u001b[0m\n",
      "\u001b[0mplot_polygon\u001b[0m\u001b[0;34m(\u001b[0m\u001b[0;34m\u001b[0m\n",
      "\u001b[0;34m\u001b[0m    \u001b[0mpolygon\u001b[0m\u001b[0;34m,\u001b[0m\u001b[0;34m\u001b[0m\n",
      "\u001b[0;34m\u001b[0m    \u001b[0max\u001b[0m\u001b[0;34m=\u001b[0m\u001b[0;32mNone\u001b[0m\u001b[0;34m,\u001b[0m\u001b[0;34m\u001b[0m\n",
      "\u001b[0;34m\u001b[0m    \u001b[0madd_points\u001b[0m\u001b[0;34m=\u001b[0m\u001b[0;32mTrue\u001b[0m\u001b[0;34m,\u001b[0m\u001b[0;34m\u001b[0m\n",
      "\u001b[0;34m\u001b[0m    \u001b[0mcolor\u001b[0m\u001b[0;34m=\u001b[0m\u001b[0;32mNone\u001b[0m\u001b[0;34m,\u001b[0m\u001b[0;34m\u001b[0m\n",
      "\u001b[0;34m\u001b[0m    \u001b[0mfacecolor\u001b[0m\u001b[0;34m=\u001b[0m\u001b[0;32mNone\u001b[0m\u001b[0;34m,\u001b[0m\u001b[0;34m\u001b[0m\n",
      "\u001b[0;34m\u001b[0m    \u001b[0medgecolor\u001b[0m\u001b[0;34m=\u001b[0m\u001b[0;32mNone\u001b[0m\u001b[0;34m,\u001b[0m\u001b[0;34m\u001b[0m\n",
      "\u001b[0;34m\u001b[0m    \u001b[0mlinewidth\u001b[0m\u001b[0;34m=\u001b[0m\u001b[0;32mNone\u001b[0m\u001b[0;34m,\u001b[0m\u001b[0;34m\u001b[0m\n",
      "\u001b[0;34m\u001b[0m    \u001b[0;34m**\u001b[0m\u001b[0mkwargs\u001b[0m\u001b[0;34m,\u001b[0m\u001b[0;34m\u001b[0m\n",
      "\u001b[0;34m\u001b[0m\u001b[0;34m)\u001b[0m\u001b[0;34m\u001b[0m\u001b[0;34m\u001b[0m\u001b[0m\n",
      "\u001b[0;31mSource:\u001b[0m   \n",
      "\u001b[0;32mdef\u001b[0m \u001b[0mplot_polygon\u001b[0m\u001b[0;34m(\u001b[0m\u001b[0;34m\u001b[0m\n",
      "\u001b[0;34m\u001b[0m    \u001b[0mpolygon\u001b[0m\u001b[0;34m,\u001b[0m\u001b[0;34m\u001b[0m\n",
      "\u001b[0;34m\u001b[0m    \u001b[0max\u001b[0m\u001b[0;34m=\u001b[0m\u001b[0;32mNone\u001b[0m\u001b[0;34m,\u001b[0m\u001b[0;34m\u001b[0m\n",
      "\u001b[0;34m\u001b[0m    \u001b[0madd_points\u001b[0m\u001b[0;34m=\u001b[0m\u001b[0;32mTrue\u001b[0m\u001b[0;34m,\u001b[0m\u001b[0;34m\u001b[0m\n",
      "\u001b[0;34m\u001b[0m    \u001b[0mcolor\u001b[0m\u001b[0;34m=\u001b[0m\u001b[0;32mNone\u001b[0m\u001b[0;34m,\u001b[0m\u001b[0;34m\u001b[0m\n",
      "\u001b[0;34m\u001b[0m    \u001b[0mfacecolor\u001b[0m\u001b[0;34m=\u001b[0m\u001b[0;32mNone\u001b[0m\u001b[0;34m,\u001b[0m\u001b[0;34m\u001b[0m\n",
      "\u001b[0;34m\u001b[0m    \u001b[0medgecolor\u001b[0m\u001b[0;34m=\u001b[0m\u001b[0;32mNone\u001b[0m\u001b[0;34m,\u001b[0m\u001b[0;34m\u001b[0m\n",
      "\u001b[0;34m\u001b[0m    \u001b[0mlinewidth\u001b[0m\u001b[0;34m=\u001b[0m\u001b[0;32mNone\u001b[0m\u001b[0;34m,\u001b[0m\u001b[0;34m\u001b[0m\n",
      "\u001b[0;34m\u001b[0m    \u001b[0;34m**\u001b[0m\u001b[0mkwargs\u001b[0m\u001b[0;34m\u001b[0m\n",
      "\u001b[0;34m\u001b[0m\u001b[0;34m)\u001b[0m\u001b[0;34m:\u001b[0m\u001b[0;34m\u001b[0m\n",
      "\u001b[0;34m\u001b[0m    \u001b[0;34m\"\"\"\u001b[0m\n",
      "\u001b[0;34m    Plot a (Multi)Polygon.\u001b[0m\n",
      "\u001b[0;34m\u001b[0m\n",
      "\u001b[0;34m    Note: this function is experimental, and mainly targetting (interactive)\u001b[0m\n",
      "\u001b[0;34m    exploration, debugging and illustration purposes.\u001b[0m\n",
      "\u001b[0;34m\u001b[0m\n",
      "\u001b[0;34m    Parameters\u001b[0m\n",
      "\u001b[0;34m    ----------\u001b[0m\n",
      "\u001b[0;34m    polygon : shapely.Polygon or shapely.MultiPolygon\u001b[0m\n",
      "\u001b[0;34m    ax : matplotlib Axes, default None\u001b[0m\n",
      "\u001b[0;34m        The axes on which to draw the plot. If not specified, will get the\u001b[0m\n",
      "\u001b[0;34m        current active axes or create a new figure.\u001b[0m\n",
      "\u001b[0;34m    add_points : bool, default True\u001b[0m\n",
      "\u001b[0;34m        If True, also plot the coordinates (vertices) as points.\u001b[0m\n",
      "\u001b[0;34m    color : matplotlib color specification\u001b[0m\n",
      "\u001b[0;34m        Color for both the polygon fill (face) and boundary (edge). By default,\u001b[0m\n",
      "\u001b[0;34m        the fill is using an alpha of 0.3. You can specify `facecolor` and\u001b[0m\n",
      "\u001b[0;34m        `edgecolor` separately for greater control.\u001b[0m\n",
      "\u001b[0;34m    facecolor : matplotlib color specification\u001b[0m\n",
      "\u001b[0;34m        Color for the polygon fill.\u001b[0m\n",
      "\u001b[0;34m    edgecolor : matplotlib color specification\u001b[0m\n",
      "\u001b[0;34m        Color for the polygon boundary.\u001b[0m\n",
      "\u001b[0;34m    linewidth : float\u001b[0m\n",
      "\u001b[0;34m        The line width for the polygon boundary.\u001b[0m\n",
      "\u001b[0;34m    **kwargs\u001b[0m\n",
      "\u001b[0;34m        Additional keyword arguments passed to the matplotlib Patch.\u001b[0m\n",
      "\u001b[0;34m\u001b[0m\n",
      "\u001b[0;34m    Returns\u001b[0m\n",
      "\u001b[0;34m    -------\u001b[0m\n",
      "\u001b[0;34m    Matplotlib artist (PathPatch), if `add_points` is false.\u001b[0m\n",
      "\u001b[0;34m    A tuple of Matplotlib artists (PathPatch, Line2D), if `add_points` is true.\u001b[0m\n",
      "\u001b[0;34m    \"\"\"\u001b[0m\u001b[0;34m\u001b[0m\n",
      "\u001b[0;34m\u001b[0m    \u001b[0;32mfrom\u001b[0m \u001b[0mmatplotlib\u001b[0m \u001b[0;32mimport\u001b[0m \u001b[0mcolors\u001b[0m\u001b[0;34m\u001b[0m\n",
      "\u001b[0;34m\u001b[0m\u001b[0;34m\u001b[0m\n",
      "\u001b[0;34m\u001b[0m    \u001b[0;32mif\u001b[0m \u001b[0max\u001b[0m \u001b[0;32mis\u001b[0m \u001b[0;32mNone\u001b[0m\u001b[0;34m:\u001b[0m\u001b[0;34m\u001b[0m\n",
      "\u001b[0;34m\u001b[0m        \u001b[0max\u001b[0m \u001b[0;34m=\u001b[0m \u001b[0m_default_ax\u001b[0m\u001b[0;34m(\u001b[0m\u001b[0;34m)\u001b[0m\u001b[0;34m\u001b[0m\n",
      "\u001b[0;34m\u001b[0m\u001b[0;34m\u001b[0m\n",
      "\u001b[0;34m\u001b[0m    \u001b[0;32mif\u001b[0m \u001b[0mcolor\u001b[0m \u001b[0;32mis\u001b[0m \u001b[0;32mNone\u001b[0m\u001b[0;34m:\u001b[0m\u001b[0;34m\u001b[0m\n",
      "\u001b[0;34m\u001b[0m        \u001b[0mcolor\u001b[0m \u001b[0;34m=\u001b[0m \u001b[0;34m\"C0\"\u001b[0m\u001b[0;34m\u001b[0m\n",
      "\u001b[0;34m\u001b[0m    \u001b[0mcolor\u001b[0m \u001b[0;34m=\u001b[0m \u001b[0mcolors\u001b[0m\u001b[0;34m.\u001b[0m\u001b[0mto_rgba\u001b[0m\u001b[0;34m(\u001b[0m\u001b[0mcolor\u001b[0m\u001b[0;34m)\u001b[0m\u001b[0;34m\u001b[0m\n",
      "\u001b[0;34m\u001b[0m\u001b[0;34m\u001b[0m\n",
      "\u001b[0;34m\u001b[0m    \u001b[0;32mif\u001b[0m \u001b[0mfacecolor\u001b[0m \u001b[0;32mis\u001b[0m \u001b[0;32mNone\u001b[0m\u001b[0;34m:\u001b[0m\u001b[0;34m\u001b[0m\n",
      "\u001b[0;34m\u001b[0m        \u001b[0mfacecolor\u001b[0m \u001b[0;34m=\u001b[0m \u001b[0mlist\u001b[0m\u001b[0;34m(\u001b[0m\u001b[0mcolor\u001b[0m\u001b[0;34m)\u001b[0m\u001b[0;34m\u001b[0m\n",
      "\u001b[0;34m\u001b[0m        \u001b[0mfacecolor\u001b[0m\u001b[0;34m[\u001b[0m\u001b[0;34m-\u001b[0m\u001b[0;36m1\u001b[0m\u001b[0;34m]\u001b[0m \u001b[0;34m=\u001b[0m \u001b[0;36m0.3\u001b[0m\u001b[0;34m\u001b[0m\n",
      "\u001b[0;34m\u001b[0m        \u001b[0mfacecolor\u001b[0m \u001b[0;34m=\u001b[0m \u001b[0mtuple\u001b[0m\u001b[0;34m(\u001b[0m\u001b[0mfacecolor\u001b[0m\u001b[0;34m)\u001b[0m\u001b[0;34m\u001b[0m\n",
      "\u001b[0;34m\u001b[0m\u001b[0;34m\u001b[0m\n",
      "\u001b[0;34m\u001b[0m    \u001b[0;32mif\u001b[0m \u001b[0medgecolor\u001b[0m \u001b[0;32mis\u001b[0m \u001b[0;32mNone\u001b[0m\u001b[0;34m:\u001b[0m\u001b[0;34m\u001b[0m\n",
      "\u001b[0;34m\u001b[0m        \u001b[0medgecolor\u001b[0m \u001b[0;34m=\u001b[0m \u001b[0mcolor\u001b[0m\u001b[0;34m\u001b[0m\n",
      "\u001b[0;34m\u001b[0m\u001b[0;34m\u001b[0m\n",
      "\u001b[0;34m\u001b[0m    \u001b[0mpatch\u001b[0m \u001b[0;34m=\u001b[0m \u001b[0mpatch_from_polygon\u001b[0m\u001b[0;34m(\u001b[0m\u001b[0;34m\u001b[0m\n",
      "\u001b[0;34m\u001b[0m        \u001b[0mpolygon\u001b[0m\u001b[0;34m,\u001b[0m \u001b[0mfacecolor\u001b[0m\u001b[0;34m=\u001b[0m\u001b[0mfacecolor\u001b[0m\u001b[0;34m,\u001b[0m \u001b[0medgecolor\u001b[0m\u001b[0;34m=\u001b[0m\u001b[0medgecolor\u001b[0m\u001b[0;34m,\u001b[0m \u001b[0mlinewidth\u001b[0m\u001b[0;34m=\u001b[0m\u001b[0mlinewidth\u001b[0m\u001b[0;34m,\u001b[0m \u001b[0;34m**\u001b[0m\u001b[0mkwargs\u001b[0m\u001b[0;34m\u001b[0m\n",
      "\u001b[0;34m\u001b[0m    \u001b[0;34m)\u001b[0m\u001b[0;34m\u001b[0m\n",
      "\u001b[0;34m\u001b[0m    \u001b[0max\u001b[0m\u001b[0;34m.\u001b[0m\u001b[0madd_patch\u001b[0m\u001b[0;34m(\u001b[0m\u001b[0mpatch\u001b[0m\u001b[0;34m)\u001b[0m\u001b[0;34m\u001b[0m\n",
      "\u001b[0;34m\u001b[0m    \u001b[0max\u001b[0m\u001b[0;34m.\u001b[0m\u001b[0mautoscale_view\u001b[0m\u001b[0;34m(\u001b[0m\u001b[0;34m)\u001b[0m\u001b[0;34m\u001b[0m\n",
      "\u001b[0;34m\u001b[0m\u001b[0;34m\u001b[0m\n",
      "\u001b[0;34m\u001b[0m    \u001b[0;32mif\u001b[0m \u001b[0madd_points\u001b[0m\u001b[0;34m:\u001b[0m\u001b[0;34m\u001b[0m\n",
      "\u001b[0;34m\u001b[0m        \u001b[0mline\u001b[0m \u001b[0;34m=\u001b[0m \u001b[0mplot_points\u001b[0m\u001b[0;34m(\u001b[0m\u001b[0mpolygon\u001b[0m\u001b[0;34m,\u001b[0m \u001b[0max\u001b[0m\u001b[0;34m=\u001b[0m\u001b[0max\u001b[0m\u001b[0;34m,\u001b[0m \u001b[0mcolor\u001b[0m\u001b[0;34m=\u001b[0m\u001b[0mcolor\u001b[0m\u001b[0;34m)\u001b[0m\u001b[0;34m\u001b[0m\n",
      "\u001b[0;34m\u001b[0m        \u001b[0;32mreturn\u001b[0m \u001b[0mpatch\u001b[0m\u001b[0;34m,\u001b[0m \u001b[0mline\u001b[0m\u001b[0;34m\u001b[0m\n",
      "\u001b[0;34m\u001b[0m\u001b[0;34m\u001b[0m\n",
      "\u001b[0;34m\u001b[0m    \u001b[0;32mreturn\u001b[0m \u001b[0mpatch\u001b[0m\u001b[0;34m\u001b[0m\u001b[0;34m\u001b[0m\u001b[0m\n",
      "\u001b[0;31mFile:\u001b[0m      ~/.pyenv/versions/3.11.1/envs/py3111/lib/python3.11/site-packages/shapely/plotting.py\n",
      "\u001b[0;31mType:\u001b[0m      function\n"
     ]
    }
   ],
   "source": [
    "plot_polygon??"
   ]
  },
  {
   "cell_type": "code",
   "execution_count": null,
   "metadata": {},
   "outputs": [],
   "source": [
    "import matplotlib.pyplot as plt\n",
    "from matplotlib.patches import PathPatch\n",
    "from matplotlib.path import Path\n",
    "from shapely.geometry import Polygon\n",
    "import numpy as np\n",
    "\n",
    "\n",
    "def plot_shapely_polygon(polygon, ax=None, **kwargs):\n",
    "    if isinstance(polygon, Polygon):\n",
    "        polygons = [polygon]\n",
    "    else:\n",
    "        polygons = list(polygon.geoms)\n",
    "\n",
    "    for polygon in polygons:\n",
    "        exterior_coords = np.array(polygon.exterior.coords)\n",
    "        interior_coords = [np.array(ring.coords) for ring in polygon.interiors]\n",
    "\n",
    "        codes = [Path.MOVETO]\n",
    "        codes.extend([Path.LINETO] * (len(exterior_coords) - 2))\n",
    "        codes.append(Path.CLOSEPOLY)\n",
    "\n",
    "        for ring in interior_coords:\n",
    "            codes.append(Path.MOVETO)\n",
    "            codes.extend([Path.LINETO] * (len(ring) - 2))\n",
    "            codes.append(Path.CLOSEPOLY)\n",
    "\n",
    "        all_coords = np.vstack([exterior_coords] + interior_coords)\n",
    "\n",
    "        path = Path(all_coords, codes)\n",
    "        patch = PathPatch(path, **kwargs)\n",
    "        ax.add_patch(patch)\n"
   ]
  },
  {
   "cell_type": "code",
   "execution_count": null,
   "metadata": {},
   "outputs": [
    {
     "data": {
      "image/png": "[encoded data removed]",
      "text/plain": [
       "<Figure size 360x1440 with 4 Axes>"
      ]
     },
     "metadata": {
      "needs_background": "light"
     },
     "output_type": "display_data"
    }
   ],
   "source": [
    "fig, axes = plt.subplots(1, 4, figsize=(4, 16), dpi=90)\n",
    "\n",
    "ext = [(0, 0), (0, 2), (2, 2), (2, 0), (0, 0)]\n",
    "int = [(1, 0), (0.5, 0.5), (1, 1), (1.5, 0.5), (1, 0)][::-1]\n",
    "polygon = Polygon(ext, [int])\n",
    "\n",
    "\n",
    "plot_polygon(polygon, ax=axes[0], add_points=False)\n",
    "# plot_points(polygon, ax=axes[0], alpha=0.7)\n",
    "\n",
    "axes[0].set_title(\"a) valid\")\n",
    "\n",
    "set_limits(axes[0], -1, 3, -1, 3)\n",
    "\n",
    "ext = [(0, 0), (0, 2), (2, 2), (2, 0), (0, 0)]\n",
    "int = [(1, 0), (0, 1), (0.5, 1.5), (1.5, 0.5), (1, 0)][::-1]\n",
    "polygon = Polygon(ext, [int])\n",
    "\n",
    "plot_polygon(polygon, ax=axes[1], add_points=False)\n",
    "plot_points(polygon, ax=axes[1], alpha=0.7)\n",
    "\n",
    "axes[1].set_title(\"b) invalid\")\n",
    "\n",
    "set_limits(axes[1], -1, 3, -1, 3)\n",
    "\n",
    "\n",
    "x, y = polygon.exterior.xy\n",
    "\n",
    "axes[2].fill(x, y, alpha=0.5, fc=\"r\")\n",
    "axes[2].plot(x, y, marker=\"o\", color=\"r\")\n",
    "\n",
    "for interior in polygon.interiors:\n",
    "    x, y = interior.xy\n",
    "    axes[2].fill(x, y, alpha=0, fc=(1, 1, 1, 0))  # fill with white to create a hole effect\n",
    "    axes[2].plot(x, y, marker=\"o\", color=\"r\")\n",
    "\n",
    "# Customize plot\n",
    "axes[2].set_title(\"Shapely Polygon\")\n",
    "\n",
    "set_limits(axes[2], -1, 3, -1, 3)\n",
    "\n",
    "exterior_coords = np.array(polygon.exterior.coords)\n",
    "interior_coords = [np.array(ring.coords) for ring in polygon.interiors]\n",
    "\n",
    "codes = [Path.MOVETO]\n",
    "codes.extend([Path.LINETO] * (len(exterior_coords) - 2))\n",
    "codes.append(Path.CLOSEPOLY)\n",
    "\n",
    "for ring in interior_coords:\n",
    "    codes.append(Path.MOVETO)\n",
    "    codes.extend([Path.LINETO] * (len(ring) - 2))\n",
    "    codes.append(Path.CLOSEPOLY)\n",
    "\n",
    "all_coords = np.vstack([exterior_coords] + interior_coords)\n",
    "\n",
    "path = Path(all_coords, codes)\n",
    "patch = PathPatch(path, facecolor=\"r\", edgecolor=\"r\", alpha=0.5)\n",
    "axes[3].add_patch(patch)\n",
    "\n",
    "axes[3].plot(x, y, marker=\"o\", color=\"r\")\n",
    "\n",
    "axes[3].set_title(\"Matplotlib PathPatch\")\n",
    "\n",
    "set_limits(axes[3], -1, 3, -1, 3)\n",
    "\n",
    "plt.show()\n"
   ]
  },
  {
   "cell_type": "code",
   "execution_count": null,
   "metadata": {},
   "outputs": [
    {
     "data": {
      "text/plain": [
       "array([[0. , 0. ],\n",
       "       [0. , 2. ],\n",
       "       [2. , 2. ],\n",
       "       [2. , 0. ],\n",
       "       [0. , 0. ],\n",
       "       [1. , 0. ],\n",
       "       [1.5, 0.5],\n",
       "       [0.5, 1.5],\n",
       "       [0. , 1. ],\n",
       "       [1. , 0. ]])"
      ]
     },
     "execution_count": null,
     "metadata": {},
     "output_type": "execute_result"
    }
   ],
   "source": [
    "all_coords"
   ]
  },
  {
   "cell_type": "markdown",
   "metadata": {},
   "source": [
    "## Transforms\n"
   ]
  },
  {
   "cell_type": "code",
   "execution_count": null,
   "metadata": {},
   "outputs": [
    {
     "data": {
      "text/plain": [
       "(array('d', [720944.1103566973]), array('d', [4862889.031679545]))"
      ]
     },
     "execution_count": null,
     "metadata": {},
     "output_type": "execute_result"
    }
   ],
   "source": [
    "wgs84_pt = Point(-72.2495, 43.886)\n",
    "\n",
    "wgs84 = pyproj.CRS(\"EPSG:4326\")\n",
    "utm = pyproj.CRS(\"EPSG:32618\")\n",
    "\n",
    "project = pyproj.Transformer.from_crs(wgs84, utm, always_xy=True).transform\n",
    "utm_point = transform(project, wgs84_pt)\n",
    "\n",
    "utm_point.xy\n"
   ]
  },
  {
   "cell_type": "code",
   "execution_count": null,
   "metadata": {},
   "outputs": [],
   "source": []
  }
 ],
 "metadata": {
  "kernelspec": {
   "display_name": "python3",
   "language": "python",
   "name": "python3"
  }
 },
 "nbformat": 4,
 "nbformat_minor": 2
}
