{
 "cells": [
  {
   "cell_type": "markdown",
   "metadata": {},
   "source": [
    "# Decision Optimisation for Continuous Outcomes\n",
    "\n",
    "- skip_exec: true\n"
   ]
  },
  {
   "cell_type": "code",
   "execution_count": null,
   "metadata": {},
   "outputs": [],
   "source": [
    "from pathlib import Path\n",
    "\n",
    "import matplotlib.pyplot as plt\n",
    "import numpy as np\n",
    "import pandas as pd\n",
    "import torch\n",
    "import torch.nn as nn\n",
    "import torch.optim as optim\n",
    "from sklearn.metrics import mean_absolute_error, mean_squared_error, r2_score\n",
    "from sklearn.model_selection import train_test_split\n",
    "from sklearn.preprocessing import LabelEncoder\n",
    "from torch.utils.data import Dataset, DataLoader\n",
    "\n",
    "pd.set_option(\"display.max_columns\", None)\n",
    "\n",
    "PROJECT_ROOT = Path.cwd().parent.parent\n",
    "\n",
    "plt.rcParams[\"figure.facecolor\"] = (1, 1, 1, 0)  # RGBA tuple with alpha=0\n",
    "plt.rcParams[\"axes.facecolor\"] = (1, 1, 1, 0)  # RGBA tuple with alpha=0"
   ]
  },
  {
   "cell_type": "markdown",
   "metadata": {},
   "source": [
    "The data that we will use comes from the [Grupo Bimbo Inventory Demand](https://www.kaggle.com/competitions/grupo-bimbo-inventory-demand) Kaggle competition.\n"
   ]
  },
  {
   "cell_type": "code",
   "execution_count": null,
   "metadata": {},
   "outputs": [],
   "source": [
    "data = pd.read_csv(f\"{PROJECT_ROOT}/data/grupo-bimbo-inventory-demand/train.csv\", nrows=200000, low_memory=False)\n",
    "clientes = pd.read_csv(f\"{PROJECT_ROOT}/data/grupo-bimbo-inventory-demand/cliente_tabla.csv\", low_memory=False)\n",
    "productos = pd.read_csv(f\"{PROJECT_ROOT}/data/grupo-bimbo-inventory-demand/producto_tabla.csv\", low_memory=False)\n",
    "town_state = pd.read_csv(f\"{PROJECT_ROOT}/data/grupo-bimbo-inventory-demand/town_state.csv\", low_memory=False)\n",
    "\n",
    "data = pd.merge(data, clientes, on=\"Cliente_ID\", how=\"left\")\n",
    "data = pd.merge(data, productos, on=\"Producto_ID\", how=\"left\")\n",
    "data = pd.merge(data, town_state, on=\"Agencia_ID\", how=\"left\")"
   ]
  },
  {
   "cell_type": "code",
   "execution_count": null,
   "metadata": {},
   "outputs": [
    {
     "data": {
      "text/html": [
       "<div>\n",
       "<style scoped>\n",
       "    .dataframe tbody tr th:only-of-type {\n",
       "        vertical-align: middle;\n",
       "    }\n",
       "\n",
       "    .dataframe tbody tr th {\n",
       "        vertical-align: top;\n",
       "    }\n",
       "\n",
       "    .dataframe thead th {\n",
       "        text-align: right;\n",
       "    }\n",
       "</style>\n",
       "<table border=\"1\" class=\"dataframe\">\n",
       "  <thead>\n",
       "    <tr style=\"text-align: right;\">\n",
       "      <th></th>\n",
       "      <th>Semana</th>\n",
       "      <th>Agencia_ID</th>\n",
       "      <th>Canal_ID</th>\n",
       "      <th>Ruta_SAK</th>\n",
       "      <th>Cliente_ID</th>\n",
       "      <th>Producto_ID</th>\n",
       "      <th>Venta_uni_hoy</th>\n",
       "      <th>Venta_hoy</th>\n",
       "      <th>Dev_uni_proxima</th>\n",
       "      <th>Dev_proxima</th>\n",
       "      <th>Demanda_uni_equil</th>\n",
       "      <th>NombreCliente</th>\n",
       "      <th>NombreProducto</th>\n",
       "      <th>Town</th>\n",
       "      <th>State</th>\n",
       "    </tr>\n",
       "  </thead>\n",
       "  <tbody>\n",
       "    <tr>\n",
       "      <th>0</th>\n",
       "      <td>3</td>\n",
       "      <td>1110</td>\n",
       "      <td>7</td>\n",
       "      <td>3301</td>\n",
       "      <td>15766</td>\n",
       "      <td>1212</td>\n",
       "      <td>3</td>\n",
       "      <td>25.14</td>\n",
       "      <td>0</td>\n",
       "      <td>0.0</td>\n",
       "      <td>3</td>\n",
       "      <td>PUESTO DE PERIODICOS LAZARO</td>\n",
       "      <td>Roles Canela 2p 120g BIM 1212</td>\n",
       "      <td>2008 AG. LAGO FILT</td>\n",
       "      <td>MÉXICO, D.F.</td>\n",
       "    </tr>\n",
       "    <tr>\n",
       "      <th>1</th>\n",
       "      <td>3</td>\n",
       "      <td>1110</td>\n",
       "      <td>7</td>\n",
       "      <td>3301</td>\n",
       "      <td>15766</td>\n",
       "      <td>1216</td>\n",
       "      <td>4</td>\n",
       "      <td>33.52</td>\n",
       "      <td>0</td>\n",
       "      <td>0.0</td>\n",
       "      <td>4</td>\n",
       "      <td>PUESTO DE PERIODICOS LAZARO</td>\n",
       "      <td>Roles Glass 2p 135g BIM 1216</td>\n",
       "      <td>2008 AG. LAGO FILT</td>\n",
       "      <td>MÉXICO, D.F.</td>\n",
       "    </tr>\n",
       "    <tr>\n",
       "      <th>2</th>\n",
       "      <td>3</td>\n",
       "      <td>1110</td>\n",
       "      <td>7</td>\n",
       "      <td>3301</td>\n",
       "      <td>15766</td>\n",
       "      <td>1238</td>\n",
       "      <td>4</td>\n",
       "      <td>39.32</td>\n",
       "      <td>0</td>\n",
       "      <td>0.0</td>\n",
       "      <td>4</td>\n",
       "      <td>PUESTO DE PERIODICOS LAZARO</td>\n",
       "      <td>Panquecito Gota Choc 2p 140g BIM 1238</td>\n",
       "      <td>2008 AG. LAGO FILT</td>\n",
       "      <td>MÉXICO, D.F.</td>\n",
       "    </tr>\n",
       "    <tr>\n",
       "      <th>3</th>\n",
       "      <td>3</td>\n",
       "      <td>1110</td>\n",
       "      <td>7</td>\n",
       "      <td>3301</td>\n",
       "      <td>15766</td>\n",
       "      <td>1240</td>\n",
       "      <td>4</td>\n",
       "      <td>33.52</td>\n",
       "      <td>0</td>\n",
       "      <td>0.0</td>\n",
       "      <td>4</td>\n",
       "      <td>PUESTO DE PERIODICOS LAZARO</td>\n",
       "      <td>Mantecadas Vainilla 4p 125g BIM 1240</td>\n",
       "      <td>2008 AG. LAGO FILT</td>\n",
       "      <td>MÉXICO, D.F.</td>\n",
       "    </tr>\n",
       "    <tr>\n",
       "      <th>4</th>\n",
       "      <td>3</td>\n",
       "      <td>1110</td>\n",
       "      <td>7</td>\n",
       "      <td>3301</td>\n",
       "      <td>15766</td>\n",
       "      <td>1242</td>\n",
       "      <td>3</td>\n",
       "      <td>22.92</td>\n",
       "      <td>0</td>\n",
       "      <td>0.0</td>\n",
       "      <td>3</td>\n",
       "      <td>PUESTO DE PERIODICOS LAZARO</td>\n",
       "      <td>Donitas Espolvoreadas 6p 105g BIM 1242</td>\n",
       "      <td>2008 AG. LAGO FILT</td>\n",
       "      <td>MÉXICO, D.F.</td>\n",
       "    </tr>\n",
       "    <tr>\n",
       "      <th>...</th>\n",
       "      <td>...</td>\n",
       "      <td>...</td>\n",
       "      <td>...</td>\n",
       "      <td>...</td>\n",
       "      <td>...</td>\n",
       "      <td>...</td>\n",
       "      <td>...</td>\n",
       "      <td>...</td>\n",
       "      <td>...</td>\n",
       "      <td>...</td>\n",
       "      <td>...</td>\n",
       "      <td>...</td>\n",
       "      <td>...</td>\n",
       "      <td>...</td>\n",
       "      <td>...</td>\n",
       "    </tr>\n",
       "    <tr>\n",
       "      <th>200735</th>\n",
       "      <td>3</td>\n",
       "      <td>1116</td>\n",
       "      <td>1</td>\n",
       "      <td>1466</td>\n",
       "      <td>2309869</td>\n",
       "      <td>1238</td>\n",
       "      <td>8</td>\n",
       "      <td>78.64</td>\n",
       "      <td>0</td>\n",
       "      <td>0.0</td>\n",
       "      <td>8</td>\n",
       "      <td>UNION DEL VALLE 2</td>\n",
       "      <td>Panquecito Gota Choc 2p 140g BIM 1238</td>\n",
       "      <td>2011 AG. SAN ANTONIO</td>\n",
       "      <td>MÉXICO, D.F.</td>\n",
       "    </tr>\n",
       "    <tr>\n",
       "      <th>200736</th>\n",
       "      <td>3</td>\n",
       "      <td>1116</td>\n",
       "      <td>1</td>\n",
       "      <td>1466</td>\n",
       "      <td>2309869</td>\n",
       "      <td>1240</td>\n",
       "      <td>8</td>\n",
       "      <td>67.04</td>\n",
       "      <td>0</td>\n",
       "      <td>0.0</td>\n",
       "      <td>8</td>\n",
       "      <td>UNION DEL VALLE 2</td>\n",
       "      <td>Mantecadas Vainilla 4p 125g BIM 1240</td>\n",
       "      <td>2011 AG. SAN ANTONIO</td>\n",
       "      <td>MÉXICO, D.F.</td>\n",
       "    </tr>\n",
       "    <tr>\n",
       "      <th>200737</th>\n",
       "      <td>3</td>\n",
       "      <td>1116</td>\n",
       "      <td>1</td>\n",
       "      <td>1466</td>\n",
       "      <td>2309869</td>\n",
       "      <td>1242</td>\n",
       "      <td>6</td>\n",
       "      <td>45.84</td>\n",
       "      <td>0</td>\n",
       "      <td>0.0</td>\n",
       "      <td>6</td>\n",
       "      <td>UNION DEL VALLE 2</td>\n",
       "      <td>Donitas Espolvoreadas 6p 105g BIM 1242</td>\n",
       "      <td>2011 AG. SAN ANTONIO</td>\n",
       "      <td>MÉXICO, D.F.</td>\n",
       "    </tr>\n",
       "    <tr>\n",
       "      <th>200738</th>\n",
       "      <td>3</td>\n",
       "      <td>1116</td>\n",
       "      <td>1</td>\n",
       "      <td>1466</td>\n",
       "      <td>2309869</td>\n",
       "      <td>1250</td>\n",
       "      <td>27</td>\n",
       "      <td>206.28</td>\n",
       "      <td>0</td>\n",
       "      <td>0.0</td>\n",
       "      <td>27</td>\n",
       "      <td>UNION DEL VALLE 2</td>\n",
       "      <td>Donas Azucar 4p 105g BIM 1250</td>\n",
       "      <td>2011 AG. SAN ANTONIO</td>\n",
       "      <td>MÉXICO, D.F.</td>\n",
       "    </tr>\n",
       "    <tr>\n",
       "      <th>200739</th>\n",
       "      <td>3</td>\n",
       "      <td>1116</td>\n",
       "      <td>1</td>\n",
       "      <td>1466</td>\n",
       "      <td>2309869</td>\n",
       "      <td>1278</td>\n",
       "      <td>13</td>\n",
       "      <td>58.50</td>\n",
       "      <td>0</td>\n",
       "      <td>0.0</td>\n",
       "      <td>13</td>\n",
       "      <td>UNION DEL VALLE 2</td>\n",
       "      <td>Nito 1p 62g BIM 1278</td>\n",
       "      <td>2011 AG. SAN ANTONIO</td>\n",
       "      <td>MÉXICO, D.F.</td>\n",
       "    </tr>\n",
       "  </tbody>\n",
       "</table>\n",
       "<p>200740 rows × 15 columns</p>\n",
       "</div>"
      ],
      "text/plain": [
       "        Semana  Agencia_ID  Canal_ID  Ruta_SAK  Cliente_ID  Producto_ID  \\\n",
       "0            3        1110         7      3301       15766         1212   \n",
       "1            3        1110         7      3301       15766         1216   \n",
       "2            3        1110         7      3301       15766         1238   \n",
       "3            3        1110         7      3301       15766         1240   \n",
       "4            3        1110         7      3301       15766         1242   \n",
       "...        ...         ...       ...       ...         ...          ...   \n",
       "200735       3        1116         1      1466     2309869         1238   \n",
       "200736       3        1116         1      1466     2309869         1240   \n",
       "200737       3        1116         1      1466     2309869         1242   \n",
       "200738       3        1116         1      1466     2309869         1250   \n",
       "200739       3        1116         1      1466     2309869         1278   \n",
       "\n",
       "        Venta_uni_hoy  Venta_hoy  Dev_uni_proxima  Dev_proxima  \\\n",
       "0                   3      25.14                0          0.0   \n",
       "1                   4      33.52                0          0.0   \n",
       "2                   4      39.32                0          0.0   \n",
       "3                   4      33.52                0          0.0   \n",
       "4                   3      22.92                0          0.0   \n",
       "...               ...        ...              ...          ...   \n",
       "200735              8      78.64                0          0.0   \n",
       "200736              8      67.04                0          0.0   \n",
       "200737              6      45.84                0          0.0   \n",
       "200738             27     206.28                0          0.0   \n",
       "200739             13      58.50                0          0.0   \n",
       "\n",
       "        Demanda_uni_equil                NombreCliente  \\\n",
       "0                       3  PUESTO DE PERIODICOS LAZARO   \n",
       "1                       4  PUESTO DE PERIODICOS LAZARO   \n",
       "2                       4  PUESTO DE PERIODICOS LAZARO   \n",
       "3                       4  PUESTO DE PERIODICOS LAZARO   \n",
       "4                       3  PUESTO DE PERIODICOS LAZARO   \n",
       "...                   ...                          ...   \n",
       "200735                  8            UNION DEL VALLE 2   \n",
       "200736                  8            UNION DEL VALLE 2   \n",
       "200737                  6            UNION DEL VALLE 2   \n",
       "200738                 27            UNION DEL VALLE 2   \n",
       "200739                 13            UNION DEL VALLE 2   \n",
       "\n",
       "                                NombreProducto                  Town  \\\n",
       "0                Roles Canela 2p 120g BIM 1212    2008 AG. LAGO FILT   \n",
       "1                 Roles Glass 2p 135g BIM 1216    2008 AG. LAGO FILT   \n",
       "2        Panquecito Gota Choc 2p 140g BIM 1238    2008 AG. LAGO FILT   \n",
       "3         Mantecadas Vainilla 4p 125g BIM 1240    2008 AG. LAGO FILT   \n",
       "4       Donitas Espolvoreadas 6p 105g BIM 1242    2008 AG. LAGO FILT   \n",
       "...                                        ...                   ...   \n",
       "200735   Panquecito Gota Choc 2p 140g BIM 1238  2011 AG. SAN ANTONIO   \n",
       "200736    Mantecadas Vainilla 4p 125g BIM 1240  2011 AG. SAN ANTONIO   \n",
       "200737  Donitas Espolvoreadas 6p 105g BIM 1242  2011 AG. SAN ANTONIO   \n",
       "200738           Donas Azucar 4p 105g BIM 1250  2011 AG. SAN ANTONIO   \n",
       "200739                    Nito 1p 62g BIM 1278  2011 AG. SAN ANTONIO   \n",
       "\n",
       "               State  \n",
       "0       MÉXICO, D.F.  \n",
       "1       MÉXICO, D.F.  \n",
       "2       MÉXICO, D.F.  \n",
       "3       MÉXICO, D.F.  \n",
       "4       MÉXICO, D.F.  \n",
       "...              ...  \n",
       "200735  MÉXICO, D.F.  \n",
       "200736  MÉXICO, D.F.  \n",
       "200737  MÉXICO, D.F.  \n",
       "200738  MÉXICO, D.F.  \n",
       "200739  MÉXICO, D.F.  \n",
       "\n",
       "[200740 rows x 15 columns]"
      ]
     },
     "execution_count": null,
     "metadata": {},
     "output_type": "execute_result"
    }
   ],
   "source": [
    "data"
   ]
  },
  {
   "cell_type": "code",
   "execution_count": null,
   "metadata": {},
   "outputs": [],
   "source": [
    "categorical_cols = [\"Agencia_ID\", \"Canal_ID\", \"Ruta_SAK\", \"Cliente_ID\", \"Producto_ID\"]\n",
    "\n",
    "label_encoders = {}\n",
    "for col in categorical_cols:\n",
    "    le = LabelEncoder()\n",
    "    le.fit(data[col])\n",
    "    data[col] = le.transform(data[col])\n",
    "    label_encoders[col] = le\n"
   ]
  },
  {
   "cell_type": "code",
   "execution_count": null,
   "metadata": {},
   "outputs": [],
   "source": [
    "num_unique_vals = {col: data[col].nunique() for col in categorical_cols}\n",
    "embedding_sizes = {col: min(50, num_unique_vals[col] // 2) for col in categorical_cols}"
   ]
  },
  {
   "cell_type": "code",
   "execution_count": null,
   "metadata": {},
   "outputs": [
    {
     "data": {
      "text/plain": [
       "{'Agencia_ID': 6,\n",
       " 'Canal_ID': 6,\n",
       " 'Ruta_SAK': 343,\n",
       " 'Cliente_ID': 10472,\n",
       " 'Producto_ID': 478}"
      ]
     },
     "execution_count": null,
     "metadata": {},
     "output_type": "execute_result"
    }
   ],
   "source": [
    "num_unique_vals\n"
   ]
  },
  {
   "cell_type": "code",
   "execution_count": null,
   "metadata": {},
   "outputs": [
    {
     "data": {
      "text/plain": [
       "{'Agencia_ID': 3,\n",
       " 'Canal_ID': 3,\n",
       " 'Ruta_SAK': 50,\n",
       " 'Cliente_ID': 50,\n",
       " 'Producto_ID': 50}"
      ]
     },
     "execution_count": null,
     "metadata": {},
     "output_type": "execute_result"
    }
   ],
   "source": [
    "embedding_sizes\n"
   ]
  },
  {
   "cell_type": "code",
   "execution_count": null,
   "metadata": {},
   "outputs": [],
   "source": [
    "X = data[categorical_cols].values\n",
    "y = data[\"Demanda_uni_equil\"].values\n"
   ]
  },
  {
   "cell_type": "code",
   "execution_count": null,
   "metadata": {},
   "outputs": [
    {
     "data": {
      "text/plain": [
       "array([[   0,    3,  293,    3,   43],\n",
       "       [   0,    3,  293,    3,   44],\n",
       "       [   0,    3,  293,    3,   48],\n",
       "       ...,\n",
       "       [   5,    0,  235, 7722,   50],\n",
       "       [   5,    0,  235, 7722,   51],\n",
       "       [   5,    0,  235, 7722,   53]])"
      ]
     },
     "execution_count": null,
     "metadata": {},
     "output_type": "execute_result"
    }
   ],
   "source": [
    "X"
   ]
  },
  {
   "cell_type": "code",
   "execution_count": null,
   "metadata": {},
   "outputs": [
    {
     "data": {
      "text/plain": [
       "array([ 3,  4,  4, ...,  6, 27, 13])"
      ]
     },
     "execution_count": null,
     "metadata": {},
     "output_type": "execute_result"
    }
   ],
   "source": [
    "y"
   ]
  },
  {
   "cell_type": "code",
   "execution_count": null,
   "metadata": {},
   "outputs": [],
   "source": [
    "X_train, X_val, y_train, y_val = train_test_split(X, y, test_size=0.2, random_state=0)"
   ]
  },
  {
   "cell_type": "code",
   "execution_count": null,
   "metadata": {},
   "outputs": [],
   "source": [
    "class BimboDataset(Dataset):\n",
    "    def __init__(self, X, y):\n",
    "        self.X = [torch.tensor(X[:, i], dtype=torch.long) for i in range(X.shape[1])]\n",
    "        self.y = torch.tensor(y, dtype=torch.float32)\n",
    "\n",
    "    def __len__(self):\n",
    "        return len(self.y)\n",
    "\n",
    "    def __getitem__(self, idx):\n",
    "        return [x[idx] for x in self.X], self.y[idx]\n"
   ]
  },
  {
   "cell_type": "code",
   "execution_count": null,
   "metadata": {},
   "outputs": [],
   "source": [
    "train_dataset = BimboDataset(X_train, y_train)\n",
    "val_dataset = BimboDataset(X_val, y_val)\n",
    "\n",
    "train_loader = DataLoader(train_dataset, batch_size=128, shuffle=True)\n",
    "val_loader = DataLoader(val_dataset, batch_size=128, shuffle=False)\n"
   ]
  },
  {
   "cell_type": "code",
   "execution_count": null,
   "metadata": {},
   "outputs": [],
   "source": [
    "class SimpleModel(nn.Module):\n",
    "    def __init__(self, embedding_sizes, hidden_size=128):\n",
    "        super(SimpleModel, self).__init__()\n",
    "        self.embeddings = nn.ModuleList(\n",
    "            [nn.Embedding(num_unique_vals[col], embedding_sizes[col]) for col in categorical_cols]\n",
    "        )\n",
    "        self.fc1 = nn.Linear(sum(embedding_sizes.values()), hidden_size)\n",
    "        self.fc2 = nn.Linear(hidden_size, hidden_size)\n",
    "        self.fc3 = nn.Linear(hidden_size, 1)\n",
    "\n",
    "    def forward(self, x):\n",
    "        x = [embedding(x_i) for x_i, embedding in zip(x, self.embeddings)]\n",
    "        x = torch.cat(x, dim=-1)\n",
    "        x = torch.relu(self.fc1(x))\n",
    "        x = torch.relu(self.fc2(x))\n",
    "        x = self.fc3(x).squeeze(-1)\n",
    "        return x"
   ]
  },
  {
   "cell_type": "code",
   "execution_count": null,
   "metadata": {},
   "outputs": [],
   "source": [
    "def train_model(loss_fn, num_epochs=5):\n",
    "    model = SimpleModel(embedding_sizes)\n",
    "    optimizer = optim.Adam(model.parameters(), lr=0.005)\n",
    "\n",
    "    # Training loop\n",
    "    for epoch in range(num_epochs):\n",
    "        model.train()\n",
    "        train_loss = 0.0\n",
    "        for inputs, targets in train_loader:\n",
    "            optimizer.zero_grad()\n",
    "            outputs = model(inputs).squeeze()\n",
    "            loss = loss_fn(outputs, targets)\n",
    "            loss.backward()\n",
    "            optimizer.step()\n",
    "            train_loss += loss.item()\n",
    "\n",
    "        train_loss /= len(train_loader)\n",
    "        # Validation loop\n",
    "        model.eval()\n",
    "        val_loss = 0.0\n",
    "        val_preds = []\n",
    "        val_targets = []\n",
    "        with torch.no_grad():\n",
    "            for inputs, targets in val_loader:\n",
    "                outputs = model(inputs).squeeze()\n",
    "                loss = loss_fn(outputs, targets)\n",
    "                val_loss += loss.item()\n",
    "                val_preds.extend(outputs.tolist())\n",
    "                val_targets.extend(targets.tolist())\n",
    "\n",
    "        val_loss /= len(val_loader)\n",
    "        r2 = r2_score(val_targets, val_preds)\n",
    "        print({\"epoch\": epoch, \"train_loss\": train_loss, \"val_loss\": val_loss, \"r_squared\": r2})\n",
    "    return model, np.array(val_preds), np.array(val_targets)"
   ]
  },
  {
   "cell_type": "code",
   "execution_count": null,
   "metadata": {},
   "outputs": [],
   "source": [
    "def log_business_metrics(stocking_decisions, actual_demand, name, tags):\n",
    "    frac_understocks = (stocking_decisions < actual_demand).mean()\n",
    "    total_understocked_amt = (actual_demand - stocking_decisions).clip(0).sum()\n",
    "    frac_overstocks = (stocking_decisions > actual_demand).mean()\n",
    "    total_overstocked_amt = (stocking_decisions - actual_demand).clip(0).sum()\n",
    "    utility = -3 * total_understocked_amt - total_overstocked_amt\n",
    "    mae = mean_absolute_error(actual_demand, stocking_decisions)\n",
    "    mse = mean_squared_error(actual_demand, stocking_decisions)\n",
    "    r2 = r2_score(actual_demand, stocking_decisions)\n",
    "\n",
    "    print(\n",
    "        {\n",
    "            \"frac_understocks\": frac_understocks,\n",
    "            \"total_understocked_amt\": total_understocked_amt,\n",
    "            \"frac_overstocks\": frac_overstocks,\n",
    "            \"total_overstocked_amt\": total_overstocked_amt,\n",
    "            \"utility\": utility,\n",
    "            \"mae\": mae,\n",
    "            \"mse\": mse,\n",
    "            \"r2_score\": r2,\n",
    "        }\n",
    "    )\n",
    "    return"
   ]
  },
  {
   "cell_type": "code",
   "execution_count": null,
   "metadata": {},
   "outputs": [
    {
     "name": "stdout",
     "output_type": "stream",
     "text": [
      "{'epoch': 0, 'train_loss': 377.6694202195126, 'val_loss': 248.30723958106557, 'r_squared': 0.5973987522699671}\n",
      "{'epoch': 1, 'train_loss': 257.1380700016402, 'val_loss': 203.92301788147847, 'r_squared': 0.6693401307703193}\n",
      "{'epoch': 2, 'train_loss': 189.56163436312124, 'val_loss': 184.47238147638407, 'r_squared': 0.7008787059328843}\n",
      "{'epoch': 3, 'train_loss': 152.40557876906072, 'val_loss': 166.08334452331445, 'r_squared': 0.7307139029616806}\n",
      "{'epoch': 4, 'train_loss': 130.24035612463476, 'val_loss': 200.58960523423116, 'r_squared': 0.6748133574345319}\n",
      "{'frac_understocks': 0.3161054099830627, 'total_understocked_amt': 80497.0, 'frac_overstocks': 0.5401514396732091, 'total_overstocked_amt': 89001.0, 'utility': -330492.0, 'mae': 4.221829231842184, 'mse': 200.7810102620305, 'r2_score': 0.6747476477175408}\n"
     ]
    }
   ],
   "source": [
    "loss = nn.MSELoss()\n",
    "mse_model, mse_val_preds, mse_val_targets = train_model(loss, num_epochs=5)\n",
    "\n",
    "mse_val_stock = np.ceil(mse_val_preds)\n",
    "log_business_metrics(\n",
    "    mse_val_stock, mse_val_targets, \"mse_loss_predictions\", tags=[\"mse_loss\", \"stock_predicted_sales\"]\n",
    ")\n"
   ]
  },
  {
   "cell_type": "code",
   "execution_count": null,
   "metadata": {},
   "outputs": [
    {
     "name": "stdout",
     "output_type": "stream",
     "text": [
      "{'frac_understocks': 0.14772840490186312, 'total_understocked_amt': 36936.0, 'frac_overstocks': 0.7803875660057786, 'total_overstocked_amt': 210560.0, 'utility': -321368.0, 'mae': 6.164591013250972, 'mse': 490.4333964331972, 'r2_score': 0.20552936943788813}\n"
     ]
    }
   ],
   "source": [
    "alternative_stocking_rule = np.ceil(1.5 * mse_val_preds)\n",
    "log_business_metrics(\n",
    "    alternative_stocking_rule,\n",
    "    mse_val_targets,\n",
    "    \"50_pct_above_mse_loss_predictions\",\n",
    "    tags=[\"mse_loss\", \"stock_50_pct_above_predicted_sales\"],\n",
    ")"
   ]
  },
  {
   "cell_type": "code",
   "execution_count": null,
   "metadata": {},
   "outputs": [
    {
     "name": "stdout",
     "output_type": "stream",
     "text": [
      "{'epoch': 0, 'train_loss': 4.907322489597883, 'val_loss': 4.367740741201267, 'r_squared': 0.450005703275947}\n",
      "{'epoch': 1, 'train_loss': 4.029110068344025, 'val_loss': 3.9602960006446595, 'r_squared': 0.6196152860668505}\n",
      "{'epoch': 2, 'train_loss': 3.7393676879396476, 'val_loss': 3.8238000915308668, 'r_squared': 0.6381785889739313}\n",
      "{'epoch': 3, 'train_loss': 3.5717267953067187, 'val_loss': 3.8336028012500445, 'r_squared': 0.67578641814034}\n",
      "{'epoch': 4, 'train_loss': 3.4153030153289734, 'val_loss': 3.8017366418413294, 'r_squared': 0.6876270556981994}\n",
      "{'frac_understocks': 0.36973199163096543, 'total_understocked_amt': 93943.0, 'frac_overstocks': 0.45912623293812893, 'total_overstocked_amt': 58574.0, 'utility': -340403.0, 'mae': 3.798869184019129, 'mse': 191.7978728703796, 'r2_score': 0.68929975383404}\n"
     ]
    }
   ],
   "source": [
    "loss = nn.L1Loss()\n",
    "mae_model, mae_val_preds, mae_val_targets = train_model(loss, num_epochs=5)\n",
    "\n",
    "mae_val_stock = np.ceil(mae_val_preds)\n",
    "log_business_metrics(\n",
    "    mae_val_stock, mae_val_targets, \"mae_loss_predictions\", tags=[\"mae_loss\", \"stock_predicted_sales\"]\n",
    ")\n"
   ]
  },
  {
   "cell_type": "code",
   "execution_count": null,
   "metadata": {},
   "outputs": [
    {
     "name": "stdout",
     "output_type": "stream",
     "text": [
      "{'frac_understocks': 0.17936136295705887, 'total_understocked_amt': 44235.0, 'frac_overstocks': 0.7339095347215303, 'total_overstocked_amt': 153916.0, 'utility': -286621.0, 'mae': 4.93551359968118, 'mse': 230.86268307263126, 'r2_score': 0.6260172681389624}\n"
     ]
    }
   ],
   "source": [
    "above_mae_stocking_rule = np.ceil(1.5 * mae_val_preds)\n",
    "log_business_metrics(\n",
    "    above_mae_stocking_rule,\n",
    "    mse_val_targets,\n",
    "    \"50_pct_above_mae_loss_predictions\",\n",
    "    tags=[\"mse_loss\", \"stock_50_pct_above_predicted_sales\"],\n",
    ")"
   ]
  },
  {
   "cell_type": "code",
   "execution_count": null,
   "metadata": {},
   "outputs": [],
   "source": [
    "class CustomLoss(nn.Module):\n",
    "    def __init__(self):\n",
    "        super(CustomLoss, self).__init__()\n",
    "\n",
    "    def forward(self, outputs, actual):\n",
    "        diff = outputs - actual\n",
    "        loss = torch.where(outputs > actual, diff, -3 * diff)\n",
    "        return loss.mean()"
   ]
  },
  {
   "cell_type": "code",
   "execution_count": null,
   "metadata": {},
   "outputs": [],
   "source": [
    "custom_model, custom_val_preds, custom_val_targets = train_model(CustomLoss(), num_epochs=5)\n",
    "\n",
    "custom_val_stock = np.ceil(custom_val_preds)\n",
    "log_business_metrics(\n",
    "    custom_val_stock, custom_val_targets, \"utility_fn_loss_predictions\", tags=[\"stock_predicted_sales\"]\n",
    ")"
   ]
  }
 ],
 "metadata": {
  "kernelspec": {
   "display_name": "python3",
   "language": "python",
   "name": "python3"
  }
 },
 "nbformat": 4,
 "nbformat_minor": 2
}
