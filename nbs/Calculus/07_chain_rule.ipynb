{
 "cells": [
  {
   "attachments": {},
   "cell_type": "markdown",
   "metadata": {},
   "source": [
    "# Chain Rule\n",
    "\n",
    "- skip_exec: true\n"
   ]
  },
  {
   "cell_type": "code",
   "execution_count": null,
   "metadata": {},
   "outputs": [],
   "source": [
    "import sympy"
   ]
  },
  {
   "attachments": {},
   "cell_type": "markdown",
   "metadata": {},
   "source": [
    "The chain rule is a fundamental concept in calculus that allows you to compute the derivative of a composite function. In other words, if you have a function that is formed by combining two or more functions, the chain rule helps you find the derivative of the resulting function with respect to its input variable(s).\n",
    "\n",
    "Mathematically, the chain rule states that for two functions, $f(x)$ and $g(x)$, the derivative of their composition $$h(x) = f(g(x))$$ is\n",
    "\n",
    "$$h'(x) = f'(g(x)) * g'(x)$$\n",
    "\n",
    "where $h'(x)$ is the derivative of $h(x)$ with respect to $x$, $f'(g(x))$ is the derivative of $f$ with respect to $g(x)$, and $g'(x)$ is the derivative of $g$ with respect to $x$.\n"
   ]
  },
  {
   "attachments": {},
   "cell_type": "markdown",
   "metadata": {},
   "source": [
    "## Examples\n"
   ]
  },
  {
   "attachments": {},
   "cell_type": "markdown",
   "metadata": {},
   "source": [
    "**Find the derivative of the composite function $h(x) = (2x^2 + 3)^5$ with respect to $x$.**\n",
    "\n",
    "1. Define functions $f(x)$ and $g(x)$\n",
    "\n",
    "$$\n",
    "\\begin{aligned}\n",
    "f(x) &= x^5 \\\\\n",
    "g(x) &= 2x^2 + 3\n",
    "\\end{aligned}\n",
    "$$\n",
    "\n",
    "2. Compute the derivatives\n",
    "\n",
    "$$\n",
    "\\begin{aligned}\n",
    "f'(x) &= 5x^4 \\\\\n",
    "g'(x) &= 4x\n",
    "\\end{aligned}\n",
    "$$\n",
    "\n",
    "2. Apply the chain rule\n",
    "\n",
    "$$\n",
    "\\begin{aligned}\n",
    "h'(x) &= f'(g(x)) * g'(x) \\\\\n",
    "&= 5(2x^2 + 3)^4 * 4x \\\\\n",
    "&= 20x(2x^2 + 3)^4\n",
    "\\end{aligned}\n",
    "$$\n"
   ]
  },
  {
   "attachments": {},
   "cell_type": "markdown",
   "metadata": {},
   "source": [
    "It's possible to check this using the sympy library\n"
   ]
  },
  {
   "cell_type": "code",
   "execution_count": null,
   "metadata": {},
   "outputs": [
    {
     "data": {
      "text/latex": [
       "$\\displaystyle 20 x \\left(2 x^{2} + 3\\right)^{4}$"
      ],
      "text/plain": [
       "20*x*(2*x**2 + 3)**4"
      ]
     },
     "execution_count": null,
     "metadata": {},
     "output_type": "execute_result"
    }
   ],
   "source": [
    "x = sympy.symbols(\"x\")\n",
    "\n",
    "f_x = x**5\n",
    "g_x = 2 * x**2 + 3\n",
    "\n",
    "f_prime = sympy.diff(f_x, x)\n",
    "g_prime = sympy.diff(g_x, x)\n",
    "\n",
    "h_prime = f_prime.subs(x, g_x) * g_prime\n",
    "\n",
    "sympy.simplify(h_prime)\n"
   ]
  },
  {
   "cell_type": "code",
   "execution_count": null,
   "metadata": {},
   "outputs": [],
   "source": []
  }
 ],
 "metadata": {
  "kernelspec": {
   "display_name": "python3",
   "language": "python",
   "name": "python3"
  }
 },
 "nbformat": 4,
 "nbformat_minor": 2
}
