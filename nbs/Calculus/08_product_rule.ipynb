{
 "cells": [
  {
   "attachments": {},
   "cell_type": "markdown",
   "metadata": {},
   "source": [
    "# Product Rule\n"
   ]
  },
  {
   "cell_type": "code",
   "execution_count": null,
   "metadata": {},
   "outputs": [],
   "source": [
    "import sympy"
   ]
  },
  {
   "attachments": {},
   "cell_type": "markdown",
   "metadata": {},
   "source": [
    "The product rule is a fundamental concept in calculus used to compute the derivative of the product of two functions. If you have two functions, $f(x)$ and $g(x)$, the product rule helps you find the derivative of their product $$h(x) = f(x)g(x)$$ with respect to $x$. Mathematically, the product rule states that:\n",
    "\n",
    "$$\n",
    "h'(x) = f'(x)g(x) + f(x)g'(x)\n",
    "$$\n",
    "\n",
    "where $h'(x)$ is the derivative of $h(x)$ with respect to $x$, $f'(x)$ is the derivative of $f(x)$ with respect to $x$, and $g'(x)$ is the derivative of $g(x)$ with respect to $x$.\n"
   ]
  },
  {
   "attachments": {},
   "cell_type": "markdown",
   "metadata": {},
   "source": [
    "## Example\n",
    "\n",
    "**Find the derivative of the product function $h(x) = (x^2 + 1)(3x - 4)$ with respect to $x$**\n",
    "\n",
    "1. Define the functions $f(x)$ and $g(x)$:\n",
    "\n",
    "$$\n",
    "\\begin{aligned}\n",
    "f(x) &= x^2 + 1 \\\\\n",
    "g(x) &= 3x - 4\n",
    "\\end{aligned}\n",
    "$$\n",
    "\n",
    "2. Compute the derivatives:\n",
    "\n",
    "$$\n",
    "\\begin{aligned}\n",
    "f'(x) &= 2x \\\\\n",
    "g'(x) &= 3\n",
    "\\end{aligned}\n",
    "$$\n",
    "\n",
    "3. Apply the product rule:\n",
    "\n",
    "$$\n",
    "\\begin{aligned}\n",
    "h'(x) &= f'(x)g(x) + f(x)g'(x) \\\\\n",
    "&= 2x(3x - 4) + (x^2 + 1)(3) \\\\\n",
    "&= 9x^2 - 8x + 3 \\\\\n",
    "\\end{aligned}\n",
    "$$\n"
   ]
  },
  {
   "attachments": {},
   "cell_type": "markdown",
   "metadata": {},
   "source": [
    "In Sympy this looks like\n"
   ]
  },
  {
   "cell_type": "code",
   "execution_count": null,
   "metadata": {},
   "outputs": [
    {
     "data": {
      "text/latex": [
       "$\\displaystyle 9 x^{2} - 8 x + 3$"
      ],
      "text/plain": [
       "9*x**2 - 8*x + 3"
      ]
     },
     "execution_count": null,
     "metadata": {},
     "output_type": "execute_result"
    }
   ],
   "source": [
    "x = sympy.symbols(\"x\")\n",
    "\n",
    "u_x = x**2 + 1\n",
    "v_x = 3 * x - 4\n",
    "\n",
    "u_prime = sympy.diff(u_x, x)\n",
    "v_prime = sympy.diff(v_x, x)\n",
    "\n",
    "w_prime = u_prime * v_x + u_x * v_prime\n",
    "\n",
    "sympy.simplify(w_prime)\n"
   ]
  },
  {
   "cell_type": "code",
   "execution_count": null,
   "metadata": {},
   "outputs": [],
   "source": []
  }
 ],
 "metadata": {
  "kernelspec": {
   "display_name": "python3",
   "language": "python",
   "name": "python3"
  }
 },
 "nbformat": 4,
 "nbformat_minor": 2
}
