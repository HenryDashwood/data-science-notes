{
 "cells": [
  {
   "attachments": {},
   "cell_type": "markdown",
   "metadata": {},
   "source": [
    "# Quotient Rule\n"
   ]
  },
  {
   "cell_type": "code",
   "execution_count": null,
   "metadata": {},
   "outputs": [],
   "source": [
    "import sympy\n"
   ]
  },
  {
   "attachments": {},
   "cell_type": "markdown",
   "metadata": {},
   "source": [
    "The quotient rule is an important concept in calculus used to compute the derivative of the quotient (division) of two functions. If you have two functions, $f(x)$ and $g(x)$, the quotient rule helps you find the derivative of their quotient $$h(x) = \\frac{f(x)}{g(x}$$ with respect to $x$. Mathematically, the quotient rule states that:\n",
    "\n",
    "$$h'(x) = \\frac{f'(x)g(x) - f(x)g'(x)}{f(x)^2}$$\n",
    "\n",
    "where $h'(x)$ is the derivative of $h(x)$ with respect to $x$, $f'(x)$ is the derivative of $f(x)$ with respect to $x$, and $g'(x)$ is the derivative of $g(x)$ with respect to $x$.\n"
   ]
  },
  {
   "attachments": {},
   "cell_type": "markdown",
   "metadata": {},
   "source": [
    "## Example\n",
    "\n",
    "**Example: Find the derivative of the quotient function $h(x) = \\frac{x^2 + 1}{3x - 4}$ with respect to $x$.**\n",
    "\n",
    "1. Define the functions $f(x)$ and $g(x)$:\n",
    "\n",
    "$$\n",
    "\\begin{aligned}\n",
    "f(x) &= x^2 + 1 \\\\\n",
    "g(x) &= 3x - 4\n",
    "\\end{aligned}\n",
    "$$\n",
    "\n",
    "2. Compute the derivatives:\n",
    "\n",
    "$$\n",
    "\\begin{aligned}\n",
    "f'(x) &= 2x \\\\\n",
    "g'(x) &= 3\n",
    "\\end{aligned}\n",
    "$$\n",
    "\n",
    "3. Apply the quotient rule:\n",
    "\n",
    "$$\n",
    "\\begin{aligned}\n",
    "h'(x) &= \\frac{f'(x)g(x) - f(x)g'(x)}{f(x)^2} \\\\\n",
    "&= \\frac{2x(3x - 4) - 3(x^2 + 1)}{(3x - 4)^2} \\\\\n",
    "&= \\frac{3x^2 - 8x - 3}{9x^2 - 24x + 16}\n",
    "\\end{aligned}\n",
    "$$\n"
   ]
  },
  {
   "attachments": {},
   "cell_type": "markdown",
   "metadata": {},
   "source": [
    "In Sympy this looks like:\n"
   ]
  },
  {
   "cell_type": "code",
   "execution_count": null,
   "metadata": {},
   "outputs": [
    {
     "data": {
      "text/latex": [
       "$\\displaystyle \\frac{3 x^{2} - 8 x - 3}{9 x^{2} - 24 x + 16}$"
      ],
      "text/plain": [
       "(3*x**2 - 8*x - 3)/(9*x**2 - 24*x + 16)"
      ]
     },
     "execution_count": null,
     "metadata": {},
     "output_type": "execute_result"
    }
   ],
   "source": [
    "x = sympy.symbols(\"x\")\n",
    "\n",
    "u_x = x**2 + 1\n",
    "v_x = 3 * x - 4\n",
    "\n",
    "u_prime = sympy.diff(u_x, x)\n",
    "v_prime = sympy.diff(v_x, x)\n",
    "\n",
    "w_prime = (u_prime * v_x - u_x * v_prime) / v_x**2\n",
    "\n",
    "sympy.simplify(w_prime)\n"
   ]
  },
  {
   "cell_type": "code",
   "execution_count": null,
   "metadata": {},
   "outputs": [],
   "source": []
  }
 ],
 "metadata": {
  "kernelspec": {
   "display_name": "python3",
   "language": "python",
   "name": "python3"
  }
 },
 "nbformat": 4,
 "nbformat_minor": 2
}
